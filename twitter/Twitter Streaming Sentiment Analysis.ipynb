{
 "metadata": {
  "name": ""
 },
 "nbformat": 3,
 "nbformat_minor": 0,
 "worksheets": [
  {
   "cells": [
    {
     "cell_type": "code",
     "collapsed": false,
     "input": [
      "import json"
     ],
     "language": "python",
     "metadata": {},
     "outputs": [],
     "prompt_number": 1
    },
    {
     "cell_type": "code",
     "collapsed": false,
     "input": [
      "from tweepy.streaming import StreamListener"
     ],
     "language": "python",
     "metadata": {},
     "outputs": [],
     "prompt_number": 2
    },
    {
     "cell_type": "code",
     "collapsed": false,
     "input": [
      "from tweepy import OAuthHandler, Stream"
     ],
     "language": "python",
     "metadata": {},
     "outputs": [],
     "prompt_number": 4
    },
    {
     "cell_type": "code",
     "collapsed": false,
     "input": [
      "from textblob import TextBlob"
     ],
     "language": "python",
     "metadata": {},
     "outputs": [],
     "prompt_number": 5
    },
    {
     "cell_type": "code",
     "collapsed": false,
     "input": [
      "from elasticsearch import Elasticsearch"
     ],
     "language": "python",
     "metadata": {},
     "outputs": [],
     "prompt_number": 6
    },
    {
     "cell_type": "code",
     "collapsed": false,
     "input": [
      "from login import *"
     ],
     "language": "python",
     "metadata": {},
     "outputs": [],
     "prompt_number": 87
    },
    {
     "cell_type": "code",
     "collapsed": false,
     "input": [
      "es = Elasticsearch()"
     ],
     "language": "python",
     "metadata": {},
     "outputs": [],
     "prompt_number": 88
    },
    {
     "cell_type": "code",
     "collapsed": false,
     "input": [
      "class TweetStreamListener(StreamListener):\n",
      "    def on_data(self, data):\n",
      "        tweet = json.loads(data)\n",
      "        analysis = TextBlob(tweet[\"text\"])\n",
      "        sentiment = \"Neutral  \"\n",
      "        if analysis.sentiment.polarity > 0:\n",
      "            sentiment = \"Positive \"\n",
      "        elif analysis.sentiment.polarity < 0:\n",
      "            sentiment = \"Negative \"\n",
      "        print \"||\" + tweet[\"created_at\"][4:-10] + \"|| \" + sentiment + \" ::\" + tweet[\"text\"][:70]\n",
      "        \n",
      "        es.index(index=\"sentiment\",\n",
      "                 doc_type=\"tweet_storage\",\n",
      "                 body={\"author\":tweet[\"user\"][\"screen_name\"],\n",
      "                       \"date\":tweet[\"created_at\"],\n",
      "                       \"message\":tweet[\"text\"],\n",
      "                       \"polarity\":analysis.sentiment.polarity,\n",
      "                       \"subjectivity\":analysis.sentiment.subjectivity,\n",
      "                       \"sentiment\": sentiment})\n",
      "        return True\n",
      "    \n",
      "    def on_error(self, status):\n",
      "        print status\n",
      "        "
     ],
     "language": "python",
     "metadata": {},
     "outputs": [],
     "prompt_number": 89
    },
    {
     "cell_type": "code",
     "collapsed": false,
     "input": [
      "listener = TweetStreamListener()"
     ],
     "language": "python",
     "metadata": {},
     "outputs": [],
     "prompt_number": 90
    },
    {
     "cell_type": "code",
     "collapsed": false,
     "input": [
      "auth_key = OAuthHandler(consumer_key, consumer_secret)"
     ],
     "language": "python",
     "metadata": {},
     "outputs": [],
     "prompt_number": 91
    },
    {
     "cell_type": "code",
     "collapsed": false,
     "input": [
      "auth_key.set_access_token(access_token, access_token_secret)"
     ],
     "language": "python",
     "metadata": {},
     "outputs": [],
     "prompt_number": 92
    },
    {
     "cell_type": "code",
     "collapsed": false,
     "input": [
      "live_twitter_stream = Stream(auth_key, listener)"
     ],
     "language": "python",
     "metadata": {},
     "outputs": [],
     "prompt_number": 93
    },
    {
     "cell_type": "code",
     "collapsed": false,
     "input": [
      "live_twitter_stream.filter(track=['dodgers'])"
     ],
     "language": "python",
     "metadata": {},
     "outputs": [
      {
       "output_type": "stream",
       "stream": "stdout",
       "text": [
        "||Apr 07 23:09:28 || Positive  ::I love watching the Dodgers and Giants go at it, I love how the teams \n",
        "||Apr 07 23:09:28 || Neutral   ::Los Angeles Dodgers VS. San Francisco Giants, Sports Betting, Baseball"
       ]
      },
      {
       "output_type": "stream",
       "stream": "stdout",
       "text": [
        "\n",
        "||Apr 07 23:09:28 || Neutral   ::RT @WoodBatBrat: When the Dodgers and Giants are playing you know #Bas"
       ]
      },
      {
       "output_type": "stream",
       "stream": "stdout",
       "text": [
        "\n",
        "||Apr 07 23:09:30 || Positive  ::#SFGiants lead 7-4 over #Dodgers at top 8th. #OpeningDay"
       ]
      },
      {
       "output_type": "stream",
       "stream": "stdout",
       "text": [
        "\n",
        "||Apr 07 23:09:31 || Neutral   ::@Dodgers support @HillaryClinton"
       ]
      },
      {
       "output_type": "stream",
       "stream": "stdout",
       "text": [
        "\n",
        "||Apr 07 23:09:32 || Neutral   ::@t_jh2009 let's Go Dodgers. Comeback"
       ]
      },
      {
       "output_type": "stream",
       "stream": "stdout",
       "text": [
        "\n",
        "||Apr 07 23:09:33 || Positive  ::Ah yes my first shit talking card of baseball season. So excited to se"
       ]
      },
      {
       "output_type": "stream",
       "stream": "stdout",
       "text": [
        "\n",
        "||Apr 07 23:09:37 || Positive  ::Minor league opening day 2016: How to follow &amp; watch Dodgers affil"
       ]
      },
      {
       "output_type": "stream",
       "stream": "stdout",
       "text": [
        "\n",
        "||Apr 07 23:09:37 || Positive  ::RT @Ross_Gasmer12: Dodgers sweep Padres: GREATEST TEAM EVER. \n",
        "\n",
        "Dodgers"
       ]
      },
      {
       "output_type": "stream",
       "stream": "stdout",
       "text": [
        "\n",
        "||Apr 07 23:09:38 || Neutral   ::Soros gives Entire Establishment Dems&amp;Reps!\n",
        "usa/332390-george-soro"
       ]
      },
      {
       "output_type": "stream",
       "stream": "stdout",
       "text": [
        "\n",
        "||Apr 07 23:09:43 || Neutral   ::\ud83d\ude15\ud83d\ude2d https://t.co/6t15cZVoNN"
       ]
      },
      {
       "output_type": "stream",
       "stream": "stdout",
       "text": [
        "\n",
        "||Apr 07 23:09:43 || Negative  ::Only in LA would you switch from a Dodgers game to the news.\n",
        "#CarChase\n",
        "||Apr 07 23:09:43 || Neutral   ::RT @Dodgers: #Dodgers trail the Giants 7-4 heading to the seventh inni"
       ]
      },
      {
       "output_type": "stream",
       "stream": "stdout",
       "text": [
        "\n",
        "||Apr 07 23:09:43 || Neutral   ::It's a known fact that the Dodgers are Romophobic\n",
        "||Apr 07 23:09:44 || Negative  ::This Giants/Dodgers game needs to GTFO. Same station is playing the #O"
       ]
      },
      {
       "output_type": "stream",
       "stream": "stdout",
       "text": [
        "\n",
        "||Apr 07 23:09:48 || Positive  ::The Giants lineup is crazy good, as the Dodgers are now learning."
       ]
      },
      {
       "output_type": "stream",
       "stream": "stdout",
       "text": [
        "\n",
        "||Apr 07 23:09:52 || Neutral   ::dodgers suckkkkk #BeatLA"
       ]
      },
      {
       "output_type": "stream",
       "stream": "stdout",
       "text": [
        "\n",
        "||Apr 07 23:09:53 || Neutral   ::\ud83d\ude14\ud83d\udd2b https://t.co/RslcHKHcvK"
       ]
      },
      {
       "output_type": "stream",
       "stream": "stdout",
       "text": [
        "\n",
        "||Apr 07 23:09:54 || Neutral   ::RT @Andres_chivaboy: Dodgers Bull pen https://t.co/zuvfM9XEaw"
       ]
      },
      {
       "output_type": "stream",
       "stream": "stdout",
       "text": [
        "\n",
        "||Apr 07 23:09:55 || Neutral   ::@geoff9cow @DrDinD @joanwalsh @Dodgers @SFGiants Looks like a return t"
       ]
      },
      {
       "output_type": "stream",
       "stream": "stdout",
       "text": [
        "\n",
        "||Apr 07 23:09:59 || Neutral   ::RT @ArashMarkazi: I had to get on an airplane to watch the Dodgers on "
       ]
      },
      {
       "output_type": "stream",
       "stream": "stdout",
       "text": [
        "\n",
        "||Apr 07 23:10:00 || Negative  ::RT @WreckItRyan: Time for every single Dodgers fan to overreact"
       ]
      },
      {
       "output_type": "stream",
       "stream": "stdout",
       "text": [
        "\n",
        "||Apr 07 23:10:01 || Positive  ::RT @Dodgers: That's 31 straight scoreless innings for Dodger pitchers "
       ]
      },
      {
       "output_type": "stream",
       "stream": "stdout",
       "text": [
        "\n",
        "||Apr 07 23:10:03 || Neutral   ::Lets get some runs! #Dodgers"
       ]
      },
      {
       "output_type": "stream",
       "stream": "stdout",
       "text": [
        "\n",
        "||Apr 07 23:10:04 || Negative  ::my goal is still to go to a dodgers/giants game in SF"
       ]
      },
      {
       "output_type": "stream",
       "stream": "stdout",
       "text": [
        "\n",
        "||Apr 07 23:10:04 || Positive  ::RT @RobertMurrayBBE: I mention the Dodgers' streak of 31 straight inni"
       ]
      },
      {
       "output_type": "stream",
       "stream": "stdout",
       "text": [
        "\n",
        "||Apr 07 23:10:04 || Neutral   ::Tweeker Romo coming in to pitch #Dodgers"
       ]
      },
      {
       "output_type": "stream",
       "stream": "stdout",
       "text": [
        "\n",
        "||Apr 07 23:10:05 || Positive  ::RT @Dodgers: That's 31 straight scoreless innings for Dodger pitchers "
       ]
      },
      {
       "output_type": "stream",
       "stream": "stdout",
       "text": [
        "\n",
        "||Apr 07 23:10:11 || Neutral   ::Los Angeles Dodgers vs. San Francisco Giants Finally found a working s"
       ]
      },
      {
       "output_type": "stream",
       "stream": "stdout",
       "text": [
        "\n",
        "||Apr 07 23:10:11 || Neutral   ::#LosAngeles Dodgers' Carl Crawford, Justin Turner could be rested Thur"
       ]
      },
      {
       "output_type": "stream",
       "stream": "stdout",
       "text": [
        "\n",
        "||Apr 07 23:10:14 || Neutral   ::Yes! https://t.co/seYIS8IYfX"
       ]
      },
      {
       "output_type": "stream",
       "stream": "stdout",
       "text": [
        "\n",
        "||Apr 07 23:10:17 || Positive  ::RT @Ross_Gasmer12: Dodgers sweep Padres: GREATEST TEAM EVER. \n",
        "\n",
        "Dodgers"
       ]
      },
      {
       "output_type": "stream",
       "stream": "stdout",
       "text": [
        "\n",
        "||Apr 07 23:10:17 || Neutral   ::It hurt. It hurt a lot. https://t.co/7wtlrCDB0z"
       ]
      },
      {
       "output_type": "stream",
       "stream": "stdout",
       "text": [
        "\n",
        "||Apr 07 23:10:17 || Positive  ::RT @Dodgers: That's 31 straight scoreless innings for Dodger pitchers "
       ]
      },
      {
       "output_type": "stream",
       "stream": "stdout",
       "text": [
        "\n",
        "||Apr 07 23:10:19 || Neutral   ::RT @TheAOSNOfficial: Who saw #Dodgers rookie pitcher Kenta Maeda go ya"
       ]
      },
      {
       "output_type": "stream",
       "stream": "stdout",
       "text": [
        "\n",
        "||Apr 07 23:10:20 || Neutral   ::RT @Dodgers: #Dodgers trail the Giants 7-4 heading to the seventh inni"
       ]
      },
      {
       "output_type": "stream",
       "stream": "stdout",
       "text": [
        "\n",
        "||Apr 07 23:10:21 || Positive  ::RT @CockertonMark: \"Choose a f*****g big evasion, choose to sit on a c"
       ]
      },
      {
       "output_type": "stream",
       "stream": "stdout",
       "text": [
        "\n",
        "||Apr 07 23:10:21 || Positive  ::Lol word. Just need to find reliable 4th and 5th SP's. https://t.co/oM"
       ]
      },
      {
       "output_type": "stream",
       "stream": "stdout",
       "text": [
        "\n",
        "||Apr 07 23:10:22 || Positive  ::RT @Dodgers: .@Adrian_ElTitan crushes another one to the wall! His RBI"
       ]
      },
      {
       "output_type": "stream",
       "stream": "stdout",
       "text": [
        "\n",
        "||Apr 07 23:10:22 || Negative  ::i cant even watch the dodgers game anymore #WayToGiveUpTheLead \n",
        "#IStil"
       ]
      },
      {
       "output_type": "stream",
       "stream": "stdout",
       "text": [
        "\n",
        "||Apr 07 23:10:23 || Negative  ::RT @Marie_heller: It's so difficult to be on the internet anytime the "
       ]
      },
      {
       "output_type": "stream",
       "stream": "stdout",
       "text": [
        "\n",
        "||Apr 07 23:10:25 || Neutral   ::Nah fire Roberts  https://t.co/L0nlDWX1OS"
       ]
      },
      {
       "output_type": "stream",
       "stream": "stdout",
       "text": [
        "\n",
        "||Apr 07 23:10:25 || Negative  ::I hope the dodgers fucking rock romos bitch ass\n",
        "||Apr 07 23:10:26 || Positive  ::Are you a Dodgers fan, too? I'm hoping we'll put up a good season to s"
       ]
      },
      {
       "output_type": "stream",
       "stream": "stdout",
       "text": [
        "\n",
        "||Apr 07 23:10:26 || Neutral   ::BOOOO \u2014 watching Los Angeles Dodgers vs San Francisco Giants"
       ]
      },
      {
       "output_type": "stream",
       "stream": "stdout",
       "text": [
        "\n",
        "||Apr 07 23:10:26 || Positive  ::When you play good teams........ https://t.co/uJEMpKpCvT\n",
        "||Apr 07 23:10:27 || Negative  ::Nigga fuck the Giants,Yankees,Red Socks,Angels,Dodgers,Padres,Atros,Se"
       ]
      },
      {
       "output_type": "stream",
       "stream": "stdout",
       "text": [
        "\n",
        "||Apr 07 23:10:29 || Neutral   ::https://t.co/0s5wVXXtfG #BrooklynDodgers # Dodgers #hashtags"
       ]
      },
      {
       "output_type": "stream",
       "stream": "stdout",
       "text": [
        "\n",
        "||Apr 07 23:10:31 || Neutral   ::RT @TheCityGFX: Looks like the Dodgers left a lot of $$ players on the"
       ]
      },
      {
       "output_type": "stream",
       "stream": "stdout",
       "text": [
        "\n",
        "||Apr 07 23:10:32 || Positive  ::@Fr3derick82 @DustinNosler Win or lose this year, it's all on Friedman"
       ]
      },
      {
       "output_type": "stream",
       "stream": "stdout",
       "text": [
        "\n",
        "||Apr 07 23:10:37 || Neutral   ::@Dodgers  #WinForVeronica"
       ]
      },
      {
       "output_type": "stream",
       "stream": "stdout",
       "text": [
        "\n",
        "||Apr 07 23:10:38 || Neutral   ::RT @Dodgers: Almost time in SF. https://t.co/DvjUuQ1XNn"
       ]
      },
      {
       "output_type": "stream",
       "stream": "stdout",
       "text": [
        "\n",
        "||Apr 07 23:10:40 || Positive  ::RT @davenellist: @bbcqt First step re #panamapapers should be to rehir"
       ]
      },
      {
       "output_type": "stream",
       "stream": "stdout",
       "text": [
        "\n",
        "||Apr 07 23:10:41 || Neutral   ::And who ended it? Los Gigantes!  https://t.co/hx5hrfUzqa"
       ]
      },
      {
       "output_type": "stream",
       "stream": "stdout",
       "text": [
        "\n",
        "||Apr 07 23:10:42 || Neutral   ::@JoshSchwerin @brianefallon Bernie Sanders keeps saying he's from Broo"
       ]
      }
     ],
     "prompt_number": "*"
    },
    {
     "cell_type": "code",
     "collapsed": false,
     "input": [],
     "language": "python",
     "metadata": {},
     "outputs": []
    }
   ],
   "metadata": {}
  }
 ]
}
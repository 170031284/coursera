{
 "metadata": {
  "name": ""
 },
 "nbformat": 3,
 "nbformat_minor": 0,
 "worksheets": [
  {
   "cells": [
    {
     "cell_type": "code",
     "collapsed": false,
     "input": [
      "import json"
     ],
     "language": "python",
     "metadata": {},
     "outputs": [],
     "prompt_number": 1
    },
    {
     "cell_type": "code",
     "collapsed": false,
     "input": [
      "from tweepy.streaming import StreamListener"
     ],
     "language": "python",
     "metadata": {},
     "outputs": [],
     "prompt_number": 2
    },
    {
     "cell_type": "code",
     "collapsed": false,
     "input": [
      "from tweepy import OAuthHandler, Stream"
     ],
     "language": "python",
     "metadata": {},
     "outputs": [],
     "prompt_number": 3
    },
    {
     "cell_type": "code",
     "collapsed": false,
     "input": [
      "from textblob import TextBlob"
     ],
     "language": "python",
     "metadata": {},
     "outputs": [],
     "prompt_number": 4
    },
    {
     "cell_type": "code",
     "collapsed": false,
     "input": [
      "from login import *"
     ],
     "language": "python",
     "metadata": {},
     "outputs": [],
     "prompt_number": 5
    },
    {
     "cell_type": "code",
     "collapsed": false,
     "input": [
      "class TweetStreamListener(StreamListener):\n",
      "    def on_data(self, data):\n",
      "        tweet = json.loads(data)\n",
      "        analysis = TextBlob(tweet[\"text\"])\n",
      "        sentiment = \"Neutral  \"\n",
      "        if analysis.sentiment.polarity > 0:\n",
      "            sentiment = \"Positive \"\n",
      "        elif analysis.sentiment.polarity < 0:\n",
      "            sentiment = \"Negative \"\n",
      "        print \"\\n||\" + tweet[\"created_at\"][4:-10] + \"|| \" + sentiment + \" ::\" + tweet[\"text\"][:65]\n",
      "        return True\n",
      "    \n",
      "    def on_error(self, status):\n",
      "        print status\n",
      "        "
     ],
     "language": "python",
     "metadata": {},
     "outputs": [],
     "prompt_number": 12
    },
    {
     "cell_type": "code",
     "collapsed": false,
     "input": [
      "listener = TweetStreamListener()"
     ],
     "language": "python",
     "metadata": {},
     "outputs": [],
     "prompt_number": 13
    },
    {
     "cell_type": "code",
     "collapsed": false,
     "input": [
      "auth_key = OAuthHandler(consumer_key, consumer_secret)"
     ],
     "language": "python",
     "metadata": {},
     "outputs": [],
     "prompt_number": 14
    },
    {
     "cell_type": "code",
     "collapsed": false,
     "input": [
      "auth_key.set_access_token(access_token, access_token_secret)"
     ],
     "language": "python",
     "metadata": {},
     "outputs": [],
     "prompt_number": 15
    },
    {
     "cell_type": "code",
     "collapsed": false,
     "input": [
      "live_twitter_stream = Stream(auth_key, listener)"
     ],
     "language": "python",
     "metadata": {},
     "outputs": [],
     "prompt_number": 16
    },
    {
     "cell_type": "code",
     "collapsed": false,
     "input": [
      "live_twitter_stream.filter(track=['dodgers'])"
     ],
     "language": "python",
     "metadata": {},
     "outputs": [
      {
       "output_type": "stream",
       "stream": "stdout",
       "text": [
        "\n",
        "||Apr 11 18:10:43 || Neutral   ::RT @Dodgers: #VinScullyAve https://t.co/kKDLPI2nGo\n",
        "\n",
        "||Apr 11 18:10:45 || Positive  ::RT @TheAOSNOfficial: One week down. #Giants win 3 vs the #Dodgers"
       ]
      },
      {
       "output_type": "stream",
       "stream": "stdout",
       "text": [
        "\n",
        "\n",
        "||Apr 11 18:10:45 || Positive  ::@MerlinYYC @RachelNotley Shouldn't they be asking the tax dodgers\n",
        "\n",
        "||Apr 11 18:10:48 || Neutral   ::RT @Dodgers: #VinScullyAve https://t.co/kKDLPI2nGo"
       ]
      },
      {
       "output_type": "stream",
       "stream": "stdout",
       "text": [
        "\n",
        "\n",
        "||Apr 11 18:10:49 || Neutral   ::Dodgers plan to activate Yasmani Grandal on Tuesday https://t.co/"
       ]
      },
      {
       "output_type": "stream",
       "stream": "stdout",
       "text": [
        "\n",
        "\n",
        "||Apr 11 18:10:50 || Positive  ::RT @Dodgers: Sept. 23 is Vin Scully Appreciation Night!\n",
        "\n",
        "Our new "
       ]
      },
      {
       "output_type": "stream",
       "stream": "stdout",
       "text": [
        "\n",
        "\n",
        "||Apr 11 18:10:51 || Neutral   ::RT @Dodgers: #VinScullyAve https://t.co/kKDLPI2nGo"
       ]
      },
      {
       "output_type": "stream",
       "stream": "stdout",
       "text": [
        "\n",
        "\n",
        "||Apr 11 18:10:53 || Neutral   ::RT @LizHabib: There it is- \"Vin Scully Avenue\" the signs are up. "
       ]
      },
      {
       "output_type": "stream",
       "stream": "stdout",
       "text": [
        "\n",
        "\n",
        "||Apr 11 18:10:56 || Neutral   ::RT @Dodgers: #VinScullyAve https://t.co/kKDLPI2nGo"
       ]
      },
      {
       "output_type": "stream",
       "stream": "stdout",
       "text": [
        "\n",
        "\n",
        "||Apr 11 18:10:56 || Neutral   ::Jonah Keri's \"The 30\" is back! https://t.co/sImNtFhRq5"
       ]
      },
      {
       "output_type": "stream",
       "stream": "stdout",
       "text": [
        "\n",
        "\n",
        "||Apr 11 18:10:58 || Positive  ::RT @Dodgers: Sept. 23 is Vin Scully Appreciation Night!\n",
        "\n",
        "Our new "
       ]
      },
      {
       "output_type": "stream",
       "stream": "stdout",
       "text": [
        "\n",
        "\n",
        "||Apr 11 18:10:58 || Positive  ::RT @Dodgers: Sept. 23 is Vin Scully Appreciation Night!\n",
        "\n",
        "Our new "
       ]
      },
      {
       "output_type": "stream",
       "stream": "stdout",
       "text": [
        "\n",
        "\n",
        "||Apr 11 18:10:58 || Positive  ::What this man has meant to the fans of Dodgers baseball and baseb"
       ]
      },
      {
       "output_type": "stream",
       "stream": "stdout",
       "text": [
        "\n",
        "\n",
        "||Apr 11 18:11:01 || Neutral   ::RT @Dodgers: #VinScullyAve https://t.co/kKDLPI2nGo"
       ]
      },
      {
       "output_type": "stream",
       "stream": "stdout",
       "text": [
        "\n",
        "\n",
        "||Apr 11 18:11:02 || Positive  ::RT @Dodgers: Sept. 23 is Vin Scully Appreciation Night!\n",
        "\n",
        "Our new "
       ]
      },
      {
       "output_type": "stream",
       "stream": "stdout",
       "text": [
        "\n",
        "\n",
        "||Apr 11 18:11:05 || Neutral   ::RT @Dodgers: #VinScullyAve https://t.co/kKDLPI2nGo"
       ]
      }
     ],
     "prompt_number": "*"
    },
    {
     "cell_type": "code",
     "collapsed": false,
     "input": [],
     "language": "python",
     "metadata": {},
     "outputs": []
    }
   ],
   "metadata": {}
  }
 ]
}
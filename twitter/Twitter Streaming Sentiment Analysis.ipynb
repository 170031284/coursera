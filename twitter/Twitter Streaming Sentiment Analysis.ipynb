{
 "metadata": {
  "name": ""
 },
 "nbformat": 3,
 "nbformat_minor": 0,
 "worksheets": [
  {
   "cells": [
    {
     "cell_type": "code",
     "collapsed": false,
     "input": [
      "import json"
     ],
     "language": "python",
     "metadata": {},
     "outputs": [],
     "prompt_number": 1
    },
    {
     "cell_type": "code",
     "collapsed": false,
     "input": [
      "from tweepy.streaming import StreamListener"
     ],
     "language": "python",
     "metadata": {},
     "outputs": [],
     "prompt_number": 2
    },
    {
     "cell_type": "code",
     "collapsed": false,
     "input": [
      "from tweepy import OAuthHandler, Stream"
     ],
     "language": "python",
     "metadata": {},
     "outputs": [],
     "prompt_number": 4
    },
    {
     "cell_type": "code",
     "collapsed": false,
     "input": [
      "from textblob import TextBlob"
     ],
     "language": "python",
     "metadata": {},
     "outputs": [],
     "prompt_number": 5
    },
    {
     "cell_type": "code",
     "collapsed": false,
     "input": [
      "from elasticsearch import Elasticsearch"
     ],
     "language": "python",
     "metadata": {},
     "outputs": [],
     "prompt_number": 6
    },
    {
     "cell_type": "code",
     "collapsed": false,
     "input": [
      "from login import *"
     ],
     "language": "python",
     "metadata": {},
     "outputs": [],
     "prompt_number": 86
    },
    {
     "cell_type": "code",
     "collapsed": false,
     "input": [
      "es = Elasticsearch()"
     ],
     "language": "python",
     "metadata": {},
     "outputs": [],
     "prompt_number": 8
    },
    {
     "cell_type": "code",
     "collapsed": false,
     "input": [
      "class TweetStreamListener(StreamListener):\n",
      "    def on_data(self, data):\n",
      "        tweet = json.loads(data)\n",
      "        analysis = TextBlob(tweet[\"text\"])\n",
      "        sentiment = \"Neutral  \"\n",
      "        if analysis.sentiment.polarity > 0:\n",
      "            sentiment = \"Positive \"\n",
      "        elif analysis.sentiment.polarity < 0:\n",
      "            sentiment = \"Negative \"\n",
      "        print \"||\" + tweet[\"created_at\"][4:-10] + \"|| \" + sentiment + \" ::\" + tweet[\"text\"][:70]\n",
      "        \n",
      "        es.index(index=\"sentiment\",\n",
      "                 doc_type=\"tweet_storage\",\n",
      "                 body={\"author\":tweet[\"user\"][\"screen_name\"],\n",
      "                       \"date\":tweet[\"created_at\"],\n",
      "                       \"message\":tweet[\"text\"],\n",
      "                       \"polarity\":analysis.sentiment.polarity,\n",
      "                       \"subjectivity\":analysis.sentiment.subjectivity,\n",
      "                       \"sentiment\": sentiment})\n",
      "        return True\n",
      "    \n",
      "    def on_error(self, status):\n",
      "        print status\n",
      "        "
     ],
     "language": "python",
     "metadata": {},
     "outputs": [],
     "prompt_number": 79
    },
    {
     "cell_type": "code",
     "collapsed": false,
     "input": [
      "listener = TweetStreamListener()"
     ],
     "language": "python",
     "metadata": {},
     "outputs": [],
     "prompt_number": 80
    },
    {
     "cell_type": "code",
     "collapsed": false,
     "input": [
      "auth_key = OAuthHandler(consumer_key, consumer_secret)"
     ],
     "language": "python",
     "metadata": {},
     "outputs": [],
     "prompt_number": 81
    },
    {
     "cell_type": "code",
     "collapsed": false,
     "input": [
      "auth_key.set_access_token(access_token, access_token_secret)"
     ],
     "language": "python",
     "metadata": {},
     "outputs": [],
     "prompt_number": 82
    },
    {
     "cell_type": "code",
     "collapsed": false,
     "input": [
      "live_twitter_stream = Stream(auth_key, listener)"
     ],
     "language": "python",
     "metadata": {},
     "outputs": [],
     "prompt_number": 83
    },
    {
     "cell_type": "code",
     "collapsed": false,
     "input": [
      "live_twitter_stream.filter(track=['dodgers'])"
     ],
     "language": "python",
     "metadata": {},
     "outputs": [
      {
       "output_type": "stream",
       "stream": "stdout",
       "text": [
        "||Apr 07 22:56:35 || Neutral   ::@Dodgers,  no way.\n",
        "||Apr 07 22:56:39 || Negative  ::RT @moh_kohn: So, it's proven. The people who said we can't afford to "
       ]
      },
      {
       "output_type": "stream",
       "stream": "stdout",
       "text": [
        "\n",
        "||Apr 07 22:56:40 || Neutral   ::RT @Indykidd33: Damn Dodgers *Damn Daniel voice*"
       ]
      },
      {
       "output_type": "stream",
       "stream": "stdout",
       "text": [
        "\n",
        "||Apr 07 22:56:40 || Negative  ::RT @LAblue_: 4th game of the year and I already had a heart attack @Do"
       ]
      },
      {
       "output_type": "stream",
       "stream": "stdout",
       "text": [
        "\n",
        "||Apr 07 22:56:41 || Positive  ::@GiantsPls @cybreazy @Dodgers oh shit I was wrong lol"
       ]
      },
      {
       "output_type": "stream",
       "stream": "stdout",
       "text": [
        "\n",
        "||Apr 07 22:56:41 || Negative  ::@heyyitsjules it is a local black out. You cannot watch Giants vs Dodg"
       ]
      },
      {
       "output_type": "stream",
       "stream": "stdout",
       "text": [
        "\n",
        "||Apr 07 22:56:41 || Negative  ::YESSSS THIS IS WHAT I AM TALKIN ABOUT FUCK THE DODGERS \ud83d\udc4f\ud83c\udffc\ud83d\udc4f\ud83c\udffc\ud83d\udc4f\ud83c\udffc\ud83d\udc4f\ud83c\udffc\ud83d\udc4f\ud83c\udffc\ud83d\udc4f\ud83c\udffc\ud83d\udc4f\ud83c\udffc\ud83d\udc4f"
       ]
      },
      {
       "output_type": "stream",
       "stream": "stdout",
       "text": [
        "\n",
        "||Apr 07 22:56:42 || Neutral   ::the dodgers need to pull this guy"
       ]
      },
      {
       "output_type": "stream",
       "stream": "stdout",
       "text": [
        "\n",
        "||Apr 07 22:56:42 || Positive  ::RT @MGardnerSports: Seems people were a little too excited about the D"
       ]
      },
      {
       "output_type": "stream",
       "stream": "stdout",
       "text": [
        "\n",
        "||Apr 07 22:56:43 || Positive  ::Picked them to make the playoffs, but Dodgers may be like the 2013 Nat"
       ]
      },
      {
       "output_type": "stream",
       "stream": "stdout",
       "text": [
        "\n",
        "||Apr 07 22:56:43 || Positive  ::Me too! Lol https://t.co/yRs6FPYjEC"
       ]
      },
      {
       "output_type": "stream",
       "stream": "stdout",
       "text": [
        "\n",
        "||Apr 07 22:56:43 || Neutral   ::#MLB #Dodgers pick rookie Ross Stripling as No. 5 starter https://t.co"
       ]
      },
      {
       "output_type": "stream",
       "stream": "stdout",
       "text": [
        "\n",
        "||Apr 07 22:56:44 || Positive  ::RT @Dodgers: First win in the books. #\u30de\u30a8\u30b1\u30f3 https://t.co/7msnbA494N"
       ]
      },
      {
       "output_type": "stream",
       "stream": "stdout",
       "text": [
        "\n",
        "||Apr 07 22:56:45 || Neutral   ::@Dodgers fans were talking about records and being undefeated yesterda"
       ]
      },
      {
       "output_type": "stream",
       "stream": "stdout",
       "text": [
        "\n",
        "||Apr 07 22:56:47 || Negative  ::Same shit, new season, bullpen still garbage #Dodgers"
       ]
      },
      {
       "output_type": "stream",
       "stream": "stdout",
       "text": [
        "\n",
        "||Apr 07 22:56:48 || Positive  ::@GiantsPls @cybreazy @Dodgers you win this one"
       ]
      },
      {
       "output_type": "stream",
       "stream": "stdout",
       "text": [
        "\n",
        "||Apr 07 22:56:49 || Neutral   ::RT @guerovx: frankie &amp; jake said dodgers not allowing no runs \ud83e\udd14\ud83e\udd14\ud83e\udd14 "
       ]
      },
      {
       "output_type": "stream",
       "stream": "stdout",
       "text": [
        "\n",
        "||Apr 07 22:56:49 || Neutral   :::// https://t.co/EguoTiFlxv"
       ]
      },
      {
       "output_type": "stream",
       "stream": "stdout",
       "text": [
        "\n",
        "||Apr 07 22:56:50 || Positive  ::... LOL at my timeline, I guess the #Dodgers suck now. Can't go throug"
       ]
      },
      {
       "output_type": "stream",
       "stream": "stdout",
       "text": [
        "\n",
        "||Apr 07 22:56:50 || Neutral   ::Giants end Dodgers\u2019 scoreless-inning streak https://t.co/9X7l5MKvYK vi"
       ]
      },
      {
       "output_type": "stream",
       "stream": "stdout",
       "text": [
        "\n",
        "||Apr 07 22:56:51 || Negative  ::Hard to be pissed 4 games into the season. I don't care who they're pl"
       ]
      },
      {
       "output_type": "stream",
       "stream": "stdout",
       "text": [
        "\n",
        "||Apr 07 22:56:52 || Positive  ::@Dodgers lol"
       ]
      },
      {
       "output_type": "stream",
       "stream": "stdout",
       "text": [
        "\n",
        "||Apr 07 22:56:53 || Neutral   ::RT @SteveMasonESPN: Roberts: 1st mistake of the season. After 25 pitch"
       ]
      },
      {
       "output_type": "stream",
       "stream": "stdout",
       "text": [
        "\n",
        "||Apr 07 22:56:53 || Neutral   ::RT @ferdie9er: Dodgers didn't get the memo, we're not the Padres \ud83d\ude02\n",
        "#Be"
       ]
      },
      {
       "output_type": "stream",
       "stream": "stdout",
       "text": [
        "\n",
        "||Apr 07 22:56:57 || Positive  ::Some people flipping out. Did you expect the Dodgers to never lose a g"
       ]
      },
      {
       "output_type": "stream",
       "stream": "stdout",
       "text": [
        "\n",
        "||Apr 07 22:56:58 || Positive  ::RT @76: Best seats in the house. Only 5 more days till the @Dodgers #O"
       ]
      },
      {
       "output_type": "stream",
       "stream": "stdout",
       "text": [
        "\n",
        "||Apr 07 22:56:58 || Neutral   ::@Fermiincito @Dodgers all of a sudden shut up"
       ]
      },
      {
       "output_type": "stream",
       "stream": "stdout",
       "text": [
        "\n",
        "||Apr 07 22:56:59 || Neutral   ::RT @SGVNSports: Dodgers finally give up a run, streak ends at 31"
       ]
      },
      {
       "output_type": "stream",
       "stream": "stdout",
       "text": [
        "\n",
        "||Apr 07 22:57:00 || Neutral   ::#Dodgers getting a dose of reality."
       ]
      },
      {
       "output_type": "stream",
       "stream": "stdout",
       "text": [
        "\n",
        "||Apr 07 22:57:02 || Neutral   ::RT @tkemps35: Time to bring back the dodgers logo"
       ]
      },
      {
       "output_type": "stream",
       "stream": "stdout",
       "text": [
        "\n",
        "||Apr 07 22:57:05 || Neutral   ::RT @Dodgers: Boy band tryouts are no joke. \n",
        "\n",
        "\ud83d\udcf7: @JonSooHooPics https:/"
       ]
      },
      {
       "output_type": "stream",
       "stream": "stdout",
       "text": [
        "\n",
        "||Apr 07 22:57:05 || Positive  ::@Dodgers Todays game and tomorrow. end of the rotation. Let's see what"
       ]
      },
      {
       "output_type": "stream",
       "stream": "stdout",
       "text": [
        "\n",
        "||Apr 07 22:57:06 || Neutral   ::\ud83d\udc4d Los Angeles Dodgers vs. San Francisco Giants Here's a link: https://"
       ]
      },
      {
       "output_type": "stream",
       "stream": "stdout",
       "text": [
        "\n",
        "||Apr 07 22:57:06 || Negative  ::Killer inning for the Gigantes. I hate the Dodgers. #BeatLA"
       ]
      },
      {
       "output_type": "stream",
       "stream": "stdout",
       "text": [
        "\n",
        "||Apr 07 22:57:06 || Neutral   ::El espectacular inicio de temporada de Los Angeles Dodgers https://t.c"
       ]
      },
      {
       "output_type": "stream",
       "stream": "stdout",
       "text": [
        "\n",
        "||Apr 07 22:57:08 || Neutral   ::RT @Monalicia12: Fucken Dodgers"
       ]
      },
      {
       "output_type": "stream",
       "stream": "stdout",
       "text": [
        "\n",
        "||Apr 07 22:57:08 || Positive  ::RT @Dodgers: RECAP: Kenta Maeda solid in debut, @YasielPuig stays hot "
       ]
      },
      {
       "output_type": "stream",
       "stream": "stdout",
       "text": [
        "\n",
        "||Apr 07 22:57:08 || Neutral   ::\ud83d\udc4d Los Angeles Dodgers vs. San Francisco Giants Here's a link: https://"
       ]
      },
      {
       "output_type": "stream",
       "stream": "stdout",
       "text": [
        "\n",
        "||Apr 07 22:57:09 || Neutral   ::RT @NotJocPederson: @Dodgers fire mattingly"
       ]
      },
      {
       "output_type": "stream",
       "stream": "stdout",
       "text": [
        "\n",
        "||Apr 07 22:57:10 || Positive  ::RT @davenellist: @bbcqt First step re #panamapapers should be to rehir"
       ]
      },
      {
       "output_type": "stream",
       "stream": "stdout",
       "text": [
        "\n",
        "||Apr 07 22:57:10 || Negative  ::RT @xxxkarlalane: #TheFollowing @netflix binging. Look what \ud83d\udcd8 I found "
       ]
      },
      {
       "output_type": "stream",
       "stream": "stdout",
       "text": [
        "\n",
        "||Apr 07 22:57:10 || Neutral   ::RT @Dodgers: Boy band tryouts are no joke. \n",
        "\n",
        "\ud83d\udcf7: @JonSooHooPics https:/"
       ]
      },
      {
       "output_type": "stream",
       "stream": "stdout",
       "text": [
        "\n",
        "||Apr 07 22:57:11 || Neutral   ::RT @ESPN_Beisbol: Los @dodgers (31.2) quedaron a un out de empatar la "
       ]
      },
      {
       "output_type": "stream",
       "stream": "stdout",
       "text": [
        "\n",
        "||Apr 07 22:57:07 || Positive  ::@AlexPavlovic  Dodgers have that same outstanding bullpen as well"
       ]
      },
      {
       "output_type": "stream",
       "stream": "stdout",
       "text": [
        "\n",
        "||Apr 07 22:57:12 || Negative  ::Dodgers started watching that car chase and forgot about the game #Typ"
       ]
      },
      {
       "output_type": "stream",
       "stream": "stdout",
       "text": [
        "\n",
        "||Apr 07 22:57:12 || Negative  ::RT @geoffschwartz: Changed rooms n the @SFGiants have scored 3 runs an"
       ]
      },
      {
       "output_type": "stream",
       "stream": "stdout",
       "text": [
        "\n",
        "||Apr 07 22:57:12 || Negative  ::Sorry no Dodgers allowed to ride the Night Train!! @SFGiants #beatla"
       ]
      },
      {
       "output_type": "stream",
       "stream": "stdout",
       "text": [
        "\n",
        "||Apr 07 22:57:13 || Neutral   ::@Dodgers so close to that record you were \ud83d\udca9"
       ]
      },
      {
       "output_type": "stream",
       "stream": "stdout",
       "text": [
        "\n",
        "||Apr 07 22:57:14 || Negative  ::RT @yokiiiibear: Fuck man lets go dodgers ! \ud83d\udd25\ud83d\udd25\ud83d\ude21\ud83d\ude21\ud83d\ude21"
       ]
      },
      {
       "output_type": "stream",
       "stream": "stdout",
       "text": [
        "\n",
        "||Apr 07 22:57:15 || Positive  ::@DannyV3 @ProfessorsPicks glad I bet the SF Giants , la Dodgers will l"
       ]
      },
      {
       "output_type": "stream",
       "stream": "stdout",
       "text": [
        "\n",
        "||Apr 07 22:57:16 || Negative  ::RT @DodgerBlue1958: Yes, Kenta Maeda hit a home run last night. But he\n",
        "||Apr 07 22:57:16 || Neutral   ::RT @Dodgers: #Dodgers trail the Giants 7-4 heading to the seventh inni"
       ]
      },
      {
       "output_type": "stream",
       "stream": "stdout",
       "text": [
        "\n",
        "||Apr 07 22:57:16 || Neutral   ::RT @Dodgers: #Dodgers trail the Giants 7-4 heading to the seventh inni"
       ]
      },
      {
       "output_type": "stream",
       "stream": "stdout",
       "text": [
        "\n",
        "||Apr 07 22:57:17 || Neutral   ::RT @NotJocPederson: @Dodgers fire mattingly"
       ]
      },
      {
       "output_type": "stream",
       "stream": "stdout",
       "text": [
        "\n",
        "||Apr 07 22:57:18 || Negative  ::Insert Jordan crying meme. https://t.co/lnQEtsEiIM"
       ]
      },
      {
       "output_type": "stream",
       "stream": "stdout",
       "text": [
        "\n",
        "||Apr 07 22:57:18 || Negative  ::RT @DodgerBlue1958: Yes, Kenta Maeda hit a home run last night. But he"
       ]
      },
      {
       "output_type": "stream",
       "stream": "stdout",
       "text": [
        "\n",
        "||Apr 07 22:57:18 || Negative  ::@ThisisMisfit_ and the 1st one off the bench is Yimi Garcia..lmmfao he\n",
        "||Apr 07 22:57:20 || Negative  ::RT @IcyNando: Get the fuck outta here @Dodgers \n",
        "\n",
        "Fuck your scoreless s"
       ]
      },
      {
       "output_type": "stream",
       "stream": "stdout",
       "text": [
        "\n",
        "||Apr 07 22:57:20 || Neutral   ::@Dodgers can't stop posey \ud83e\udd14\ud83e\udd14\ud83e\udd14"
       ]
      },
      {
       "output_type": "stream",
       "stream": "stdout",
       "text": [
        "\n",
        "||Apr 07 22:57:20 || Neutral   ::I see Alex Wood was Alex Wood'ing today #Dodgers"
       ]
      },
      {
       "output_type": "stream",
       "stream": "stdout",
       "text": [
        "\n",
        "||Apr 07 22:57:21 || Positive  ::@Dodgers oh ok Dodgers pitching does suck it was just Padres suck more"
       ]
      },
      {
       "output_type": "stream",
       "stream": "stdout",
       "text": [
        "\n",
        "||Apr 07 22:57:14 || Positive  ::RT @Independent: A gang has been jailed for stealing \u00a320,000 worth of "
       ]
      },
      {
       "output_type": "stream",
       "stream": "stdout",
       "text": [
        "\n",
        "||Apr 07 22:57:22 || Positive  ::I don't know what's more interesting, the Dodgers v Giants game or tha"
       ]
      },
      {
       "output_type": "stream",
       "stream": "stdout",
       "text": [
        "\n",
        "||Apr 07 22:57:22 || Positive  ::RT @Dodgers: That's 31 straight scoreless innings for Dodger pitchers "
       ]
      },
      {
       "output_type": "stream",
       "stream": "stdout",
       "text": [
        "\n",
        "||Apr 07 22:57:22 || Neutral   ::Dodgers trash.\n",
        "||Apr 07 22:57:24 || Neutral   ::RT @RoxArroyo58: CORPORATE GREED! Thank you @Dodgers ! Thank you @TWC "
       ]
      },
      {
       "output_type": "stream",
       "stream": "stdout",
       "text": [
        "\n",
        "||Apr 07 22:57:24 || Neutral   ::We aren't the Padres Dodgers! You got an ERA now!  #BeatLA #SFGiants\n",
        "||Apr 07 22:57:24 || Negative  ::RT @emiliajuanita: what the FUCK dodgers aren't allowed to lose all of"
       ]
      },
      {
       "output_type": "stream",
       "stream": "stdout",
       "text": [
        "\n",
        "||Apr 07 22:57:24 || Positive  ::@shasha31nick dodgers haven't won a World Series since you've been ali"
       ]
      },
      {
       "output_type": "stream",
       "stream": "stdout",
       "text": [
        "\n",
        "||Apr 07 22:57:25 || Negative  ::So mad \ud83d\ude29\ud83d\ude24\ud83d\ude2d https://t.co/xMrr9PUDMf"
       ]
      },
      {
       "output_type": "stream",
       "stream": "stdout",
       "text": [
        "\n",
        "||Apr 07 22:57:26 || Neutral   ::Dodgers always blow it vs the Giants."
       ]
      },
      {
       "output_type": "stream",
       "stream": "stdout",
       "text": [
        "\n",
        "||Apr 07 22:57:28 || Positive  ::Complete implosion and mismanagement by a guy that should have been ha"
       ]
      },
      {
       "output_type": "stream",
       "stream": "stdout",
       "text": [
        "\n",
        "||Apr 07 22:57:31 || Negative  ::#Dodgers game update: Giants lead the Dodgers 7-4 at the end of the 6t"
       ]
      },
      {
       "output_type": "stream",
       "stream": "stdout",
       "text": [
        "\n",
        "||Apr 07 22:57:31 || Neutral   ::Dodgers go quietly in the 7th"
       ]
      },
      {
       "output_type": "stream",
       "stream": "stdout",
       "text": [
        "\n",
        "||Apr 07 22:57:31 || Neutral   ::Wood choked on some wood today. \ud83d\ude16 #Dodgers"
       ]
      },
      {
       "output_type": "stream",
       "stream": "stdout",
       "text": [
        "\n",
        "||Apr 07 22:57:32 || Positive  ::When your dad is a Dodgers fan but his son picked the better team. @SF"
       ]
      },
      {
       "output_type": "stream",
       "stream": "stdout",
       "text": [
        "\n",
        "||Apr 07 22:57:34 || Positive  ::Rare vintage L. A. Dodgers WORLD CHAMPIONS 1988 MLB MUG coffee mug gol"
       ]
      },
      {
       "output_type": "stream",
       "stream": "stdout",
       "text": [
        "\n",
        "||Apr 07 22:57:34 || Neutral   ::@DisgustedNYer He's a Marlins and Dodgers reject Not the Messiah Just "
       ]
      },
      {
       "output_type": "stream",
       "stream": "stdout",
       "text": [
        "\n",
        "||Apr 07 22:57:34 || Neutral   ::Laaaaaame \ud83d\ude44 #Dodgers"
       ]
      },
      {
       "output_type": "stream",
       "stream": "stdout",
       "text": [
        "\n",
        "||Apr 07 22:57:36 || Positive  ::RT @tuuurri: Dodgers are already looking good today!\ud83d\udc4c\ud83c\udffc"
       ]
      },
      {
       "output_type": "stream",
       "stream": "stdout",
       "text": [
        "\n",
        "||Apr 07 22:57:36 || Positive  ::@TheRealMattKemp where is the fire, anger to win.  Looks like you stil"
       ]
      },
      {
       "output_type": "stream",
       "stream": "stdout",
       "text": [
        "\n",
        "||Apr 07 22:57:36 || Positive  ::They just gave up LMAO https://t.co/WRyxPXS08e"
       ]
      },
      {
       "output_type": "stream",
       "stream": "stdout",
       "text": [
        "\n",
        "||Apr 07 22:57:38 || Negative  ::#Dodgers go down in order. Again."
       ]
      },
      {
       "output_type": "stream",
       "stream": "stdout",
       "text": [
        "\n",
        "||Apr 07 22:57:39 || Neutral   ::\ud83d\udc4d Los Angeles Dodgers vs. San Francisco Giants Here's a link: https://"
       ]
      },
      {
       "output_type": "stream",
       "stream": "stdout",
       "text": [
        "\n",
        "||Apr 07 22:57:40 || Neutral   ::RT @iGLOBAL_DABOY: Bitch ass Dodgers thought we was the Padres"
       ]
      },
      {
       "output_type": "stream",
       "stream": "stdout",
       "text": [
        "\n",
        "||Apr 07 22:57:39 || Neutral   ::John Tudor - Dodgers - Pitcher https://t.co/LZ8p1o0WNN"
       ]
      },
      {
       "output_type": "stream",
       "stream": "stdout",
       "text": [
        "\n",
        "||Apr 07 22:57:41 || Positive  ::Lol Dodgers lineup when not facing an expansion team and peavy"
       ]
      },
      {
       "output_type": "stream",
       "stream": "stdout",
       "text": [
        "\n",
        "||Apr 07 22:57:41 || Positive  ::RT @Dodgers: First win in the books. #\u30de\u30a8\u30b1\u30f3 https://t.co/7msnbA494N"
       ]
      },
      {
       "output_type": "stream",
       "stream": "stdout",
       "text": [
        "\n",
        "||Apr 07 22:57:41 || Neutral   ::@kevinckeiser yes but that means everyone who is a dodgers fan and in "
       ]
      },
      {
       "output_type": "stream",
       "stream": "stdout",
       "text": [
        "\n",
        "||Apr 07 22:57:43 || Positive  ::RT @Dodgers: First win in the books. #\u30de\u30a8\u30b1\u30f3 https://t.co/7msnbA494N"
       ]
      },
      {
       "output_type": "stream",
       "stream": "stdout",
       "text": [
        "\n",
        "||Apr 07 22:57:44 || Negative  ::im disgusted  https://t.co/ms7H1EL4c5"
       ]
      },
      {
       "output_type": "stream",
       "stream": "stdout",
       "text": [
        "\n",
        "||Apr 07 22:57:45 || Positive  ::@SeanCesta @cybreazy @Dodgers yeah counting new york and brooklyn reco"
       ]
      },
      {
       "output_type": "stream",
       "stream": "stdout",
       "text": [
        "\n",
        "||Apr 07 22:57:50 || Neutral   ::The Rozzers are in the sky above St A. I wonder if they're looking for"
       ]
      },
      {
       "output_type": "stream",
       "stream": "stdout",
       "text": [
        "\n",
        "||Apr 07 22:57:51 || Negative  ::@SteveMasonESPN Please stop talking you are a jinx!  The Dodgers beat "
       ]
      },
      {
       "output_type": "stream",
       "stream": "stdout",
       "text": [
        "\n",
        "||Apr 07 22:57:51 || Neutral   ::Ummmmm @Dodgers can u like score bc my friend likes the Giants and I k"
       ]
      },
      {
       "output_type": "stream",
       "stream": "stdout",
       "text": [
        "\n",
        "||Apr 07 22:57:52 || Neutral   ::@Dodgers  https://t.co/XZwpi6Uhz0"
       ]
      },
      {
       "output_type": "stream",
       "stream": "stdout",
       "text": [
        "\n",
        "||Apr 07 22:57:52 || Neutral   ::RT @mlbtrashtalkerz: #Dodgers getting a dose of reality."
       ]
      },
      {
       "output_type": "stream",
       "stream": "stdout",
       "text": [
        "\n",
        "||Apr 07 22:57:53 || Positive  ::I lowkey love the \"\ud83d\ude29awww\ud83d\ude1eehhh\ud83d\ude06yaay!!\" progression that happens when a "
       ]
      },
      {
       "output_type": "stream",
       "stream": "stdout",
       "text": [
        "\n",
        "||Apr 07 22:57:53 || Positive  ::RT @DodgerBlue1958: Since this isn't going so well, here's positive ne"
       ]
      },
      {
       "output_type": "stream",
       "stream": "stdout",
       "text": [
        "\n",
        "||Apr 07 22:57:55 || Negative  ::Can someone remind the @Dodgers that @yimigarcia63 is at best a AA arm"
       ]
      },
      {
       "output_type": "stream",
       "stream": "stdout",
       "text": [
        "\n",
        "||Apr 07 22:57:55 || Neutral   ::#Dodgers 4 and the Giants 7 in the 7th inning\n",
        "\n",
        "Utley flies out to left"
       ]
      },
      {
       "output_type": "stream",
       "stream": "stdout",
       "text": [
        "\n",
        "||Apr 07 22:57:56 || Neutral   ::Why is it ALWAYS the Giants?  https://t.co/k3idXsd5mW"
       ]
      },
      {
       "output_type": "stream",
       "stream": "stdout",
       "text": [
        "\n",
        "||Apr 07 22:57:57 || Neutral   ::RT @ScottWarner18: Wood choked on some wood today. \ud83d\ude16 #Dodgers"
       ]
      },
      {
       "output_type": "stream",
       "stream": "stdout",
       "text": [
        "\n",
        "||Apr 07 22:57:58 || Negative  ::RT @IcyNando: Get the fuck outta here @Dodgers \n",
        "\n",
        "Fuck your scoreless s"
       ]
      },
      {
       "output_type": "stream",
       "stream": "stdout",
       "text": [
        "\n",
        "||Apr 07 22:57:59 || Negative  ::Awful offensive inning for the Dodgers in the top of the 7th."
       ]
      },
      {
       "output_type": "stream",
       "stream": "stdout",
       "text": [
        "\n",
        "||Apr 07 22:58:00 || Positive  ::RT @yo_its_joe: @shasha31nick dodgers haven't won a World Series since"
       ]
      },
      {
       "output_type": "stream",
       "stream": "stdout",
       "text": [
        "\n",
        "||Apr 07 22:58:01 || Neutral   ::RT @ScottWarner18: Wood choked on some wood today. \ud83d\ude16 #Dodgers"
       ]
      },
      {
       "output_type": "stream",
       "stream": "stdout",
       "text": [
        "\n",
        "||Apr 07 22:58:01 || Neutral   ::RT @ScottWarner18: Wood choked on some wood today. \ud83d\ude16 #Dodgers\n",
        "||Apr 07 22:58:01 || Neutral   ::RT @ScottWarner18: Wood choked on some wood today. \ud83d\ude16 #Dodgers"
       ]
      },
      {
       "output_type": "stream",
       "stream": "stdout",
       "text": [
        "\n",
        "||Apr 07 22:58:01 || Neutral   ::RT @ScottWarner18: Wood choked on some wood today. \ud83d\ude16 #Dodgers\n",
        "||Apr 07 22:58:01 || Neutral   ::RT @ScottWarner18: Wood choked on some wood today. \ud83d\ude16 #Dodgers\n",
        "||Apr 07 22:58:01 || Neutral   ::RT @ScottWarner18: Wood choked on some wood today. \ud83d\ude16 #Dodgers\n",
        "||Apr 07 22:58:01 || Neutral   ::RT @ScottWarner18: Wood choked on some wood today. \ud83d\ude16 #Dodgers\n",
        "||Apr 07 22:58:01 || Neutral   ::RT @ScottWarner18: Wood choked on some wood today. \ud83d\ude16 #Dodgers\n",
        "||Apr 07 22:58:01 || Neutral   ::RT @ScottWarner18: Wood choked on some wood today. \ud83d\ude16 #Dodgers"
       ]
      },
      {
       "output_type": "stream",
       "stream": "stdout",
       "text": [
        "\n",
        "||Apr 07 22:58:01 || Neutral   ::RT @ScottWarner18: Wood choked on some wood today. \ud83d\ude16 #Dodgers\n",
        "||Apr 07 22:58:01 || Neutral   ::RT @ScottWarner18: Wood choked on some wood today. \ud83d\ude16 #Dodgers\n",
        "||Apr 07 22:58:01 || Neutral   ::RT @ScottWarner18: Wood choked on some wood today. \ud83d\ude16 #Dodgers\n",
        "||Apr 07 22:58:01 || Neutral   ::RT @ScottWarner18: Wood choked on some wood today. \ud83d\ude16 #Dodgers\n",
        "||Apr 07 22:58:01 || Neutral   ::RT @ScottWarner18: Wood choked on some wood today. \ud83d\ude16 #Dodgers"
       ]
      },
      {
       "output_type": "stream",
       "stream": "stdout",
       "text": [
        "\n",
        "||Apr 07 22:58:01 || Neutral   ::RT @ScottWarner18: Wood choked on some wood today. \ud83d\ude16 #Dodgers\n",
        "||Apr 07 22:58:01 || Neutral   ::RT @ScottWarner18: Wood choked on some wood today. \ud83d\ude16 #Dodgers\n",
        "||Apr 07 22:58:01 || Neutral   ::RT @ScottWarner18: Wood choked on some wood today. \ud83d\ude16 #Dodgers\n",
        "||Apr 07 22:58:01 || Neutral   ::RT @ScottWarner18: Wood choked on some wood today. \ud83d\ude16 #Dodgers\n",
        "||Apr 07 22:58:01 || Neutral   ::RT @ScottWarner18: Wood choked on some wood today. \ud83d\ude16 #Dodgers\n",
        "||Apr 07 22:58:01 || Neutral   ::RT @ScottWarner18: Wood choked on some wood today. \ud83d\ude16 #Dodgers"
       ]
      },
      {
       "output_type": "stream",
       "stream": "stdout",
       "text": [
        "\n",
        "||Apr 07 22:58:01 || Neutral   ::RT @ScottWarner18: Wood choked on some wood today. \ud83d\ude16 #Dodgers\n",
        "||Apr 07 22:58:01 || Neutral   ::RT @ScottWarner18: Wood choked on some wood today. \ud83d\ude16 #Dodgers"
       ]
      },
      {
       "output_type": "stream",
       "stream": "stdout",
       "text": [
        "\n",
        "||Apr 07 22:58:01 || Neutral   ::RT @ScottWarner18: Wood choked on some wood today. \ud83d\ude16 #Dodgers\n",
        "||Apr 07 22:58:01 || Neutral   ::RT @ScottWarner18: Wood choked on some wood today. \ud83d\ude16 #Dodgers"
       ]
      },
      {
       "output_type": "stream",
       "stream": "stdout",
       "text": [
        "\n",
        "||Apr 07 22:58:01 || Neutral   ::RT @ScottWarner18: Wood choked on some wood today. \ud83d\ude16 #Dodgers\n",
        "||Apr 07 22:58:02 || Neutral   ::RT @ScottWarner18: Wood choked on some wood today. \ud83d\ude16 #Dodgers"
       ]
      },
      {
       "output_type": "stream",
       "stream": "stdout",
       "text": [
        "\n",
        "||Apr 07 22:58:02 || Neutral   ::RT @ScottWarner18: Wood choked on some wood today. \ud83d\ude16 #Dodgers\n",
        "||Apr 07 22:58:02 || Neutral   ::RT @ScottWarner18: Wood choked on some wood today. \ud83d\ude16 #Dodgers\n",
        "||Apr 07 22:58:02 || Neutral   ::RT @ScottWarner18: Wood choked on some wood today. \ud83d\ude16 #Dodgers\n",
        "||Apr 07 22:58:02 || Neutral   ::RT @ScottWarner18: Wood choked on some wood today. \ud83d\ude16 #Dodgers\n",
        "||Apr 07 22:58:02 || Neutral   ::RT @ScottWarner18: Wood choked on some wood today. \ud83d\ude16 #Dodgers\n",
        "||Apr 07 22:58:02 || Neutral   ::RT @ScottWarner18: Wood choked on some wood today. \ud83d\ude16 #Dodgers\n",
        "||Apr 07 22:58:02 || Neutral   ::RT @ScottWarner18: Wood choked on some wood today. \ud83d\ude16 #Dodgers"
       ]
      },
      {
       "output_type": "stream",
       "stream": "stdout",
       "text": [
        "\n",
        "||Apr 07 22:58:02 || Neutral   ::RT @ScottWarner18: Wood choked on some wood today. \ud83d\ude16 #Dodgers\n",
        "||Apr 07 22:58:02 || Neutral   ::RT @ScottWarner18: Wood choked on some wood today. \ud83d\ude16 #Dodgers\n",
        "||Apr 07 22:58:02 || Neutral   ::RT @ScottWarner18: Wood choked on some wood today. \ud83d\ude16 #Dodgers\n",
        "||Apr 07 22:58:02 || Neutral   ::RT @ScottWarner18: Wood choked on some wood today. \ud83d\ude16 #Dodgers\n",
        "||Apr 07 22:58:02 || Neutral   ::RT @ScottWarner18: Wood choked on some wood today. \ud83d\ude16 #Dodgers\n",
        "||Apr 07 22:58:02 || Neutral   ::RT @ScottWarner18: Wood choked on some wood today. \ud83d\ude16 #Dodgers\n",
        "||Apr 07 22:58:02 || Neutral   ::RT @ScottWarner18: Wood choked on some wood today. \ud83d\ude16 #Dodgers\n",
        "||Apr 07 22:58:02 || Neutral   ::RT @ScottWarner18: Wood choked on some wood today. \ud83d\ude16 #Dodgers\n",
        "||Apr 07 22:58:02 || Neutral   ::RT @ScottWarner18: Wood choked on some wood today. \ud83d\ude16 #Dodgers\n",
        "||Apr 07 22:58:02 || Neutral   ::RT @ScottWarner18: Wood choked on some wood today. \ud83d\ude16 #Dodgers\n",
        "||Apr 07 22:58:02 || Neutral   ::RT @ScottWarner18: Wood choked on some wood today. \ud83d\ude16 #Dodgers\n",
        "||Apr 07 22:58:02 || Neutral   ::RT @ScottWarner18: Wood choked on some wood today. \ud83d\ude16 #Dodgers\n",
        "||Apr 07 22:58:02 || Neutral   ::RT @ScottWarner18: Wood choked on some wood today. \ud83d\ude16 #Dodgers"
       ]
      },
      {
       "output_type": "stream",
       "stream": "stdout",
       "text": [
        "\n",
        "||Apr 07 22:58:02 || Neutral   ::RT @ScottWarner18: Wood choked on some wood today. \ud83d\ude16 #Dodgers\n",
        "||Apr 07 22:58:02 || Neutral   ::RT @ScottWarner18: Wood choked on some wood today. \ud83d\ude16 #Dodgers\n",
        "||Apr 07 22:58:02 || Neutral   ::RT @ScottWarner18: Wood choked on some wood today. \ud83d\ude16 #Dodgers"
       ]
      },
      {
       "output_type": "stream",
       "stream": "stdout",
       "text": [
        "\n",
        "||Apr 07 22:58:03 || Neutral   ::RT @ScottWarner18: Wood choked on some wood today. \ud83d\ude16 #Dodgers"
       ]
      },
      {
       "output_type": "stream",
       "stream": "stdout",
       "text": [
        "\n",
        "||Apr 07 22:58:03 || Neutral   ::Dodgers are getting smacked smh\n",
        "||Apr 07 22:58:03 || Neutral   ::LA Dodgers EleGiggle"
       ]
      },
      {
       "output_type": "stream",
       "stream": "stdout",
       "text": [
        "\n",
        "||Apr 07 22:58:06 || Negative  ::FUCK THE DODGERS!!!!\ud83d\udd95\ud83c\udffc\ud83d\udd95\ud83c\udffc\ud83d\udd95\ud83c\udffc\ud83d\ude02\ud83d\ude02\ud83d\ude02 https://t.co/dhNy8VAu9e"
       ]
      },
      {
       "output_type": "stream",
       "stream": "stdout",
       "text": [
        "\n",
        "||Apr 07 22:58:06 || Neutral   ::https://t.co/wWZw9DaK7w &gt;&gt; Dodgers' shutout streak ends at 31 in"
       ]
      },
      {
       "output_type": "stream",
       "stream": "stdout",
       "text": [
        "\n",
        "||Apr 07 22:58:06 || Neutral   ::https://t.co/wDqT9WrGYb &gt;&gt; Dodgers' shutout streak ends at 31 in"
       ]
      },
      {
       "output_type": "stream",
       "stream": "stdout",
       "text": [
        "\n",
        "||Apr 07 22:58:07 || Neutral   ::LET'S GET IT. https://t.co/vDbrXzKHtC"
       ]
      },
      {
       "output_type": "stream",
       "stream": "stdout",
       "text": [
        "\n",
        "||Apr 07 22:58:08 || Negative  ::Sorry Dodgers fans. This isn't the Padres... #Giants"
       ]
      },
      {
       "output_type": "stream",
       "stream": "stdout",
       "text": [
        "\n",
        "||Apr 07 22:58:08 || Neutral   ::RT @Dodgers: #Dodgers trail the Giants 7-4 heading to the seventh inni"
       ]
      },
      {
       "output_type": "stream",
       "stream": "stdout",
       "text": [
        "\n",
        "||Apr 07 22:58:08 || Positive  ::.@DodgersNation Pretty much conceded game... while we had the lead the\n",
        "||Apr 07 22:58:08 || Positive  ::Opening Day final: Dodgers beat the Giants, 4-1, as Don Sutton records"
       ]
      },
      {
       "output_type": "stream",
       "stream": "stdout",
       "text": [
        "\n",
        "||Apr 07 22:58:08 || Positive  ::Good hustle putting up the quick inning #Dodgers\n",
        "||Apr 07 22:58:09 || Positive  ::Yall ruined my whole day @dodgers"
       ]
      },
      {
       "output_type": "stream",
       "stream": "stdout",
       "text": [
        "\n",
        "||Apr 07 22:58:09 || Neutral   ::RT @ScottWarner18: Wood choked on some wood today. \ud83d\ude16 #Dodgers"
       ]
      },
      {
       "output_type": "stream",
       "stream": "stdout",
       "text": [
        "\n",
        "||Apr 07 22:58:09 || Neutral   ::RT @ScottWarner18: Wood choked on some wood today. \ud83d\ude16 #Dodgers\n",
        "||Apr 07 22:58:09 || Neutral   ::RT @ScottWarner18: Wood choked on some wood today. \ud83d\ude16 #Dodgers\n",
        "||Apr 07 22:58:09 || Neutral   ::RT @ScottWarner18: Wood choked on some wood today. \ud83d\ude16 #Dodgers\n",
        "||Apr 07 22:58:09 || Neutral   ::RT @ScottWarner18: Wood choked on some wood today. \ud83d\ude16 #Dodgers\n",
        "||Apr 07 22:58:09 || Neutral   ::RT @ScottWarner18: Wood choked on some wood today. \ud83d\ude16 #Dodgers\n",
        "||Apr 07 22:58:09 || Neutral   ::RT @ScottWarner18: Wood choked on some wood today. \ud83d\ude16 #Dodgers\n",
        "||Apr 07 22:58:09 || Neutral   ::RT @ScottWarner18: Wood choked on some wood today. \ud83d\ude16 #Dodgers"
       ]
      },
      {
       "output_type": "stream",
       "stream": "stdout",
       "text": [
        "\n",
        "||Apr 07 22:58:09 || Neutral   ::RT @ScottWarner18: Wood choked on some wood today. \ud83d\ude16 #Dodgers\n",
        "||Apr 07 22:58:09 || Neutral   ::RT @ScottWarner18: Wood choked on some wood today. \ud83d\ude16 #Dodgers\n",
        "||Apr 07 22:58:09 || Neutral   ::RT @ScottWarner18: Wood choked on some wood today. \ud83d\ude16 #Dodgers\n",
        "||Apr 07 22:58:09 || Neutral   ::RT @ScottWarner18: Wood choked on some wood today. \ud83d\ude16 #Dodgers\n",
        "||Apr 07 22:58:09 || Neutral   ::RT @ScottWarner18: Wood choked on some wood today. \ud83d\ude16 #Dodgers\n",
        "||Apr 07 22:58:09 || Neutral   ::RT @ScottWarner18: Wood choked on some wood today. \ud83d\ude16 #Dodgers\n",
        "||Apr 07 22:58:09 || Neutral   ::RT @ScottWarner18: Wood choked on some wood today. \ud83d\ude16 #Dodgers\n",
        "||Apr 07 22:58:09 || Neutral   ::RT @ScottWarner18: Wood choked on some wood today. \ud83d\ude16 #Dodgers\n",
        "||Apr 07 22:58:09 || Neutral   ::RT @ScottWarner18: Wood choked on some wood today. \ud83d\ude16 #Dodgers\n",
        "||Apr 07 22:58:09 || Neutral   ::RT @ScottWarner18: Wood choked on some wood today. \ud83d\ude16 #Dodgers\n",
        "||Apr 07 22:58:09 || Neutral   ::RT @ScottWarner18: Wood choked on some wood today. \ud83d\ude16 #Dodgers\n",
        "||Apr 07 22:58:09 || Neutral   ::RT @ScottWarner18: Wood choked on some wood today. \ud83d\ude16 #Dodgers\n",
        "||Apr 07 22:58:09 || Neutral   ::RT @ScottWarner18: Wood choked on some wood today. \ud83d\ude16 #Dodgers"
       ]
      },
      {
       "output_type": "stream",
       "stream": "stdout",
       "text": [
        "\n",
        "||Apr 07 22:58:09 || Neutral   ::RT @ScottWarner18: Wood choked on some wood today. \ud83d\ude16 #Dodgers\n",
        "||Apr 07 22:58:09 || Neutral   ::RT @ScottWarner18: Wood choked on some wood today. \ud83d\ude16 #Dodgers\n",
        "||Apr 07 22:58:09 || Neutral   ::RT @ScottWarner18: Wood choked on some wood today. \ud83d\ude16 #Dodgers\n",
        "||Apr 07 22:58:09 || Neutral   ::RT @ScottWarner18: Wood choked on some wood today. \ud83d\ude16 #Dodgers\n",
        "||Apr 07 22:58:09 || Neutral   ::RT @ScottWarner18: Wood choked on some wood today. \ud83d\ude16 #Dodgers\n",
        "||Apr 07 22:58:09 || Neutral   ::RT @ScottWarner18: Wood choked on some wood today. \ud83d\ude16 #Dodgers"
       ]
      },
      {
       "ename": "KeyError",
       "evalue": "'text'",
       "output_type": "pyerr",
       "traceback": [
        "\u001b[0;31m---------------------------------------------------------------------------\u001b[0m\n\u001b[0;31mKeyError\u001b[0m                                  Traceback (most recent call last)",
        "\u001b[0;32m<ipython-input-84-c2350a826037>\u001b[0m in \u001b[0;36m<module>\u001b[0;34m()\u001b[0m\n\u001b[0;32m----> 1\u001b[0;31m \u001b[0mlive_twitter_stream\u001b[0m\u001b[0;34m.\u001b[0m\u001b[0mfilter\u001b[0m\u001b[0;34m(\u001b[0m\u001b[0mtrack\u001b[0m\u001b[0;34m=\u001b[0m\u001b[0;34m[\u001b[0m\u001b[0;34m'dodgers'\u001b[0m\u001b[0;34m]\u001b[0m\u001b[0;34m)\u001b[0m\u001b[0;34m\u001b[0m\u001b[0m\n\u001b[0m",
        "\u001b[0;32m/data/home/a1singh/.local/lib/python2.7/site-packages/tweepy/streaming.pyc\u001b[0m in \u001b[0;36mfilter\u001b[0;34m(self, follow, track, async, locations, stall_warnings, languages, encoding, filter_level)\u001b[0m\n\u001b[1;32m    443\u001b[0m         \u001b[0mself\u001b[0m\u001b[0;34m.\u001b[0m\u001b[0msession\u001b[0m\u001b[0;34m.\u001b[0m\u001b[0mparams\u001b[0m \u001b[0;34m=\u001b[0m \u001b[0;34m{\u001b[0m\u001b[0;34m'delimited'\u001b[0m\u001b[0;34m:\u001b[0m \u001b[0;34m'length'\u001b[0m\u001b[0;34m}\u001b[0m\u001b[0;34m\u001b[0m\u001b[0m\n\u001b[1;32m    444\u001b[0m         \u001b[0mself\u001b[0m\u001b[0;34m.\u001b[0m\u001b[0mhost\u001b[0m \u001b[0;34m=\u001b[0m \u001b[0;34m'stream.twitter.com'\u001b[0m\u001b[0;34m\u001b[0m\u001b[0m\n\u001b[0;32m--> 445\u001b[0;31m         \u001b[0mself\u001b[0m\u001b[0;34m.\u001b[0m\u001b[0m_start\u001b[0m\u001b[0;34m(\u001b[0m\u001b[0masync\u001b[0m\u001b[0;34m)\u001b[0m\u001b[0;34m\u001b[0m\u001b[0m\n\u001b[0m\u001b[1;32m    446\u001b[0m \u001b[0;34m\u001b[0m\u001b[0m\n\u001b[1;32m    447\u001b[0m     def sitestream(self, follow, stall_warnings=False,\n",
        "\u001b[0;32m/data/home/a1singh/.local/lib/python2.7/site-packages/tweepy/streaming.pyc\u001b[0m in \u001b[0;36m_start\u001b[0;34m(self, async)\u001b[0m\n\u001b[1;32m    359\u001b[0m             \u001b[0mself\u001b[0m\u001b[0;34m.\u001b[0m\u001b[0m_thread\u001b[0m\u001b[0;34m.\u001b[0m\u001b[0mstart\u001b[0m\u001b[0;34m(\u001b[0m\u001b[0;34m)\u001b[0m\u001b[0;34m\u001b[0m\u001b[0m\n\u001b[1;32m    360\u001b[0m         \u001b[0;32melse\u001b[0m\u001b[0;34m:\u001b[0m\u001b[0;34m\u001b[0m\u001b[0m\n\u001b[0;32m--> 361\u001b[0;31m             \u001b[0mself\u001b[0m\u001b[0;34m.\u001b[0m\u001b[0m_run\u001b[0m\u001b[0;34m(\u001b[0m\u001b[0;34m)\u001b[0m\u001b[0;34m\u001b[0m\u001b[0m\n\u001b[0m\u001b[1;32m    362\u001b[0m \u001b[0;34m\u001b[0m\u001b[0m\n\u001b[1;32m    363\u001b[0m     \u001b[0;32mdef\u001b[0m \u001b[0mon_closed\u001b[0m\u001b[0;34m(\u001b[0m\u001b[0mself\u001b[0m\u001b[0;34m,\u001b[0m \u001b[0mresp\u001b[0m\u001b[0;34m)\u001b[0m\u001b[0;34m:\u001b[0m\u001b[0;34m\u001b[0m\u001b[0m\n",
        "\u001b[0;32m/data/home/a1singh/.local/lib/python2.7/site-packages/tweepy/streaming.pyc\u001b[0m in \u001b[0;36m_run\u001b[0;34m(self)\u001b[0m\n\u001b[1;32m    292\u001b[0m             \u001b[0;31m# call a handler first so that the exception can be logged.\u001b[0m\u001b[0;34m\u001b[0m\u001b[0;34m\u001b[0m\u001b[0m\n\u001b[1;32m    293\u001b[0m             \u001b[0mself\u001b[0m\u001b[0;34m.\u001b[0m\u001b[0mlistener\u001b[0m\u001b[0;34m.\u001b[0m\u001b[0mon_exception\u001b[0m\u001b[0;34m(\u001b[0m\u001b[0mexception\u001b[0m\u001b[0;34m)\u001b[0m\u001b[0;34m\u001b[0m\u001b[0m\n\u001b[0;32m--> 294\u001b[0;31m             \u001b[0;32mraise\u001b[0m \u001b[0mexception\u001b[0m\u001b[0;34m\u001b[0m\u001b[0m\n\u001b[0m\u001b[1;32m    295\u001b[0m \u001b[0;34m\u001b[0m\u001b[0m\n\u001b[1;32m    296\u001b[0m     \u001b[0;32mdef\u001b[0m \u001b[0m_data\u001b[0m\u001b[0;34m(\u001b[0m\u001b[0mself\u001b[0m\u001b[0;34m,\u001b[0m \u001b[0mdata\u001b[0m\u001b[0;34m)\u001b[0m\u001b[0;34m:\u001b[0m\u001b[0;34m\u001b[0m\u001b[0m\n",
        "\u001b[0;31mKeyError\u001b[0m: 'text'"
       ]
      },
      {
       "output_type": "stream",
       "stream": "stdout",
       "text": [
        "\n",
        "||Apr 07 22:58:09 || Neutral   ::RT @ScottWarner18: Wood choked on some wood today. \ud83d\ude16 #Dodgers\n"
       ]
      }
     ],
     "prompt_number": 84
    },
    {
     "cell_type": "code",
     "collapsed": false,
     "input": [],
     "language": "python",
     "metadata": {},
     "outputs": []
    }
   ],
   "metadata": {}
  }
 ]
}
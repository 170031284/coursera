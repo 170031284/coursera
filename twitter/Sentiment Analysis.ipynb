{
 "metadata": {
  "name": ""
 },
 "nbformat": 3,
 "nbformat_minor": 0,
 "worksheets": [
  {
   "cells": [
    {
     "cell_type": "code",
     "collapsed": false,
     "input": [
      "import json"
     ],
     "language": "python",
     "metadata": {},
     "outputs": [],
     "prompt_number": 1
    },
    {
     "cell_type": "code",
     "collapsed": false,
     "input": [
      "from tweepy.streaming import StreamListener"
     ],
     "language": "python",
     "metadata": {},
     "outputs": [],
     "prompt_number": 2
    },
    {
     "cell_type": "code",
     "collapsed": false,
     "input": [
      "from tweepy import OAuthHandler, Stream"
     ],
     "language": "python",
     "metadata": {},
     "outputs": [],
     "prompt_number": 4
    },
    {
     "cell_type": "code",
     "collapsed": false,
     "input": [
      "from textblob import TextBlob"
     ],
     "language": "python",
     "metadata": {},
     "outputs": [],
     "prompt_number": 5
    },
    {
     "cell_type": "code",
     "collapsed": false,
     "input": [
      "from elasticsearch import Elasticsearch"
     ],
     "language": "python",
     "metadata": {},
     "outputs": [],
     "prompt_number": 6
    },
    {
     "cell_type": "code",
     "collapsed": false,
     "input": [
      "access_token = \"717406917237157888-RtYDqiTJmo4BRPK7SdAr9UsnohFvmQT\"\n",
      "access_token_secret = \"SqENHJYenhTtqvD7sYNOmJjHO3gkgqizb454tO4fhVzKS\"\n",
      "consumer_key = \"GDL5dx5hkHtONsbFYJyEgB1sO\"\n",
      "consumer_secret = \"2xEVhRjOGpg36aMNwGvDgEkS50tEOiLGyAgVGuNN71OwbWAOYy\""
     ],
     "language": "python",
     "metadata": {},
     "outputs": [],
     "prompt_number": 7
    },
    {
     "cell_type": "code",
     "collapsed": false,
     "input": [
      "es = Elasticsearch()"
     ],
     "language": "python",
     "metadata": {},
     "outputs": [],
     "prompt_number": 8
    },
    {
     "cell_type": "code",
     "collapsed": false,
     "input": [
      "class TweetStreamListener(StreamListener):\n",
      "    def on_data(self, data):\n",
      "        tweet = json.loads(data)\n",
      "        analysis = TextBlob(tweet[\"text\"])\n",
      "        sentiment = \"Neutral\"\n",
      "        if analysis.sentiment.polarity > 0:\n",
      "            sentiment = \"Positive Sentiment\"\n",
      "        elif analysis.sentiment.polarity < 0:\n",
      "            sentiment = \"Negative Sentiment\"\n",
      "        print sentiment + \" >> \" + tweet[\"text\"][:90]\n",
      "        \n",
      "        es.index(index=\"sentiment\",\n",
      "                 doc_type=\"tweet_storage\",\n",
      "                 body={\"author\":tweet[\"user\"][\"screen_name\"],\n",
      "                       \"date\":tweet[\"created_at\"],\n",
      "                       \"message\":tweet[\"text\"],\n",
      "                       \"polarity\":analysis.sentiment.polarity,\n",
      "                       \"subjectivity\":analysis.sentiment.subjectivity,\n",
      "                       \"sentiment\": sentiment})\n",
      "        return True\n",
      "    \n",
      "    def on_error(self, status):\n",
      "        print status\n",
      "        "
     ],
     "language": "python",
     "metadata": {},
     "outputs": [],
     "prompt_number": 33
    },
    {
     "cell_type": "code",
     "collapsed": false,
     "input": [
      "listener = TweetStreamListener()"
     ],
     "language": "python",
     "metadata": {},
     "outputs": [],
     "prompt_number": 34
    },
    {
     "cell_type": "code",
     "collapsed": false,
     "input": [
      "auth_key = OAuthHandler(consumer_key, consumer_secret)"
     ],
     "language": "python",
     "metadata": {},
     "outputs": [],
     "prompt_number": 35
    },
    {
     "cell_type": "code",
     "collapsed": false,
     "input": [
      "auth_key.set_access_token(access_token, access_token_secret)"
     ],
     "language": "python",
     "metadata": {},
     "outputs": [],
     "prompt_number": 36
    },
    {
     "cell_type": "code",
     "collapsed": false,
     "input": [
      "live_twitter_stream = Stream(auth_key, listener)"
     ],
     "language": "python",
     "metadata": {},
     "outputs": [],
     "prompt_number": 37
    },
    {
     "cell_type": "code",
     "collapsed": false,
     "input": [
      "live_twitter_stream.filter(track=['dodgers'])"
     ],
     "language": "python",
     "metadata": {},
     "outputs": [
      {
       "output_type": "stream",
       "stream": "stdout",
       "text": [
        "Negative Sentiment >> RT @TC_Hughes: Dave Roberts with his first bad decision of the season, sending Wood back o\n",
        "Negative Sentiment >> Yimi Garcia enters the game after Alex Wood gives up back-to-back hits to Matt Duffy and B"
       ]
      },
      {
       "output_type": "stream",
       "stream": "stdout",
       "text": [
        "\n",
        "Negative Sentiment >> Let's go Giants fuck the Dodgers\ud83d\ude09"
       ]
      },
      {
       "output_type": "stream",
       "stream": "stdout",
       "text": [
        "\n",
        "Neutral >> RT @denisebrownLA: @Dodgers pitching = \ud83d\udd25\ud83d\udd25\ud83d\udd25"
       ]
      },
      {
       "output_type": "stream",
       "stream": "stdout",
       "text": [
        "\n",
        "Neutral >> Dodgers gonna cough up their 4-0 lead #GetCucked"
       ]
      },
      {
       "output_type": "stream",
       "stream": "stdout",
       "text": [
        "\n",
        "Negative Sentiment >> Boy, do the #Dodgers need another lefty reliever bad. Only having JP in the pen forces Woo"
       ]
      },
      {
       "output_type": "stream",
       "stream": "stdout",
       "text": [
        "\n",
        "Neutral >> Yasiel Puig de 4-3 en victoria de Dodgers sobre Padres https://t.co/tRRxPUN9eo"
       ]
      },
      {
       "output_type": "stream",
       "stream": "stdout",
       "text": [
        "\n",
        "Neutral >> @TwinBnotTwinA @Dodgers"
       ]
      },
      {
       "output_type": "stream",
       "stream": "stdout",
       "text": [
        "\n",
        "Negative Sentiment >> @ScottWarner18 @Dodgers maybe if Wood wasn't choking so hard"
       ]
      },
      {
       "output_type": "stream",
       "stream": "stdout",
       "text": [
        "\n",
        "Negative Sentiment >> RT @Post_RickSilva: Getting Alex Wood out of the game didn't have to be that difficult a d"
       ]
      },
      {
       "output_type": "stream",
       "stream": "stdout",
       "text": [
        "\n",
        "Neutral >> Pitching change for the Dodgers"
       ]
      },
      {
       "output_type": "stream",
       "stream": "stdout",
       "text": [
        "\n",
        "Negative Sentiment >> Dodger pitching finally allowed a run, falling just shy of... https://t.co/4MxeVV7Q8t #Dod"
       ]
      },
      {
       "output_type": "stream",
       "stream": "stdout",
       "text": [
        "\n",
        "Neutral >> @Ehire21 sale a batear como emergente en el sexto inning por @Hesto23. Hombres en 1B y 2B "
       ]
      },
      {
       "output_type": "stream",
       "stream": "stdout",
       "text": [
        "\n",
        "Neutral >> Lmaoooo RT @TwinBnotTwinA: Only in Los Angeles man... Obviously @Dodgers fans too."
       ]
      },
      {
       "output_type": "stream",
       "stream": "stdout",
       "text": [
        "\n",
        "Positive Sentiment >> Dodgers bringing in new pitcher - 2 on and no out for Giants in sixth https://t.co/bZv6qms"
       ]
      },
      {
       "output_type": "stream",
       "stream": "stdout",
       "text": [
        "\n",
        "Negative Sentiment >> He wouldn't have had to take Wood out if he would hit for him in the last half inning. #Do"
       ]
      },
      {
       "output_type": "stream",
       "stream": "stdout",
       "text": [
        "\n",
        "Positive Sentiment >> RT @76: Best seats in the house. Only 5 more days till the @Dodgers #OpeningDay. #tbt http"
       ]
      },
      {
       "output_type": "stream",
       "stream": "stdout",
       "text": [
        "\n",
        "Positive Sentiment >> RT @DodgerInsider: The first run of 2016 against the Dodgers comes on a walk, a bunt singl"
       ]
      },
      {
       "output_type": "stream",
       "stream": "stdout",
       "text": [
        "\n",
        "Neutral >> Respect and protect our fragile, eggshell one run lead #Dodgers\n",
        "Neutral >> RT @BBTN: After throwing 31 shutout innings, the Dodgers give up their 1st runs of the sea"
       ]
      },
      {
       "output_type": "stream",
       "stream": "stdout",
       "text": [
        "\n",
        "Positive Sentiment >> RT @Dodgers: That's 31 straight scoreless innings for Dodger pitchers to start 2016. #Dodg"
       ]
      },
      {
       "output_type": "stream",
       "stream": "stdout",
       "text": [
        "\n",
        "Neutral >> RT @GuillermoCelis: Despu\u00e9s de colgar 31 ceros al inicio de la temporada, finalmente los p"
       ]
      },
      {
       "output_type": "stream",
       "stream": "stdout",
       "text": [
        "\n",
        "Neutral >> #Dodgers vs #GiantsBaseball  #mlb #SanFrancisco https://t.co/hnU4Ww02zp"
       ]
      },
      {
       "output_type": "stream",
       "stream": "stdout",
       "text": [
        "\n",
        "Neutral >> RT @SumarioDeportiv: Triple de Panik,1ra carrera que permiten los Dodgers."
       ]
      },
      {
       "output_type": "stream",
       "stream": "stdout",
       "text": [
        "\n",
        "Neutral >> RT @hunterdixon_22: Giants suck #dodgers"
       ]
      },
      {
       "output_type": "stream",
       "stream": "stdout",
       "text": [
        "\n",
        "Positive Sentiment >> RT @cathom17: When the Dodgers win vs when they lose https://t.co/bhgQEn6geY"
       ]
      },
      {
       "output_type": "stream",
       "stream": "stdout",
       "text": [
        "\n",
        "Neutral >> \u4eca\u79c1\u306f\u3001Oklahoma City Dodgers Baseball Network \u3092@TuneIn-#NowPlaying\u3067\u8074\u3044\u3066\u3044\u307e\u3059\ud83c\uddfa\ud83c\uddf8\u30c9\u30b8\u30e3\u30fc\u30ba\u5c02\u9580\u5c40\u2716\ufe0e\u30b8\u30e3\u30a4\u30a2\u30f3\u30c4 h"
       ]
      },
      {
       "output_type": "stream",
       "stream": "stdout",
       "text": [
        "\n",
        "Neutral >> RT @_ToniiRenee: couldn't be any happier w/ the way the Dodgers are starting off\ud83d\udcaa\ud83c\udffc\ud83d\udc99\u26be\ufe0f"
       ]
      },
      {
       "output_type": "stream",
       "stream": "stdout",
       "text": [
        "\n",
        "Neutral >> RT @ESPN_Beisbol: Los @dodgers (31.2) quedaron a un out de empatar la marca de m\u00e1s innings"
       ]
      },
      {
       "output_type": "stream",
       "stream": "stdout",
       "text": [
        "\n",
        "Positive Sentiment >> RT @Dodgers: That's 31 straight scoreless innings for Dodger pitchers to start 2016. #Dodg"
       ]
      },
      {
       "output_type": "stream",
       "stream": "stdout",
       "text": [
        "\n",
        "Positive Sentiment >> RT @Dodgers: That's 31 straight scoreless innings for Dodger pitchers to start 2016. #Dodg"
       ]
      },
      {
       "output_type": "stream",
       "stream": "stdout",
       "text": [
        "\n",
        "Positive Sentiment >> @JessiexTorres I'm so excited for you! I hope he's on the Dodgers dude haha"
       ]
      },
      {
       "output_type": "stream",
       "stream": "stdout",
       "text": [
        "\n",
        "Neutral >> dodgers losing this one"
       ]
      },
      {
       "output_type": "stream",
       "stream": "stdout",
       "text": [
        "\n",
        "Positive Sentiment >> RT @Dodgers: That's 31 straight scoreless innings for Dodger pitchers to start 2016. #Dodg"
       ]
      },
      {
       "output_type": "stream",
       "stream": "stdout",
       "text": [
        "\n",
        "Neutral >> We're all in agreement that Wood shouldn't have hit for himself or started the 6th, yeah? "
       ]
      },
      {
       "output_type": "stream",
       "stream": "stdout",
       "text": [
        "\n",
        "Neutral >> RT @Dodgers: Giants score three in the fifth to end the #Dodgers' scoreless innings streak"
       ]
      },
      {
       "output_type": "stream",
       "stream": "stdout",
       "text": [
        "\n",
        "Neutral >> @Dodgers"
       ]
      },
      {
       "output_type": "stream",
       "stream": "stdout",
       "text": [
        "\n",
        "Neutral >> @Dodgers @Awood45 so why tf did alex go back out there"
       ]
      },
      {
       "output_type": "stream",
       "stream": "stdout",
       "text": [
        "\n",
        "Neutral >> RT @jamblinman: We're all in agreement that Wood shouldn't have hit for himself or started"
       ]
      },
      {
       "output_type": "stream",
       "stream": "stdout",
       "text": [
        "\n",
        "Neutral >> Come on dodgers"
       ]
      },
      {
       "output_type": "stream",
       "stream": "stdout",
       "text": [
        "\n",
        "Neutral >> Crooklyn Dodgers - Return Of The Crooklyn Dodgers https://t.co/0bOn5ykID4 #BIMAFM92 #GetPl"
       ]
      },
      {
       "output_type": "stream",
       "stream": "stdout",
       "text": [
        "\n",
        "Neutral >> RT @billplunkettocr: Dave Roberts officially just another manager now. Press box questioni"
       ]
      },
      {
       "output_type": "stream",
       "stream": "stdout",
       "text": [
        "\n",
        "Negative Sentiment >> Thankfully the game is in San Fran so giants fans don't have to worry about dodgers fans k"
       ]
      },
      {
       "output_type": "stream",
       "stream": "stdout",
       "text": [
        "\n",
        "Negative Sentiment >> @THEREAL_DV typical @Dodgers management of pitching.   Always wait a few inn too late to m"
       ]
      },
      {
       "output_type": "stream",
       "stream": "stdout",
       "text": [
        "\n",
        "Neutral >> 49ers need to sign this guy just based on his SFG fandom.... https://t.co/ENU6cJutta"
       ]
      },
      {
       "output_type": "stream",
       "stream": "stdout",
       "text": [
        "\n",
        "Positive Sentiment >> RT @jerrybandito: I become a very religious old Mexican man from East LA when the Dodgers "
       ]
      },
      {
       "output_type": "stream",
       "stream": "stdout",
       "text": [
        "\n",
        "Neutral >> RT @cantpredictball: Dodgers pitching allowed a run\n",
        "Neutral >> Time for the defense to wake up....@Dodgers"
       ]
      },
      {
       "output_type": "stream",
       "stream": "stdout",
       "text": [
        "\n",
        "Neutral >> F*** you @TWCSportsNet!! I can't even watch my Dodgers on tv. \ud83d\ude21 #IWantMyDodgers"
       ]
      },
      {
       "output_type": "stream",
       "stream": "stdout",
       "text": [
        "\n",
        "Positive Sentiment >> #MLB #Padres Dodgers help Dave Roberts savor first win https://t.co/vjMgPtdigx https://t.c"
       ]
      },
      {
       "output_type": "stream",
       "stream": "stdout",
       "text": [
        "\n",
        "Negative Sentiment >> RT @ESPNStatsInfo: Dodgers: 31 straight scoreless innings pitched, 1 shy of 1963 Cardinals"
       ]
      },
      {
       "output_type": "stream",
       "stream": "stdout",
       "text": [
        "\n",
        "Neutral >> LAD 4 - SF 3. Bot 6. 1 out. Runners on 2nd,3rd. #SFGiants Adrianza at-bat vs #Dodgers. mlb"
       ]
      },
      {
       "output_type": "stream",
       "stream": "stdout",
       "text": [
        "\n",
        "Positive Sentiment >> Nice play Garcia way to stay with it #Dodgers #defense"
       ]
      },
      {
       "output_type": "stream",
       "stream": "stdout",
       "text": [
        "\n",
        "Negative Sentiment >> RT @ESPNStatsInfo: Dodgers: 31 straight scoreless innings pitched, 1 shy of 1963 Cardinals"
       ]
      },
      {
       "output_type": "stream",
       "stream": "stdout",
       "text": [
        "\n",
        "Positive Sentiment >> Interested to see @RhonddaBryant denying Gordon Brown's penchant for tax dodgers. That's w"
       ]
      },
      {
       "output_type": "stream",
       "stream": "stdout",
       "text": [
        "\n",
        "Neutral >> RT @WoodBatBrat: When the Dodgers and Giants are playing you know #BaseballIsBack \u26be\ufe0f\ud83d\ude0d\ud83d\udcaf"
       ]
      },
      {
       "output_type": "stream",
       "stream": "stdout",
       "text": [
        "\n",
        "Positive Sentiment >> RT @Independent: A gang has been jailed for stealing \u00a320,000 worth of Jammie Dodgers https"
       ]
      },
      {
       "output_type": "stream",
       "stream": "stdout",
       "text": [
        "\n",
        "Negative Sentiment >> RT @nick__despo: FUCK THE DODGERS"
       ]
      },
      {
       "output_type": "stream",
       "stream": "stdout",
       "text": [
        "\n",
        "Positive Sentiment >> RT @davenellist: @bbcqt First step re #panamapapers should be to rehire the 11000 HMRC sta"
       ]
      },
      {
       "output_type": "stream",
       "stream": "stdout",
       "text": [
        "\n",
        "Neutral >> TIX https://t.co/9Cz9AUkyIj L L L 2 -#Dodgers VS ARIZONA D'BACK TUES 4/12/16 1:10PM RESERV"
       ]
      },
      {
       "output_type": "stream",
       "stream": "stdout",
       "text": [
        "\n",
        "Negative Sentiment >> Man dodgers are choking a little here \ud83d\ude29"
       ]
      },
      {
       "output_type": "stream",
       "stream": "stdout",
       "text": [
        "\n",
        "Neutral >> @annyu16 @Dodgers @SFGiants ever sit behind homeplate in LA? Ushers give u free dodger gea"
       ]
      },
      {
       "output_type": "stream",
       "stream": "stdout",
       "text": [
        "\n",
        "Neutral >> #Memorabilia 1971 #LosAngeles #Dodgers Yearbook - Dodger Stadium 10th Anniversary https://"
       ]
      },
      {
       "output_type": "stream",
       "stream": "stdout",
       "text": [
        "\n",
        "Neutral >> 2016 Donruss Elite Dominator CLAYTON KERSHAW 647/999 Los Angeles Dodgers https://t.co/5I17"
       ]
      },
      {
       "output_type": "stream",
       "stream": "stdout",
       "text": [
        "\n",
        "Neutral >> 2014 #Topps Finest Yasiel Puig X-Fractor #Card # 50 Los Angeles #Dodgers https://t.co/jE00"
       ]
      },
      {
       "output_type": "stream",
       "stream": "stdout",
       "text": [
        "\n",
        "Neutral >> RT @WoodBatBrat: When the Dodgers and Giants are playing you know #BaseballIsBack \u26be\ufe0f\ud83d\ude0d\ud83d\udcaf"
       ]
      },
      {
       "output_type": "stream",
       "stream": "stdout",
       "text": [
        "\n",
        "Negative Sentiment >> And hopefully this year I can go to a cloudy dodgers game"
       ]
      },
      {
       "output_type": "stream",
       "stream": "stdout",
       "text": [
        "\n",
        "Neutral >> Mis #Padres gan\u00e1ndole a los Dodgers, que hermosura"
       ]
      },
      {
       "output_type": "stream",
       "stream": "stdout",
       "text": [
        "\n",
        "Neutral >> RT @Dodgers: Giants score three in the fifth to end the #Dodgers' scoreless innings streak"
       ]
      },
      {
       "output_type": "stream",
       "stream": "stdout",
       "text": [
        "\n",
        "Negative Sentiment >> @Dodgers Pitchers with strange herky jerky deliveries are just to sketchy to be starting p"
       ]
      },
      {
       "output_type": "stream",
       "stream": "stdout",
       "text": [
        "\n",
        "Positive Sentiment >> Nice play Garcia! #Dodgers"
       ]
      },
      {
       "output_type": "stream",
       "stream": "stdout",
       "text": [
        "\n",
        "Positive Sentiment >> RT @A_D_McLean: Interested to see @RhonddaBryant denying Gordon Brown's penchant for tax d"
       ]
      },
      {
       "output_type": "stream",
       "stream": "stdout",
       "text": [
        "\n",
        "Positive Sentiment >> RT @Independent: A gang has been jailed for stealing \u00a320,000 worth of Jammie Dodgers https"
       ]
      },
      {
       "output_type": "stream",
       "stream": "stdout",
       "text": [
        "\n",
        "Positive Sentiment >> This dodgers vs giants game is good"
       ]
      },
      {
       "output_type": "stream",
       "stream": "stdout",
       "text": [
        "\n",
        "Positive Sentiment >> Dodgers playin good\n",
        "Neutral >> need a strike out here Garcia @Dodgers #Dodgers"
       ]
      },
      {
       "output_type": "stream",
       "stream": "stdout",
       "text": [
        "\n",
        "Negative Sentiment >> Why must when the Dodgers play the Giants they always do weird shit"
       ]
      },
      {
       "output_type": "stream",
       "stream": "stdout",
       "text": [
        "\n",
        "Neutral >> An inning off, but close enough... https://t.co/kgPf7VPKmt"
       ]
      },
      {
       "output_type": "stream",
       "stream": "stdout",
       "text": [
        "\n",
        "Positive Sentiment >> I uploaded a new track, \"NGSC West Recess 4-6-16\", on #spreaker #dodgers #mlb #ncaatournam"
       ]
      },
      {
       "output_type": "stream",
       "stream": "stdout",
       "text": [
        "\n",
        "Neutral >> ESPN responds to Dodgers blackout in L.A. https://t.co/MPFMu9EtnH"
       ]
      },
      {
       "output_type": "stream",
       "stream": "stdout",
       "text": [
        "\n",
        "Neutral >> RT @jamblinman: We're all in agreement that Wood shouldn't have hit for himself or started"
       ]
      },
      {
       "output_type": "stream",
       "stream": "stdout",
       "text": [
        "\n",
        "Negative Sentiment >> FUCK THE DODGERS AND GIANTS!!! Go D Backs!!!\n",
        "Negative Sentiment >> @Dodgers As long as Honeycutt has a say on when to pull a pitcher, we screwed! Why was he "
       ]
      },
      {
       "output_type": "stream",
       "stream": "stdout",
       "text": [
        "\n",
        "Neutral >> @Surfguy805 @Dodgers its bs.  Wood was done 5 batters ago."
       ]
      },
      {
       "output_type": "stream",
       "stream": "stdout",
       "text": [
        "\n",
        "Neutral >> Wood might be bullpen material. Struggled with lineup 2nd/3rd time around #Dodgers"
       ]
      },
      {
       "output_type": "stream",
       "stream": "stdout",
       "text": [
        "\n",
        "Negative Sentiment >> @IJSbignose daleks are shit though! \n",
        "Stairs, jammy dodgers-anything flummoxes them! Worst "
       ]
      },
      {
       "output_type": "stream",
       "stream": "stdout",
       "text": [
        "\n",
        "Positive Sentiment >> Watch: Dodgers score on first overturned neighborhood play in MLB history https://t.co/8Oy"
       ]
      },
      {
       "output_type": "stream",
       "stream": "stdout",
       "text": [
        "\n",
        "Positive Sentiment >> @JoshCannon99 Heston had just gone through the Dodgers like a hot knife through butter, an"
       ]
      },
      {
       "output_type": "stream",
       "stream": "stdout",
       "text": [
        "\n",
        "Positive Sentiment >> 2 run single Angel Pagan and #Dodgers trail for the first time this season, 5-4."
       ]
      },
      {
       "output_type": "stream",
       "stream": "stdout",
       "text": [
        "\n",
        "Positive Sentiment >> if Don Mattingly had kept alex wood in, you'd kill him. gonna criticize dave roberts or is"
       ]
      },
      {
       "output_type": "stream",
       "stream": "stdout",
       "text": [
        "\n",
        "Neutral >> Cmon Dodgers."
       ]
      },
      {
       "output_type": "stream",
       "stream": "stdout",
       "text": [
        "\n",
        "Neutral >> #Dodgers STINK"
       ]
      },
      {
       "output_type": "stream",
       "stream": "stdout",
       "text": [
        "\n",
        "Neutral >> RT @Dodgers: Giants score three in the fifth to end the #Dodgers' scoreless innings streak"
       ]
      },
      {
       "output_type": "stream",
       "stream": "stdout",
       "text": [
        "\n",
        "Positive Sentiment >> RT @AlexPavlovic: Brandon Crawford becomes the first player to score against the Dodgers t"
       ]
      },
      {
       "output_type": "stream",
       "stream": "stdout",
       "text": [
        "\n",
        "Negative Sentiment >> David Cameron 'completely undermining' Tory claims to be tough on tax dodgers https://t.co"
       ]
      },
      {
       "output_type": "stream",
       "stream": "stdout",
       "text": [
        "\n",
        "Neutral >> Dodgers ass smh"
       ]
      },
      {
       "output_type": "stream",
       "stream": "stdout",
       "text": [
        "\n",
        "Neutral >> RT @ESPNStatsInfo: Dodgers now with 30 consecutive scoreless innings pitched. That's 2 inn"
       ]
      },
      {
       "output_type": "stream",
       "stream": "stdout",
       "text": [
        "\n",
        "Positive Sentiment >> Dodgers trail for the first time this season."
       ]
      },
      {
       "output_type": "stream",
       "stream": "stdout",
       "text": [
        "\n",
        "Neutral >> come one Dodgers!"
       ]
      },
      {
       "output_type": "stream",
       "stream": "stdout",
       "text": [
        "\n",
        "Neutral >> Dodgers Trail 5-4."
       ]
      },
      {
       "output_type": "stream",
       "stream": "stdout",
       "text": [
        "\n",
        "Neutral >> San Francisco Giants 4:4 LA Dodgers on https://t.co/xOqMjgNva7, MLB"
       ]
      },
      {
       "output_type": "stream",
       "stream": "stdout",
       "text": [
        "\n",
        "Negative Sentiment >> Dodgers are losing :("
       ]
      },
      {
       "output_type": "stream",
       "stream": "stdout",
       "text": [
        "\n",
        "Neutral >> Yasiel Puig de 4-3 en victoria de Dodgers sobre Padres https://t.co/GMpfqQxLUl"
       ]
      },
      {
       "output_type": "stream",
       "stream": "stdout",
       "text": [
        "\n",
        "Positive Sentiment >> LOL DODGERS"
       ]
      },
      {
       "output_type": "stream",
       "stream": "stdout",
       "text": [
        "\n",
        "Neutral >> San Francisco Giants 5:4 LA Dodgers on https://t.co/xOqMjgNva7, MLB"
       ]
      },
      {
       "output_type": "stream",
       "stream": "stdout",
       "text": [
        "\n",
        "Positive Sentiment >> Pagan singles and the Dodgers trail for the first time in 2016"
       ]
      },
      {
       "output_type": "stream",
       "stream": "stdout",
       "text": [
        "\n",
        "Negative Sentiment >> And for the first time this season, the Dodgers trail in a game."
       ]
      },
      {
       "output_type": "stream",
       "stream": "stdout",
       "text": [
        "\n",
        "Neutral >> Dodgers are losing?!"
       ]
      },
      {
       "output_type": "stream",
       "stream": "stdout",
       "text": [
        "\n",
        "Neutral >> RT @Dodgers: Butter and egg man delivers again.\n",
        "\n",
        "\ud83d\udcf7\uff1a@JonSooHooPics https://t.co/SQFceostgY"
       ]
      },
      {
       "output_type": "stream",
       "stream": "stdout",
       "text": [
        "\n",
        "Positive Sentiment >> Aww man..lets go Dodgers!"
       ]
      },
      {
       "output_type": "stream",
       "stream": "stdout",
       "text": [
        "\n",
        "Negative Sentiment >> Turns out the Dodgers aren't so tough when they're actually allowing runs."
       ]
      },
      {
       "output_type": "stream",
       "stream": "stdout",
       "text": [
        "\n",
        "Neutral >> Pa-GONE is the Dodgers lead!"
       ]
      },
      {
       "output_type": "stream",
       "stream": "stdout",
       "text": [
        "\n",
        "Positive Sentiment >> RT @Dodgers: That's 31 straight scoreless innings for Dodger pitchers to start 2016. #Dodg"
       ]
      },
      {
       "output_type": "stream",
       "stream": "stdout",
       "text": [
        "\n",
        "Positive Sentiment >> For the first time all season, the Los Angeles Dodgers are trailing."
       ]
      },
      {
       "output_type": "stream",
       "stream": "stdout",
       "text": [
        "\n",
        "Neutral >> @Dodgers why did the Dodgers keep ALEX wood,he blew games last year"
       ]
      },
      {
       "output_type": "stream",
       "stream": "stdout",
       "text": [
        "\n",
        "Neutral >> *Rage Quits*\n",
        "\n",
        "#Dodgers"
       ]
      },
      {
       "output_type": "stream",
       "stream": "stdout",
       "text": [
        "\n",
        "Negative Sentiment >> Giants take the lead fuck you Dodgers \ud83d\ude4f\ud83c\udffc"
       ]
      },
      {
       "output_type": "stream",
       "stream": "stdout",
       "text": [
        "\n",
        "Neutral >> RT @Dodgers: Giants score three in the fifth to end the #Dodgers' scoreless innings streak"
       ]
      },
      {
       "output_type": "stream",
       "stream": "stdout",
       "text": [
        "\n",
        "Neutral >> #Cuba Yasiel Puig de 4-3 en victoria de Dodgers sobre Padres https://t.co/RlhpxsT7yo"
       ]
      },
      {
       "output_type": "stream",
       "stream": "stdout",
       "text": [
        "\n",
        "Neutral >> Look what came in the mail ! Shoutout to @LEVIS for hooking it up !! @Dodgers https://t.co\n",
        "Positive Sentiment >> RT @si_mlb: Watch: Dodgers score on first overturned neighborhood play in MLB history http"
       ]
      },
      {
       "output_type": "stream",
       "stream": "stdout",
       "text": [
        "\n",
        "Positive Sentiment >> RT @DodgerInsider: Dodgers trail for the first time this season."
       ]
      },
      {
       "output_type": "stream",
       "stream": "stdout",
       "text": [
        "\n",
        "Neutral >> Dodgers over 8\ud83d\udcb0\n",
        "Negative Sentiment >> The Dodgers trail in a Major League Baseball game in 2016"
       ]
      },
      {
       "output_type": "stream",
       "stream": "stdout",
       "text": [
        "\n",
        "Positive Sentiment >> RT @DodgerInsider: Dodgers trail for the first time this season."
       ]
      },
      {
       "output_type": "stream",
       "stream": "stdout",
       "text": [
        "\n",
        "Positive Sentiment >> LOL Dodgers"
       ]
      },
      {
       "output_type": "stream",
       "stream": "stdout",
       "text": [
        "\n",
        "Neutral >> RT @mirandinhasteva: how can @bbcquestiontime\u00a0remain impartial re #taxavoidance\u00a0when BBC C"
       ]
      },
      {
       "output_type": "stream",
       "stream": "stdout",
       "text": [
        "\n",
        "Positive Sentiment >> @thomasavent3 @Dodgers I feel great"
       ]
      },
      {
       "output_type": "stream",
       "stream": "stdout",
       "text": [
        "\n",
        "Neutral >> #Cuba Yasiel Puig de 4-3 en victoria de Dodgers sobre Padres https://t.co/13juk3ymz1"
       ]
      },
      {
       "output_type": "stream",
       "stream": "stdout",
       "text": [
        "\n",
        "Neutral >> come on dodgers!"
       ]
      },
      {
       "output_type": "stream",
       "stream": "stdout",
       "text": [
        "\n",
        "Neutral >> RT @pjacobosports: All eyes on #Dodgers @RossStripling @SportsArticleRT @SportsBlogRT @Spo"
       ]
      },
      {
       "output_type": "stream",
       "stream": "stdout",
       "text": [
        "\n",
        "Positive Sentiment >> Dodgers getting an early start to their annual choke job\n",
        "Positive Sentiment >> Lol https://t.co/pdnrir6bNf"
       ]
      },
      {
       "output_type": "stream",
       "stream": "stdout",
       "text": [
        "\n",
        "Neutral >> LAD 4 - SF 3. Bot 6. 1 out. Runners on 2nd,3rd. #SFGiants Pagan at-bat vs #Dodgers. mlb-tv"
       ]
      },
      {
       "output_type": "stream",
       "stream": "stdout",
       "text": [
        "\n",
        "Neutral >> Fuckin Dodgers man \ud83d\ude24"
       ]
      },
      {
       "output_type": "stream",
       "stream": "stdout",
       "text": [
        "\n",
        "Neutral >> Fuckin Dodgers.\n",
        "Negative Sentiment >> RT @ESPNStatsInfo: Dodgers: 31 straight scoreless innings pitched, 1 shy of 1963 Cardinals"
       ]
      },
      {
       "output_type": "stream",
       "stream": "stdout",
       "text": [
        "\n",
        "Negative Sentiment >> hahaha fuck the Dodgers"
       ]
      },
      {
       "output_type": "stream",
       "stream": "stdout",
       "text": [
        "\n",
        "Neutral >> @GuidoFawkes @RhonddaBryant talking of tax dodgers who funds the Labour party @bbcquestion"
       ]
      },
      {
       "output_type": "stream",
       "stream": "stdout",
       "text": [
        "\n",
        "Neutral >> GIANTS TAKE THE LEAD 5-4 SUCK IT DODGERS #SFGiants - #BeatLA"
       ]
      },
      {
       "output_type": "stream",
       "stream": "stdout",
       "text": [
        "\n",
        "Neutral >> Hey Dodgers, about that four-run lead you had."
       ]
      },
      {
       "output_type": "stream",
       "stream": "stdout",
       "text": [
        "\n",
        "Negative Sentiment >> Fuck the dodgers\n",
        "Negative Sentiment >> Fuck!!! Take the fucking pitcher out @Dodgers"
       ]
      },
      {
       "output_type": "stream",
       "stream": "stdout",
       "text": [
        "\n",
        "Positive Sentiment >> RT @DodgerInsider: Dodgers trail for the first time this season."
       ]
      },
      {
       "output_type": "stream",
       "stream": "stdout",
       "text": [
        "\n",
        "Negative Sentiment >> Lets Go!!!!!!!!!!! Fuck the dodgers"
       ]
      },
      {
       "output_type": "stream",
       "stream": "stdout",
       "text": [
        "\n",
        "Neutral >> RT @Dodgers: Giants score three in the fifth to end the #Dodgers' scoreless innings streak"
       ]
      },
      {
       "output_type": "stream",
       "stream": "stdout",
       "text": [
        "\n",
        "Negative Sentiment >> 5-4 Giants Bot 6 :( #Dodgers @Dodgers\n",
        "Neutral >> There's the Dodgers we remember.\n",
        "Neutral >> RT @Dodgers: Giants score three in the fifth to end the #Dodgers' scoreless innings streak"
       ]
      },
      {
       "output_type": "stream",
       "stream": "stdout",
       "text": [
        "\n",
        "Neutral >> why @Dodgers\n",
        "Negative Sentiment >> Dodgers wtf."
       ]
      },
      {
       "output_type": "stream",
       "stream": "stdout",
       "text": [
        "\n",
        "Neutral >> #Cuba  Yasiel Puig de 4-3 en victoria de Dodgers sobre Padres https://t.co/HIpWHyi9pW #Lau\n",
        "Neutral >> Don't talk to me , the dodgers are losing \ud83d\ude44\ud83d\ude44"
       ]
      },
      {
       "output_type": "stream",
       "stream": "stdout",
       "text": [
        "\n",
        "Positive Sentiment >> first time the Dodgers trail \ud83d\ude43\n",
        "Negative Sentiment >> Long long long year incoming for Dodgers &amp; Nats"
       ]
      },
      {
       "output_type": "stream",
       "stream": "stdout",
       "text": [
        "\n",
        "Neutral >> SUCK IT DODGERS #sfgiants\n",
        "Positive Sentiment >> A line drive passed second scores two and the Dodgers trail for the first time this season"
       ]
      },
      {
       "output_type": "stream",
       "stream": "stdout",
       "text": [
        "\n",
        "Neutral >> Cmon Dodgers"
       ]
      },
      {
       "output_type": "stream",
       "stream": "stdout",
       "text": [
        "\n",
        "Neutral >> #Giants https://t.co/wBdBVBo8iI"
       ]
      },
      {
       "output_type": "stream",
       "stream": "stdout",
       "text": [
        "\n",
        "Neutral >> @LunaD24 The Dodgers play the Giants at AT&amp;T park this weekend !\n",
        "Negative Sentiment >> Ugly inning!!! C'mon @Dodgers\n",
        "Neutral >> Yes Giants!  Smack those Dodgers.  5-4!!!"
       ]
      },
      {
       "output_type": "stream",
       "stream": "stdout",
       "text": [
        "\n",
        "Neutral >> it has happened before, you know... https://t.co/EiGRJevxdh\n",
        "Positive Sentiment >> @kenfromnewport @Dodgers haha, stuck with wood for too long right??? Thinking the samethin"
       ]
      },
      {
       "output_type": "stream",
       "stream": "stdout",
       "text": [
        "\n",
        "Neutral >> #Cuba Yasiel Puig de 4-3 en victoria de Dodgers sobre Padres https://t.co/GuYIUhmo5v"
       ]
      },
      {
       "output_type": "stream",
       "stream": "stdout",
       "text": [
        "\n",
        "Positive Sentiment >> The New Dodgers Manager Didn't make the right Decision Wood Should of been out in the 5th "
       ]
      },
      {
       "output_type": "stream",
       "stream": "stdout",
       "text": [
        "\n",
        "Neutral >> Giants gonna beat the dodgers\n",
        "Positive Sentiment >> RT @DodgersNation: A line drive passed second scores two and the Dodgers trail for the fir\n",
        "Neutral >> @Dodgers BUM NEIGHBORS"
       ]
      },
      {
       "output_type": "stream",
       "stream": "stdout",
       "text": [
        "\n",
        "Neutral >> RT @Dodgers: Almost time in SF. https://t.co/DvjUuQ1XNn"
       ]
      },
      {
       "output_type": "stream",
       "stream": "stdout",
       "text": [
        "\n",
        "Neutral >> https://t.co/3CfJBRmihE @PatrickBrewer93 for Sights n Sounds, the GO that broke up Dodgers"
       ]
      },
      {
       "output_type": "stream",
       "stream": "stdout",
       "text": [
        "\n",
        "Neutral >> RT @SportsCenter: Dodgers pitcher Kenta Maeda made his MLB debut yesterday... and promptly"
       ]
      },
      {
       "output_type": "stream",
       "stream": "stdout",
       "text": [
        "\n",
        "Positive Sentiment >> RT @billplunkettocr: 2 run single Angel Pagan and #Dodgers trail for the first time this s\n",
        "Positive Sentiment >> RT @NotDeadRyanDunn: To the guy streaming the Dodgers and adding the police chase picture "
       ]
      },
      {
       "output_type": "stream",
       "stream": "stdout",
       "text": [
        "\n",
        "Negative Sentiment >> Dodgers are finding out the hard way the Giants aren't the Padres."
       ]
      },
      {
       "output_type": "stream",
       "stream": "stdout",
       "text": [
        "\n",
        "Neutral >> Come on dodgers sleeping man\n",
        "Positive Sentiment >> HELL YA! GO GIANTS!! \n",
        "Dodgers are bummed lmao"
       ]
      },
      {
       "output_type": "stream",
       "stream": "stdout",
       "text": [
        "\n",
        "Neutral >> Sencillo de Angel Pag\u00e1n y voltereta en San Francisco: #Dodgers 4-5 #Giants en la Baja de l"
       ]
      },
      {
       "output_type": "stream",
       "stream": "stdout",
       "text": [
        "\n",
        "Negative Sentiment >> Dodgers bullpen makes me mad"
       ]
      },
      {
       "output_type": "stream",
       "stream": "stdout",
       "text": [
        "\n",
        "Neutral >> Want the Giants to beat the Dodgers"
       ]
      },
      {
       "output_type": "stream",
       "stream": "stdout",
       "text": [
        "\n",
        "Positive Sentiment >> RT @billplunkettocr: 2 run single Angel Pagan and #Dodgers trail for the first time this s\n",
        "Negative Sentiment >> RT @RayWoodson680: The Dodgers trail in a Major League Baseball game in 2016\n",
        "Positive Sentiment >> RT @latimes: Kenta Maeda hits the Dodgers' first home run of the season, landing 7-0 victo"
       ]
      },
      {
       "output_type": "stream",
       "stream": "stdout",
       "text": [
        "\n",
        "Neutral >> Well that's a buzzkill. https://t.co/6e6tD6enKw"
       ]
      },
      {
       "output_type": "stream",
       "stream": "stdout",
       "text": [
        "\n",
        "Positive Sentiment >> @dodgers probably thought they would win again, and break some sort of record. That's pret"
       ]
      },
      {
       "output_type": "stream",
       "stream": "stdout",
       "text": [
        "\n",
        "Neutral >> C'MOOOON!!!! @Dodgers !!"
       ]
      },
      {
       "output_type": "stream",
       "stream": "stdout",
       "text": [
        "\n",
        "Neutral >> Giants take the lead, Dodgers 4, Giants 5  Bottom 6th https://t.co/O2iEcTBsEy"
       ]
      },
      {
       "output_type": "stream",
       "stream": "stdout",
       "text": [
        "\n",
        "Negative Sentiment >> Fuck the Dodgers\n",
        "Negative Sentiment >> Of f*cking course.  I hate the Giants so very much.  #Dodgers"
       ]
      },
      {
       "output_type": "stream",
       "stream": "stdout",
       "text": [
        "\n",
        "Negative Sentiment >> @Dodgers Got to wonder why they stayed with Wood so long. Is Donnie managing the team agai"
       ]
      },
      {
       "output_type": "stream",
       "stream": "stdout",
       "text": [
        "\n",
        "Neutral >> Yup so like G-Eazy was wearing Giants gear yea not listening to him for awhile until he sw"
       ]
      },
      {
       "output_type": "stream",
       "stream": "stdout",
       "text": [
        "\n",
        "Positive Sentiment >> RT @FlyByKnite: For the first time all season, the Los Angeles Dodgers are trailing.\n",
        "Neutral >> suck it @Dodgers"
       ]
      },
      {
       "output_type": "stream",
       "stream": "stdout",
       "text": [
        "\n",
        "Positive Sentiment >> #SFGiants take the first the lead against the #Dodgers this year. #PaganSalute"
       ]
      },
      {
       "output_type": "stream",
       "stream": "stdout",
       "text": [
        "\n",
        "Neutral >> Who's running our country because I doubt David Cameron is doing it? Media bosses and tax "
       ]
      },
      {
       "output_type": "stream",
       "stream": "stdout",
       "text": [
        "\n",
        "Positive Sentiment >> Only good thing about traffic? Listening to the @SFGiants take a 5-4 lead over the @Dodger"
       ]
      },
      {
       "output_type": "stream",
       "stream": "stdout",
       "text": [
        "\n",
        "Neutral >> Gahdamn, don't do this to me Dodgers!"
       ]
      },
      {
       "output_type": "stream",
       "stream": "stdout",
       "text": [
        "\n",
        "Neutral >> RT @Dodgers: Giants score three in the fifth to end the #Dodgers' scoreless innings streak"
       ]
      },
      {
       "output_type": "stream",
       "stream": "stdout",
       "text": [
        "\n",
        "Neutral >> \ud83d\udc4d Los Angeles Dodgers vs. San Francisco Giants Here's a link: https://t.co/3xCEaGsYMM #LAD\n",
        "Neutral >> Well now their season is over https://t.co/s3Rly4kiWj"
       ]
      },
      {
       "output_type": "stream",
       "stream": "stdout",
       "text": [
        "\n",
        "Neutral >> remember when the dodgers didn't have any runs against\n",
        "Neutral >> Dodgers collapse"
       ]
      },
      {
       "output_type": "stream",
       "stream": "stdout",
       "text": [
        "\n",
        "Neutral >> So Dodgers."
       ]
      },
      {
       "output_type": "stream",
       "stream": "stdout",
       "text": [
        "\n",
        "Positive Sentiment >> Dodgers in playoff form lol"
       ]
      },
      {
       "output_type": "stream",
       "stream": "stdout",
       "text": [
        "\n",
        "Neutral >> C'mon Dodgers"
       ]
      },
      {
       "output_type": "stream",
       "stream": "stdout",
       "text": [
        "\n",
        "Neutral >> Shitty coaching Dodgers smh"
       ]
      },
      {
       "output_type": "stream",
       "stream": "stdout",
       "text": [
        "\n",
        "Negative Sentiment >> Wtf??? @Dodgers"
       ]
      },
      {
       "output_type": "stream",
       "stream": "stdout",
       "text": [
        "\n",
        "Neutral >> F u Dodgers"
       ]
      },
      {
       "output_type": "stream",
       "stream": "stdout",
       "text": [
        "\n",
        "Positive Sentiment >> RT @DodgersNation: A line drive passed second scores two and the Dodgers trail for the fir"
       ]
      },
      {
       "output_type": "stream",
       "stream": "stdout",
       "text": [
        "\n",
        "Positive Sentiment >> Here's the Dodgers we all know and love"
       ]
      },
      {
       "output_type": "stream",
       "stream": "stdout",
       "text": [
        "\n",
        "Neutral >> In Yimi Garcia's defense....Roberts put him out there to get his ass kicked. \n",
        "\n",
        "Is that you\n",
        "Neutral >> RT @JRAM_91: Masters. Dodgers-Giants. Spurs-Warriors. What a day."
       ]
      },
      {
       "output_type": "stream",
       "stream": "stdout",
       "text": [
        "\n",
        "Negative Sentiment >> RT @ESPNStatsInfo: Dodgers: 31 straight scoreless innings pitched, 1 shy of 1963 Cardinals"
       ]
      },
      {
       "output_type": "stream",
       "stream": "stdout",
       "text": [
        "\n",
        "Neutral >> RT @Dodgers: Dave Roberts' mom, Eiko, congratulates Kenta Maeda after his debut. #\u30de\u30a8\u30b1\u30f3 \n",
        "\n",
        "\ud83d\udcf7"
       ]
      },
      {
       "output_type": "stream",
       "stream": "stdout",
       "text": [
        "\n",
        "Negative Sentiment >> The Dodgers should just give the A's there money, shit we will actually do something with "
       ]
      },
      {
       "output_type": "stream",
       "stream": "stdout",
       "text": [
        "\n",
        "Negative Sentiment >> WHAT THE FUCK DODGERS\n",
        "Positive Sentiment >> Dodgers pitching not doing good today."
       ]
      },
      {
       "output_type": "stream",
       "stream": "stdout",
       "text": [
        "\n",
        "Neutral >> Told ya alex wood shouldn't have come back out \ud83d\ude44 #Dodgers"
       ]
      },
      {
       "output_type": "stream",
       "stream": "stdout",
       "text": [
        "\n",
        "Neutral >> Dodgers already in Postseason form."
       ]
      },
      {
       "output_type": "stream",
       "stream": "stdout",
       "text": [
        "\n",
        "Negative Sentiment >> Fuck the Dodgers #beatLA"
       ]
      },
      {
       "output_type": "stream",
       "stream": "stdout",
       "text": [
        "\n",
        "Neutral >> @Dodgers Eeeeek! \ud83d\ude28"
       ]
      },
      {
       "output_type": "stream",
       "stream": "stdout",
       "text": [
        "\n",
        "Neutral >> RT @love4local: Beat these damn Dodgers!"
       ]
      },
      {
       "output_type": "stream",
       "stream": "stdout",
       "text": [
        "\n",
        "Negative Sentiment >> Pagan gives the Giants their 1st lead of the game with his 2 run single! 5-4.\n",
        "#SFGiants #D"
       ]
      },
      {
       "output_type": "stream",
       "stream": "stdout",
       "text": [
        "\n",
        "Neutral >> @Dodgers L\n",
        "Positive Sentiment >> RT @DodgersNation: A line drive passed second scores two and the Dodgers trail for the fir"
       ]
      },
      {
       "output_type": "stream",
       "stream": "stdout",
       "text": [
        "\n",
        "Negative Sentiment >> Fucking Dodgers"
       ]
      },
      {
       "output_type": "stream",
       "stream": "stdout",
       "text": [
        "\n",
        "Neutral >> watching Los Angeles Dodgers vs San Francisco Giants"
       ]
      },
      {
       "output_type": "stream",
       "stream": "stdout",
       "text": [
        "\n",
        "Negative Sentiment >> Pagan 2-run single puts #Dodgers behind for 1st time in 2016 . 5-4 #SFGiants in 6th"
       ]
      },
      {
       "output_type": "stream",
       "stream": "stdout",
       "text": [
        "\n",
        "Neutral >> @Dodgers this why you fuckers should've got pitchers during the off season"
       ]
      },
      {
       "output_type": "stream",
       "stream": "stdout",
       "text": [
        "\n",
        "Neutral >> Dodgers valen verga \ud83d\ude02"
       ]
      },
      {
       "output_type": "stream",
       "stream": "stdout",
       "text": [
        "\n",
        "Negative Sentiment >> 4-3 bad guys! #Dodgers"
       ]
      },
      {
       "output_type": "stream",
       "stream": "stdout",
       "text": [
        "\n",
        "Positive Sentiment >> RT @HT_Stevens: Can Dodgers fans and giants fans live in peace and harmony? Not for long.."
       ]
      },
      {
       "output_type": "stream",
       "stream": "stdout",
       "text": [
        "\n",
        "Neutral >> RT @Dodgers: Giants score three in the fifth to end the #Dodgers' scoreless innings streak\n",
        "Positive Sentiment >> @DodgersNation there's the Dodgers we know and love"
       ]
      },
      {
       "output_type": "stream",
       "stream": "stdout",
       "text": [
        "\n",
        "Neutral >> Leave it to the Dodgers..."
       ]
      },
      {
       "output_type": "stream",
       "stream": "stdout",
       "text": [
        "\n",
        "Positive Sentiment >> Anybody ready for my first Dave Roberts rant of the year for leaving his starter who had n"
       ]
      },
      {
       "output_type": "stream",
       "stream": "stdout",
       "text": [
        "\n",
        "Neutral >> MLB Gamecast - Dodgers vs Giants - via @ESPN App https://t.co/v50tiXFU0n\n",
        "Neutral >> Kidding me. Come on Dodgers. Shake it off and score some runs."
       ]
      },
      {
       "output_type": "stream",
       "stream": "stdout",
       "text": [
        "\n",
        "Neutral >> Dodgers' scoreful inning streak at 2."
       ]
      },
      {
       "output_type": "stream",
       "stream": "stdout",
       "text": [
        "\n",
        "Negative Sentiment >> The fuck Dodgers"
       ]
      },
      {
       "output_type": "stream",
       "stream": "stdout",
       "text": [
        "\n",
        "Neutral >> fuk u and the dodgers"
       ]
      },
      {
       "output_type": "stream",
       "stream": "stdout",
       "text": [
        "\n",
        "Neutral >> come on dodgers!"
       ]
      },
      {
       "output_type": "stream",
       "stream": "stdout",
       "text": [
        "\n",
        "Neutral >> well well well.......what the hell is going on out there!!!! @Dodgers #Dodgers"
       ]
      },
      {
       "output_type": "stream",
       "stream": "stdout",
       "text": [
        "\n",
        "Neutral >> Dodgers need to muster up some runs this next inning.\n",
        "Positive Sentiment >> So much for that 4-0 lead huh. Once again the Dodgers lack of consistent good pitching is \n",
        "Neutral >> Don't do this Dodgers."
       ]
      },
      {
       "output_type": "stream",
       "stream": "stdout",
       "text": [
        "\n",
        "Negative Sentiment >> #SFGiants take the lead against the Dodgers 5-4 on a 2-run single from Angel Pagan in the "
       ]
      },
      {
       "output_type": "stream",
       "stream": "stdout",
       "text": [
        "\n",
        "Neutral >> 2 run single...@SFGiants take the lead over @Dodgers.#LADvsSF"
       ]
      },
      {
       "output_type": "stream",
       "stream": "stdout",
       "text": [
        "\n",
        "Neutral >> RT @RoyalsMLBChamps: Dodgers ass smh"
       ]
      },
      {
       "output_type": "stream",
       "stream": "stdout",
       "text": [
        "\n",
        "Neutral >> Shout out to the Dodgers bullpen!!!!!\n",
        "Neutral >> Dodgers would blow a 4-0 lead"
       ]
      },
      {
       "output_type": "stream",
       "stream": "stdout",
       "text": [
        "\n",
        "Neutral >> Come on Dodgers!"
       ]
      },
      {
       "output_type": "stream",
       "stream": "stdout",
       "text": [
        "\n",
        "Positive Sentiment >> RT @si_mlb: Watch: Dodgers score on first overturned neighborhood play in MLB history http\n",
        "Neutral >> RT @nw_nicholas: Wonder if the BBC can be independent on #taxavoidance when the person in \n",
        "Neutral >> @Dodgers LLLLLLLLLLLLLLLLLLLLLLLLLLL"
       ]
      },
      {
       "output_type": "stream",
       "stream": "stdout",
       "text": [
        "\n",
        "Neutral >> Don't give up @Dodgers #BeatSF"
       ]
      },
      {
       "output_type": "stream",
       "stream": "stdout",
       "text": [
        "\n",
        "Positive Sentiment >> RT @Dodgers: That's 31 straight scoreless innings for Dodger pitchers to start 2016. #Dodg"
       ]
      },
      {
       "output_type": "stream",
       "stream": "stdout",
       "text": [
        "\n",
        "Neutral >> UGGGHHHH no come on @Dodgers"
       ]
      },
      {
       "output_type": "stream",
       "stream": "stdout",
       "text": [
        "\n",
        "Neutral >> Time to see how the @Dodgers respond. #LetsGoDodgers"
       ]
      },
      {
       "output_type": "stream",
       "stream": "stdout",
       "text": [
        "\n",
        "Neutral >> Lmaooooo @Dodgers"
       ]
      },
      {
       "output_type": "stream",
       "stream": "stdout",
       "text": [
        "\n",
        "Neutral >> AND PAGAN BREAKS THE DODGERS LEAD. LET'S GO\u270a\u270a\u270a\n",
        " #BeatLA #WeAreGiant"
       ]
      },
      {
       "output_type": "stream",
       "stream": "stdout",
       "text": [
        "\n",
        "Positive Sentiment >> RT @Independent: A gang has been jailed for stealing \u00a320,000 worth of Jammie Dodgers https"
       ]
      },
      {
       "output_type": "stream",
       "stream": "stdout",
       "text": [
        "\n",
        "Negative Sentiment >> pagan always gives the dodgers trouble"
       ]
      },
      {
       "output_type": "stream",
       "stream": "stdout",
       "text": [
        "\n",
        "Positive Sentiment >> RT @AlexPavlovic: Brandon Crawford becomes the first player to score against the Dodgers t"
       ]
      },
      {
       "output_type": "stream",
       "stream": "stdout",
       "text": [
        "\n",
        "Positive Sentiment >> RT @Dodgers: That's 31 straight scoreless innings for Dodger pitchers to start 2016. #Dodg"
       ]
      },
      {
       "output_type": "stream",
       "stream": "stdout",
       "text": [
        "\n",
        "Negative Sentiment >> FUCK THE DODGERS #BeatLA"
       ]
      },
      {
       "output_type": "stream",
       "stream": "stdout",
       "text": [
        "\n",
        "Positive Sentiment >> RT @Dodgers: First win in the books. #\u30de\u30a8\u30b1\u30f3 https://t.co/7msnbA494N\n",
        "Neutral >> don't do this @Dodgers"
       ]
      },
      {
       "output_type": "stream",
       "stream": "stdout",
       "text": [
        "\n",
        "Positive Sentiment >> RT @AlexPavlovic: Brandon Crawford becomes the first player to score against the Dodgers t"
       ]
      },
      {
       "output_type": "stream",
       "stream": "stdout",
       "text": [
        "\n",
        "Neutral >> @Dodgers #ITFDBUnlessYouDontHaveTWC #NoVinIsASin #GreedyDodgers #TWCGreed #FanLockout #Dod"
       ]
      },
      {
       "output_type": "stream",
       "stream": "stdout",
       "text": [
        "\n",
        "Positive Sentiment >> The Dodgers are now trailing for the first time this season. 5-4 Giants in the 6th."
       ]
      },
      {
       "output_type": "stream",
       "stream": "stdout",
       "text": [
        "\n",
        "Positive Sentiment >> So much for that. Can't wait until #Ryu comes back. #MLB #Dodgers"
       ]
      },
      {
       "output_type": "stream",
       "stream": "stdout",
       "text": [
        "\n",
        "Positive Sentiment >> Damn. They got to it early this year https://t.co/PAANyS007X"
       ]
      },
      {
       "output_type": "stream",
       "stream": "stdout",
       "text": [
        "\n",
        "Neutral >> whaaat https://t.co/JQAn2L7HoW"
       ]
      },
      {
       "output_type": "stream",
       "stream": "stdout",
       "text": [
        "\n",
        "Negative Sentiment >> RT @SportsCenter: What a debut for Kenta Maeda! He's the only Dodgers PITCHER since 1900 t"
       ]
      },
      {
       "output_type": "stream",
       "stream": "stdout",
       "text": [
        "\n",
        "Negative Sentiment >> #SFGiants are up 5-4 after doing the impossible: Scoring against the #Dodgers #TakesNotesP"
       ]
      },
      {
       "output_type": "stream",
       "stream": "stdout",
       "text": [
        "\n",
        "Neutral >> RT @b_aragones: Dodgers already in Postseason form."
       ]
      },
      {
       "output_type": "stream",
       "stream": "stdout",
       "text": [
        "\n",
        "Positive Sentiment >> RT @Dodgers: First win in the books. #\u30de\u30a8\u30b1\u30f3 https://t.co/7msnbA494N"
       ]
      },
      {
       "output_type": "stream",
       "stream": "stdout",
       "text": [
        "\n",
        "Positive Sentiment >> RT @LakerOpinion: I'm confused as to why people think the Dodgers rotation is \"trash\" now."
       ]
      },
      {
       "output_type": "stream",
       "stream": "stdout",
       "text": [
        "\n",
        "Neutral >> Dodgers are trash. It's lit."
       ]
      },
      {
       "output_type": "stream",
       "stream": "stdout",
       "text": [
        "\n",
        "Neutral >> Come on @Dodgers \ud83d\ude2b"
       ]
      },
      {
       "output_type": "stream",
       "stream": "stdout",
       "text": [
        "\n",
        "Neutral >> Can't trust the Dodgers bullpen."
       ]
      },
      {
       "output_type": "stream",
       "stream": "stdout",
       "text": [
        "\n",
        "Neutral >> Wood now could have the loss because the #Dodgers lack of lefty depth in the pen. Just poo"
       ]
      },
      {
       "output_type": "stream",
       "stream": "stdout",
       "text": [
        "\n",
        "Positive Sentiment >> RT @DodgersNation: A line drive passed second scores two and the Dodgers trail for the fir"
       ]
      },
      {
       "output_type": "stream",
       "stream": "stdout",
       "text": [
        "\n",
        "Neutral >> RT @Dodgers: Rivalry renewed. #ITFDB\n",
        "\n",
        "\ud83d\udcf7: @JonSooHooPics https://t.co/bDmdzqkucE"
       ]
      },
      {
       "output_type": "stream",
       "stream": "stdout",
       "text": [
        "\n",
        "Negative Sentiment >> RT @BBTN: Hold on to that ball, Kenta Maeda. You'll remember this game for a while. (via @"
       ]
      },
      {
       "output_type": "stream",
       "stream": "stdout",
       "text": [
        "\n",
        "Positive Sentiment >> Wow Dodgers\n",
        "Positive Sentiment >> Wow, Dodgers went from not giving up any runs to giving up all the runs."
       ]
      },
      {
       "output_type": "stream",
       "stream": "stdout",
       "text": [
        "\n",
        "Neutral >> @PeterGuber @diamond83 @Dodgers @SFGiants @warriors #1988\n",
        "Positive Sentiment >> RT @AlexPavlovic: Brandon Crawford becomes the first player to score against the Dodgers t"
       ]
      },
      {
       "output_type": "stream",
       "stream": "stdout",
       "text": [
        "\n",
        "Neutral >> All of a sudden Dodgers playing trash https://t.co/bRSWRHz8Cd"
       ]
      },
      {
       "output_type": "stream",
       "stream": "stdout",
       "text": [
        "\n",
        "Neutral >> RT @DodgersNation: The Dodgers (who were supposed to stink this year) have started on a 28"
       ]
      },
      {
       "output_type": "stream",
       "stream": "stdout",
       "text": [
        "\n",
        "Positive Sentiment >> RT @RyanWaltonSBN: The Dodgers are now trailing for the first time this season. 5-4 Giants"
       ]
      },
      {
       "output_type": "stream",
       "stream": "stdout",
       "text": [
        "\n",
        "Neutral >> Cmon Dodgers \ud83d\ude44"
       ]
      },
      {
       "output_type": "stream",
       "stream": "stdout",
       "text": [
        "\n",
        "Neutral >> DODGERS GOT THIS \ud83d\udc4f\ud83c\udffc\ud83d\udc4f\ud83c\udffc\ud83d\udc4f\ud83c\udffc #Dodgers"
       ]
      },
      {
       "output_type": "stream",
       "stream": "stdout",
       "text": [
        "\n",
        "Neutral >> Because that's just what the Dodgers do https://t.co/SGSzZsr6gz"
       ]
      },
      {
       "output_type": "stream",
       "stream": "stdout",
       "text": [
        "\n",
        "Neutral >> RT @theaceofspaeder: The #Dodgers season ERA ballooned from 0.00 to 0.84 after allowing th"
       ]
      },
      {
       "output_type": "stream",
       "stream": "stdout",
       "text": [
        "\n",
        "Negative Sentiment >> RT @TrueSFGiantsFan: FUCK THE DODGERS #BeatLA\n",
        "Neutral >> Fkkn Dodgers man\ud83d\ude12"
       ]
      },
      {
       "output_type": "stream",
       "stream": "stdout",
       "text": [
        "\n",
        "Neutral >> About that. https://t.co/16dwICc0HL\n",
        "Negative Sentiment >> #SFGiants take the lead away from the #Dodgers via a 2-run single. They now lead 5-4. Bot "
       ]
      },
      {
       "output_type": "stream",
       "stream": "stdout",
       "text": [
        "\n",
        "Negative Sentiment >> Here we go. Here is the actual @Dodgers that we're all used to - giving up leads via a ter"
       ]
      },
      {
       "output_type": "stream",
       "stream": "stdout",
       "text": [
        "\n",
        "Neutral >> RT @BBTN: After throwing 31 shutout innings, the Dodgers give up their 1st runs of the sea\n",
        "Negative Sentiment >> RT @rapilot: 4-3 bad guys! #Dodgers"
       ]
      },
      {
       "output_type": "stream",
       "stream": "stdout",
       "text": [
        "\n",
        "Negative Sentiment >> RT @RayWoodson680: The Dodgers trail in a Major League Baseball game in 2016"
       ]
      },
      {
       "output_type": "stream",
       "stream": "stdout",
       "text": [
        "\n",
        "Neutral >> After the chase I saw this #Dodgers https://t.co/o0dCBh0q3r"
       ]
      },
      {
       "output_type": "stream",
       "stream": "stdout",
       "text": [
        "\n",
        "Neutral >> \"Hey @Dodgers you're not playing the Padres now!\" #SFGiants #BeatLA https://t.co/DcAvaJAEA\n",
        "Positive Sentiment >> RT @ThatKickerEdd: The dodgers are to real"
       ]
      },
      {
       "output_type": "stream",
       "stream": "stdout",
       "text": [
        "\n",
        "Neutral >> Fuckin Dodgers...are you kidding me."
       ]
      },
      {
       "output_type": "stream",
       "stream": "stdout",
       "text": [
        "\n",
        "Positive Sentiment >> RT @DodgersNation: A line drive passed second scores two and the Dodgers trail for the fir\n",
        "Positive Sentiment >> This Giants vs Dodgers game just keeps getting better &amp; better! #LetsGoGiants #SFGiant"
       ]
      },
      {
       "output_type": "stream",
       "stream": "stdout",
       "text": [
        "\n",
        "Neutral >> RT @Ashweeen_: F u Dodgers"
       ]
      },
      {
       "output_type": "stream",
       "stream": "stdout",
       "text": [
        "\n",
        "Neutral >> @Dodgers @BrodyismeFriend"
       ]
      },
      {
       "output_type": "stream",
       "stream": "stdout",
       "text": [
        "\n",
        "Neutral >> Pagan in the clutch! #SFGiants take a 5-4 lead over the Dodgers! #BeatLA #SFGOpeningDay"
       ]
      },
      {
       "output_type": "stream",
       "stream": "stdout",
       "text": [
        "\n",
        "Negative Sentiment >> RT @MannysMusings: Alex Wood reminding us he is trash and will continue to give up leads a"
       ]
      },
      {
       "output_type": "stream",
       "stream": "stdout",
       "text": [
        "\n",
        "Negative Sentiment >> Calling it now people are gonna bash the dodgers if they lose I mean it's not like there's"
       ]
      },
      {
       "output_type": "stream",
       "stream": "stdout",
       "text": [
        "\n",
        "Neutral >> @elihuh2001 @Dodgers @SFGiants you must be talking about the Arizona Diamondbacks.\n",
        "Neutral >> @_nanncy21 Or grabbing some donuts to-go \ud83d\ude03. Dodgers are losing now... \ud83d\ude12"
       ]
      },
      {
       "output_type": "stream",
       "stream": "stdout",
       "text": [
        "\n",
        "Positive Sentiment >> Dodgers are behind for the first time this season! Glad to be able to give this gift to th"
       ]
      },
      {
       "output_type": "stream",
       "stream": "stdout",
       "text": [
        "\n",
        "Positive Sentiment >> #SFGiants take the lead 5-4.What's surprising is #Dodgers manager Dave Roberts left starte"
       ]
      },
      {
       "output_type": "stream",
       "stream": "stdout",
       "text": [
        "\n",
        "Neutral >> #Dodgers: LA falls 1 short of scoreless-innings record https://t.co/3XplN8JDCE #MLB"
       ]
      },
      {
       "output_type": "stream",
       "stream": "stdout",
       "text": [
        "\n",
        "Neutral >> @losdoyers714 @Dodgers yeah man... I think our lack of a bullpen had a lot to do with it. "
       ]
      },
      {
       "output_type": "stream",
       "stream": "stdout",
       "text": [
        "\n",
        "Neutral >> RT @nDXSGTkkJif6VfD: \ud83d\ude4bFlw\u2714\ud83d\ude4f\n",
        "\ud83d\udc26@SuhilaBnLachhab\n",
        "\ud83d\udcf7https://t.co/qaV6gIJHq1 \n",
        "Wow\ud83c\udfa7https://t.co/v"
       ]
      },
      {
       "output_type": "stream",
       "stream": "stdout",
       "text": [
        "\n",
        "Positive Sentiment >> @Dodgers lets get this win!"
       ]
      },
      {
       "output_type": "stream",
       "stream": "stdout",
       "text": [
        "\n",
        "Positive Sentiment >> RT @DodgersNation: A line drive passed second scores two and the Dodgers trail for the fir"
       ]
      },
      {
       "output_type": "stream",
       "stream": "stdout",
       "text": [
        "\n",
        "Neutral >> RT @zulemae_: Cmon Dodgers \ud83d\ude44\n",
        "Positive Sentiment >> I love (OK, like) quiet Dodgers fans...\n",
        "\n",
        "SF 5, LAD 4\n",
        "Bot 6 \n",
        "\n",
        "#SFGiants"
       ]
      },
      {
       "output_type": "stream",
       "stream": "stdout",
       "text": [
        "\n",
        "Neutral >> Dodgers are losing now\ud83d\ude11\ud83d\ude2a\ud83d\ude2d"
       ]
      },
      {
       "output_type": "stream",
       "stream": "stdout",
       "text": [
        "\n",
        "Positive Sentiment >> RT @RyanWaltonSBN: The Dodgers are now trailing for the first time this season. 5-4 Giants"
       ]
      },
      {
       "output_type": "stream",
       "stream": "stdout",
       "text": [
        "\n",
        "Positive Sentiment >> Ugh, A whole season of Alex Wood is going to a train wreck. #Dodgers"
       ]
      },
      {
       "output_type": "stream",
       "stream": "stdout",
       "text": [
        "\n",
        "Neutral >> @ExpeOne get a Dodgers tat\n",
        "Neutral >> Pagan drives in Duffy &amp; Crawford and the #SFGiants now have a 5-4 lead over the #Dodge"
       ]
      },
      {
       "output_type": "stream",
       "stream": "stdout",
       "text": [
        "\n",
        "Negative Sentiment >> Dodgers losing now because fans go into cardiac arrest on game 4 of the season"
       ]
      },
      {
       "output_type": "stream",
       "stream": "stdout",
       "text": [
        "\n",
        "Positive Sentiment >> @Awood45 big ups! Way to battle against that potent Giants line up. LETS GO #Dodgers @Dodg"
       ]
      },
      {
       "output_type": "stream",
       "stream": "stdout",
       "text": [
        "\n",
        "Neutral >> BCraawwwww \ud83d\ude08 https://t.co/zfyG6HPfUm\n",
        "Neutral >> Unbritish britcrooks. https://t.co/rZw9KX7Vce"
       ]
      },
      {
       "output_type": "stream",
       "stream": "stdout",
       "text": [
        "\n",
        "Positive Sentiment >> Pagan singled to right, Duffy and Crawford scored. Giants lead the Dodgers 5-4 in the bott"
       ]
      },
      {
       "output_type": "stream",
       "stream": "stdout",
       "text": [
        "\n",
        "Positive Sentiment >> #Dodgers bullpen is my favorite Dodgers player\n",
        "\n",
        "#SFGiants"
       ]
      },
      {
       "output_type": "stream",
       "stream": "stdout",
       "text": [
        "\n",
        "Neutral >> TAKE WOOD OUT OMG @Dodgers"
       ]
      },
      {
       "output_type": "stream",
       "stream": "stdout",
       "text": [
        "\n",
        "Positive Sentiment >> RT @76: Best seats in the house. Only 5 more days till the @Dodgers #OpeningDay. #tbt http"
       ]
      },
      {
       "output_type": "stream",
       "stream": "stdout",
       "text": [
        "\n",
        "Neutral >> E a porteira dos Dodgers abriu. Depois de n\u00e3o ceder nenhuma corrida nos tr\u00eas primeiros jog"
       ]
      },
      {
       "output_type": "stream",
       "stream": "stdout",
       "text": [
        "\n",
        "Neutral >> Jimmy Rollins being traded to the Dodgers was one of the saddest days of my life"
       ]
      },
      {
       "output_type": "stream",
       "stream": "stdout",
       "text": [
        "\n",
        "Negative Sentiment >> Five, unanswered runs for the Giants gives the Dodgers a 5-4 deficit."
       ]
      },
      {
       "output_type": "stream",
       "stream": "stdout",
       "text": [
        "\n",
        "Negative Sentiment >> Angel Pagan the 2-run single in the 6th. #SFGiants have come all the way back to take 5-4 "
       ]
      },
      {
       "output_type": "stream",
       "stream": "stdout",
       "text": [
        "\n",
        "Positive Sentiment >> RT @LolDodgers: Dodgers are behind for the first time this season! Glad to be able to give"
       ]
      },
      {
       "output_type": "stream",
       "stream": "stdout",
       "text": [
        "\n",
        "Neutral >> Nem t\u00f4 vendo o jogo mas pqp viramos mesmo um 4-0 contra o Dodgers"
       ]
      },
      {
       "output_type": "stream",
       "stream": "stdout",
       "text": [
        "\n",
        "Positive Sentiment >> Jenny just got so excited that the @SFGiants took a lead over the Dodgers that she fell to"
       ]
      },
      {
       "output_type": "stream",
       "stream": "stdout",
       "text": [
        "\n",
        "Negative Sentiment >> hahaha fuck you dodgers. even year beeeeeeitch\n",
        "Neutral >> RT @Dodgers: Almost time in SF. https://t.co/DvjUuQ1XNn"
       ]
      },
      {
       "output_type": "stream",
       "stream": "stdout",
       "text": [
        "\n",
        "Neutral >> I am actually writing a book but will knovk off and go on Saturday \u2014 watching Los Angeles \n",
        "Positive Sentiment >> RT @DodgerInsider: Dodgers trail for the first time this season."
       ]
      },
      {
       "output_type": "stream",
       "stream": "stdout",
       "text": [
        "\n",
        "Positive Sentiment >> These are the Dodgers we all know all know and love.\n",
        "Neutral >> Cmon Dodgers !"
       ]
      },
      {
       "output_type": "stream",
       "stream": "stdout",
       "text": [
        "\n",
        "Neutral >> Come on Dodgers \ud83d\ude12"
       ]
      },
      {
       "output_type": "stream",
       "stream": "stdout",
       "text": [
        "\n",
        "Neutral >> RT @GurusCafetal: M\u00e1s de 31 innings tardaron los pitchers de los @Dodgers  en recibir su p\n",
        "Neutral >> Alex Wood was cooked in the 5th. Maybe should have pinch hit for him. #Dodgers #couchManag"
       ]
      },
      {
       "output_type": "stream",
       "stream": "stdout",
       "text": [
        "\n",
        "Neutral >> RT @KNBR: Pagan drives in Duffy &amp; Crawford and the #SFGiants now have a 5-4 lead over "
       ]
      },
      {
       "output_type": "stream",
       "stream": "stdout",
       "text": [
        "\n",
        "Positive Sentiment >> RT @LolDodgers: Dodgers are behind for the first time this season! Glad to be able to give"
       ]
      },
      {
       "output_type": "stream",
       "stream": "stdout",
       "text": [
        "\n",
        "Neutral >> Call hurts #Dodgers\n",
        "Ball 1 should be strike 1\n",
        "Bot 6 Garcia vs Span\n",
        "20% call same\n",
        "1.9in fro"
       ]
      },
      {
       "output_type": "stream",
       "stream": "stdout",
       "text": [
        "\n",
        "Neutral >> W T F Dodgers !!"
       ]
      },
      {
       "output_type": "stream",
       "stream": "stdout",
       "text": [
        "\n",
        "Neutral >> Dodgers struggling rn \ud83d\ude44"
       ]
      },
      {
       "output_type": "stream",
       "stream": "stdout",
       "text": [
        "\n",
        "Neutral >> LET'S GO DODGERS I @Dodgers #Dodgers"
       ]
      },
      {
       "output_type": "stream",
       "stream": "stdout",
       "text": [
        "\n",
        "Neutral >> You play with fire you're gonna get burned. @Dodgers"
       ]
      },
      {
       "output_type": "stream",
       "stream": "stdout",
       "text": [
        "\n",
        "Neutral >> RT @WoodBatBrat: When the Dodgers and Giants are playing you know #BaseballIsBack \u26be\ufe0f\ud83d\ude0d\ud83d\udcaf\n",
        "Neutral >> RT @Dodgers: Giants score three in the fifth to end the #Dodgers' scoreless innings streak"
       ]
      },
      {
       "output_type": "stream",
       "stream": "stdout",
       "text": [
        "\n",
        "Neutral >> \u00c1ngel Pag\u00e1n empuj\u00f3 el empate y la del avance. San Francisco Giants 5, Dodgers 4. Yes!"
       ]
      },
      {
       "output_type": "stream",
       "stream": "stdout",
       "text": [
        "\n",
        "Neutral >> watching Los Angeles Dodgers vs San Francisco Giants"
       ]
      },
      {
       "output_type": "stream",
       "stream": "stdout",
       "text": [
        "\n",
        "Neutral >> RT @SegundaBaseBR: E a porteira dos Dodgers abriu. Depois de n\u00e3o ceder nenhuma corrida nos"
       ]
      },
      {
       "output_type": "stream",
       "stream": "stdout",
       "text": [
        "\n",
        "Negative Sentiment >> Not because I hate baseball (I do) but because I have to go to work again...\n",
        "\n",
        "#Dodgers\n",
        "Positive Sentiment >> Giants arent even good, the Dodgers have no pitching other than Kershaw"
       ]
      },
      {
       "output_type": "stream",
       "stream": "stdout",
       "text": [
        "\n",
        "Neutral >> RT @KNBR: Pagan drives in Duffy &amp; Crawford and the #SFGiants now have a 5-4 lead over \n",
        "Negative Sentiment >> RT @SianJasper: @IJSbignose daleks are shit though! \n",
        "Stairs, jammy dodgers-anything flummo"
       ]
      },
      {
       "output_type": "stream",
       "stream": "stdout",
       "text": [
        "\n",
        "Neutral >> RT @KNBR: Pagan drives in Duffy &amp; Crawford and the #SFGiants now have a 5-4 lead over "
       ]
      },
      {
       "output_type": "stream",
       "stream": "stdout",
       "text": [
        "\n",
        "Positive Sentiment >> Awesome of the Dodgers to send Wood out for one more inning.. He needed to lose all the po"
       ]
      },
      {
       "output_type": "stream",
       "stream": "stdout",
       "text": [
        "\n",
        "Neutral >> Dodgers pitching back at it.... Blowing leads. \ud83d\ude2a"
       ]
      },
      {
       "output_type": "stream",
       "stream": "stdout",
       "text": [
        "\n",
        "Negative Sentiment >> @SFGiants TAKE THE LEAD!!! Sorry @Dodgers fans!"
       ]
      },
      {
       "output_type": "stream",
       "stream": "stdout",
       "text": [
        "\n",
        "Neutral >> @abc7rob @abc7alysha should have taken wood out in the 5th. #notagain #GoDodgers @Dodgers"
       ]
      },
      {
       "output_type": "stream",
       "stream": "stdout",
       "text": [
        "\n",
        "Neutral >> RT @AyyoZack: Cmon Dodgers !"
       ]
      },
      {
       "output_type": "stream",
       "stream": "stdout",
       "text": [
        "\n",
        "Positive Sentiment >> Dodgers blew the lead, but car chases are our pastime, so we're all ok in LA."
       ]
      },
      {
       "output_type": "stream",
       "stream": "stdout",
       "text": [
        "\n",
        "Neutral >> #MakeBaseballFunAgain @Dodgers"
       ]
      },
      {
       "output_type": "stream",
       "stream": "stdout",
       "text": [
        "\n",
        "Neutral >> garbage https://t.co/eqWNptEQmR"
       ]
      },
      {
       "output_type": "stream",
       "stream": "stdout",
       "text": [
        "\n",
        "Neutral >> RT @Jessikarenai: Come on Dodgers \ud83d\ude12"
       ]
      },
      {
       "output_type": "stream",
       "stream": "stdout",
       "text": [
        "\n",
        "Neutral >> Angel Pagan knocks in his 86th go-ahead RBIs of his career with a 2-run 1B. Giants take le"
       ]
      },
      {
       "output_type": "stream",
       "stream": "stdout",
       "text": [
        "\n",
        "Neutral >> RT @Dodgers: Giants score three in the fifth to end the #Dodgers' scoreless innings streak"
       ]
      },
      {
       "output_type": "stream",
       "stream": "stdout",
       "text": [
        "\n",
        "Neutral >> Nooo! Come on boys!!! #Dodgers https://t.co/bHrlTwRbSI"
       ]
      },
      {
       "output_type": "stream",
       "stream": "stdout",
       "text": [
        "\n",
        "Neutral >> RT @sfgwire: 25-pitch IP for Alex Wood as Giants score 3 to snap Dodgers 31 scoreless inni"
       ]
      },
      {
       "output_type": "stream",
       "stream": "stdout",
       "text": [
        "\n",
        "Neutral >> Car chase over and Dodgers now losing \ud83d\ude12\ud83d\ude1e"
       ]
      },
      {
       "output_type": "stream",
       "stream": "stdout",
       "text": [
        "\n",
        "Neutral >> RT @Dodgers: Rivalry renewed. #ITFDB\n",
        "\n",
        "\ud83d\udcf7: @JonSooHooPics https://t.co/bDmdzqkucE"
       ]
      },
      {
       "output_type": "stream",
       "stream": "stdout",
       "text": [
        "\n",
        "Positive Sentiment >> RT @LolDodgers: Dodgers are behind for the first time this season! Glad to be able to give"
       ]
      },
      {
       "output_type": "stream",
       "stream": "stdout",
       "text": [
        "\n",
        "Positive Sentiment >> RT @MikeDiGiovanna: #Dodgers 31-inning scoreless streak ends in B5 vs. #Giants, came one i"
       ]
      },
      {
       "output_type": "stream",
       "stream": "stdout",
       "text": [
        "\n",
        "Neutral >> Alex Woods is a four inning guy. #Dodgers https://t.co/1iAh64EKyq"
       ]
      },
      {
       "output_type": "stream",
       "stream": "stdout",
       "text": [
        "\n",
        "Neutral >> Angel Pagan gives us the lead and the #Dodgers trail for the 1st time in '16.. #BeatLAD #S"
       ]
      },
      {
       "output_type": "stream",
       "stream": "stdout",
       "text": [
        "\n",
        "Positive Sentiment >> First #Puig Moment of '16 campaign.\n",
        "#Dodgers #SFGiants @BillShaikin"
       ]
      },
      {
       "output_type": "stream",
       "stream": "stdout",
       "text": [
        "\n",
        "Neutral >> RT @rudetellzLBC: Don't do this Dodgers."
       ]
      },
      {
       "output_type": "stream",
       "stream": "stdout",
       "text": [
        "\n",
        "Negative Sentiment >> Hey, Fuck #Padres. I am Nikki. You Dumb broad! You fucked up again. from dodgers fans. aha\n",
        "Negative Sentiment >> @Dodgers plzzzzzzz get rid of Alex Wood he's not good enough to be on this team"
       ]
      },
      {
       "output_type": "stream",
       "stream": "stdout",
       "text": [
        "\n",
        "Positive Sentiment >> well so much for the scoreless streaks by the Dodgers starters and bullpen.."
       ]
      },
      {
       "output_type": "stream",
       "stream": "stdout",
       "text": [
        "\n",
        "Neutral >> RT @ESPNStatsInfo: Dodgers now with 30 consecutive scoreless innings pitched. That's 2 inn"
       ]
      },
      {
       "output_type": "stream",
       "stream": "stdout",
       "text": [
        "\n",
        "Positive Sentiment >> RT @si_mlb: Watch: Dodgers score on first overturned neighborhood play in MLB history http"
       ]
      },
      {
       "output_type": "stream",
       "stream": "stdout",
       "text": [
        "\n",
        "Neutral >> Yeses @SFGiants go ahead of Dodgers 5-4!\n",
        "#BeatLA https://t.co/8MkQDeJLpG\n",
        "Positive Sentiment >> RT @FreelanceBBall: Wow, Dodgers went from not giving up any runs to giving up all the run"
       ]
      },
      {
       "output_type": "stream",
       "stream": "stdout",
       "text": [
        "\n",
        "Neutral >> RT @KNBR: Pagan drives in Duffy &amp; Crawford and the #SFGiants now have a 5-4 lead over "
       ]
      },
      {
       "output_type": "stream",
       "stream": "stdout",
       "text": [
        "\n",
        "Negative Sentiment >> @Dodgers great job letting sorry ass Wood stay in the game! I guess Don is not the only on"
       ]
      },
      {
       "output_type": "stream",
       "stream": "stdout",
       "text": [
        "\n",
        "Positive Sentiment >> RT @DodgersNation: A line drive passed second scores two and the Dodgers trail for the fir"
       ]
      },
      {
       "output_type": "stream",
       "stream": "stdout",
       "text": [
        "\n",
        "Neutral >> RT @GuillermoCelis: Sencillo de Angel Pag\u00e1n y voltereta en San Francisco: #Dodgers 4-5 #Gi"
       ]
      },
      {
       "output_type": "stream",
       "stream": "stdout",
       "text": [
        "\n",
        "Positive Sentiment >> RT @mccoveychron: Dodgers' Wood strong early before losing steam"
       ]
      },
      {
       "output_type": "stream",
       "stream": "stdout",
       "text": [
        "\n",
        "Neutral >> RT @sophiahelix: SUCK IT DODGERS #sfgiants"
       ]
      },
      {
       "output_type": "stream",
       "stream": "stdout",
       "text": [
        "\n",
        "Negative Sentiment >> Looking like Roberts' first bad decision of the young season leaving Wood in to start that"
       ]
      },
      {
       "output_type": "stream",
       "stream": "stdout",
       "text": [
        "\n",
        "Negative Sentiment >> RT @scotty_mccoy: Fuck the Dodgers"
       ]
      },
      {
       "output_type": "stream",
       "stream": "stdout",
       "text": [
        "\n",
        "Positive Sentiment >> RT @DodgerInsider: Dodgers trail for the first time this season."
       ]
      },
      {
       "output_type": "stream",
       "stream": "stdout",
       "text": [
        "\n",
        "Positive Sentiment >> RT @RyanWaltonSBN: The Dodgers are now trailing for the first time this season. 5-4 Giants"
       ]
      },
      {
       "output_type": "stream",
       "stream": "stdout",
       "text": [
        "\n",
        "Neutral >> RT @LA__Dodgers: Dodgers become 2nd team to begin season with 3 shutouts, joining the 1963\n",
        "Positive Sentiment >> LOL Dodgers"
       ]
      },
      {
       "output_type": "stream",
       "stream": "stdout",
       "text": [
        "\n",
        "Negative Sentiment >> RT @MeechBeenGoin: Fuck the dodgers"
       ]
      },
      {
       "output_type": "stream",
       "stream": "stdout",
       "text": [
        "\n",
        "Neutral >> @BillShaikin got anymore Dodgers pitching stats for us?"
       ]
      },
      {
       "output_type": "stream",
       "stream": "stdout",
       "text": [
        "\n",
        "Neutral >> RT @GuillermoCelis: Sencillo de Angel Pag\u00e1n y voltereta en San Francisco: #Dodgers 4-5 #Gi"
       ]
      },
      {
       "output_type": "stream",
       "stream": "stdout",
       "text": [
        "\n",
        "Neutral >> Come on Dodgers!!!!!"
       ]
      },
      {
       "output_type": "stream",
       "stream": "stdout",
       "text": [
        "\n",
        "Negative Sentiment >> RT @kushniss: Fuck the Dodgers #beatLA"
       ]
      },
      {
       "output_type": "stream",
       "stream": "stdout",
       "text": [
        "\n",
        "Positive Sentiment >> RT @Dodgers: That's 31 straight scoreless innings for Dodger pitchers to start 2016. #Dodg\n",
        "Neutral >> Dodgers bullpen still ASSS"
       ]
      },
      {
       "output_type": "stream",
       "stream": "stdout",
       "text": [
        "\n",
        "Negative Sentiment >> And that's that. The end of the Stinking Dodgers stinking scoreless shit!! We had to do it"
       ]
      },
      {
       "output_type": "stream",
       "stream": "stdout",
       "text": [
        "\n",
        "Neutral >> Can we discuss how the turf in SF appears to be made out of pudding or something? #Dodgers"
       ]
      },
      {
       "output_type": "stream",
       "stream": "stdout",
       "text": [
        "\n",
        "Neutral >> NorCal &gt; Socal... this aint San Diego. \n",
        "\n",
        "Feel me @dodgers ? #SFGiants"
       ]
      },
      {
       "output_type": "stream",
       "stream": "stdout",
       "text": [
        "\n",
        "Negative Sentiment >> Fuck the Dodgers! #BeatLA"
       ]
      },
      {
       "output_type": "stream",
       "stream": "stdout",
       "text": [
        "\n",
        "Neutral >> Wood contains the damage to giving it away like Halloween Candy #Dodgers #BoxOfPain"
       ]
      },
      {
       "output_type": "stream",
       "stream": "stdout",
       "text": [
        "\n",
        "Positive Sentiment >> RT @Dodgers: That's 31 straight scoreless innings for Dodger pitchers to start 2016. #Dodg"
       ]
      },
      {
       "output_type": "stream",
       "stream": "stdout",
       "text": [
        "\n",
        "Positive Sentiment >> I'd be surprised to see the dodgers win one game in this series."
       ]
      },
      {
       "output_type": "stream",
       "stream": "stdout",
       "text": [
        "\n",
        "Neutral >> RT @pjacobosports: All eyes on #Dodgers @RossStripling @SportsArticleRT @SportsBlogRT @Spo"
       ]
      },
      {
       "output_type": "stream",
       "stream": "stdout",
       "text": [
        "\n",
        "Neutral >> damn pursuit jinxed the dodgers"
       ]
      },
      {
       "output_type": "stream",
       "stream": "stdout",
       "text": [
        "\n",
        "Positive Sentiment >> Right, Orel. The Dodgers have to beat 10 players."
       ]
      },
      {
       "output_type": "stream",
       "stream": "stdout",
       "text": [
        "\n",
        "Positive Sentiment >> Dodgers are good enough to come back tho it's all good\n",
        "Positive Sentiment >> https://t.co/ACHBbiFQrQ : Watch: Dodgers score on first overturned neighborhood play in ML"
       ]
      },
      {
       "output_type": "stream",
       "stream": "stdout",
       "text": [
        "\n",
        "Positive Sentiment >> #Dodgers bullpen tested for first time. #Padres a pushover. #SFGiants feasting at plate..."
       ]
      },
      {
       "output_type": "stream",
       "stream": "stdout",
       "text": [
        "\n",
        "Negative Sentiment >> Dodgers now trailing in a game for the first time in this young season."
       ]
      },
      {
       "output_type": "stream",
       "stream": "stdout",
       "text": [
        "\n",
        "Neutral >> RT @KNBR: Pagan drives in Duffy &amp; Crawford and the #SFGiants now have a 5-4 lead over "
       ]
      },
      {
       "output_type": "stream",
       "stream": "stdout",
       "text": [
        "\n",
        "Neutral >> dodgers pls"
       ]
      },
      {
       "output_type": "stream",
       "stream": "stdout",
       "text": [
        "\n",
        "Positive Sentiment >> #SFGiants take the lead on Angel Pagan first-pitch single. First time Dodgers have been do"
       ]
      },
      {
       "output_type": "stream",
       "stream": "stdout",
       "text": [
        "\n",
        "Positive Sentiment >> RT @bittergiantsfan: I love (OK, like) quiet Dodgers fans...\n",
        "\n",
        "SF 5, LAD 4\n",
        "Bot 6 \n",
        "\n",
        "#SFGiant"
       ]
      },
      {
       "output_type": "stream",
       "stream": "stdout",
       "text": [
        "\n",
        "Neutral >> @sophiahelix Nothing gets the blood going like runs against the Dodgers!"
       ]
      },
      {
       "output_type": "stream",
       "stream": "stdout",
       "text": [
        "\n",
        "Neutral >> \ud83d\udc4d\ud83c\udffb\ud83d\udc4d\ud83c\udffb\ud83d\udc4d\ud83c\udffb\ud83d\udc4d\ud83c\udffb\ud83d\udc4d\ud83c\udffb https://t.co/JqGil4vod2"
       ]
      },
      {
       "output_type": "stream",
       "stream": "stdout",
       "text": [
        "\n",
        "Neutral >> #Dodgers #ThinkBlue LA falls 1 short of scoreless-innings record https://t.co/ypRGNUKrnv #"
       ]
      },
      {
       "output_type": "stream",
       "stream": "stdout",
       "text": [
        "\n",
        "Positive Sentiment >> RT @Independent: A gang has been jailed for stealing \u00a320,000 worth of Jammie Dodgers https"
       ]
      },
      {
       "output_type": "stream",
       "stream": "stdout",
       "text": [
        "\n",
        "Negative Sentiment >> RT @YESthatcherDead: @IndyRefScot @David_Cameron \n",
        "\n",
        "It's not \"blame\"\n",
        "\n",
        "Its repaying a shirke"
       ]
      },
      {
       "output_type": "stream",
       "stream": "stdout",
       "text": [
        "\n",
        "Negative Sentiment >> Hell yes. Giants just overtook the Dodgers! Go fuck your self LA! #BeatLA"
       ]
      },
      {
       "output_type": "stream",
       "stream": "stdout",
       "text": [
        "\n",
        "Positive Sentiment >> @tgmwb Why you don't overreact to every little thing that doesn't go 100% right for the Do"
       ]
      },
      {
       "output_type": "stream",
       "stream": "stdout",
       "text": [
        "\n",
        "Positive Sentiment >> RT @Dodgers: First win in the books. #\u30de\u30a8\u30b1\u30f3 https://t.co/7msnbA494N\n",
        "Neutral >> The Dodgers always find a way to disappoint me"
       ]
      },
      {
       "output_type": "stream",
       "stream": "stdout",
       "text": [
        "\n",
        "Positive Sentiment >> @JordanIsola @extrabaggs agreed - he's a good hitting pitcher and he just went through the\n",
        "Negative Sentiment >> Just like that.. Thank god. I hate the dodgers."
       ]
      },
      {
       "output_type": "stream",
       "stream": "stdout",
       "text": [
        "\n",
        "Negative Sentiment >> New York Yankees Vs La Dodgers Ticket Stub(reggie) 1977 World Series Game 1, https://t.co/"
       ]
      },
      {
       "output_type": "stream",
       "stream": "stdout",
       "text": [
        "\n",
        "Neutral >> \ud83d\udc4d Los Angeles Dodgers vs. San Francisco Giants Here's a link: https://t.co/aLgJhOi5yK #LAD\n",
        "Negative Sentiment >> #Baseball #Livescore @ScoresPro: (USA-) #San Francisco Giants vs #Los Angeles Dodgers: 5-4"
       ]
      },
      {
       "output_type": "stream",
       "stream": "stdout",
       "text": [
        "\n",
        "Positive Sentiment >> Great job Dodgers!! Way to give up a 4 run lead!! WE LOVE IT #BeatLA"
       ]
      },
      {
       "output_type": "stream",
       "stream": "stdout",
       "text": [
        "\n",
        "Neutral >> @Dodgers BASEMENT DWELLERS"
       ]
      },
      {
       "output_type": "stream",
       "stream": "stdout",
       "text": [
        "\n",
        "Neutral >> #WeLoveLA #Dodgers LA falls 1 short of scoreless-innings record https://t.co/qcdnYhpiFk #S"
       ]
      },
      {
       "output_type": "stream",
       "stream": "stdout",
       "text": [
        "\n",
        "Positive Sentiment >> There will probably not be a single game between the Giants and Dodgers that isn't highly "
       ]
      },
      {
       "output_type": "stream",
       "stream": "stdout",
       "text": [
        "\n",
        "Neutral >> Toque de sacrificio de @Ehire21 deja todo servido para que A. Pagan de vuelta al marcador "
       ]
      },
      {
       "output_type": "stream",
       "stream": "stdout",
       "text": [
        "\n",
        "Neutral >> \ud83d\udc4d Los Angeles Dodgers vs. San Francisco Giants Here's a link: https://t.co/Mykj6irnrh #LAD"
       ]
      },
      {
       "output_type": "stream",
       "stream": "stdout",
       "text": [
        "\n",
        "Neutral >> Giants lead the Dodgers now"
       ]
      },
      {
       "output_type": "stream",
       "stream": "stdout",
       "text": [
        "\n",
        "Positive Sentiment >> #Autographs GIL HODGES #Dodgers METS #SignED PSA/DNA CERTIFIED CUT AUTHENTIC #Autograph ht"
       ]
      },
      {
       "output_type": "stream",
       "stream": "stdout",
       "text": [
        "\n",
        "Positive Sentiment >> RT @billplunkettocr: 2 run single Angel Pagan and #Dodgers trail for the first time this s\n",
        "Neutral >> I had to get on an airplane to watch the Dodgers on TV this season. https://t.co/A4Hq67miB"
       ]
      },
      {
       "output_type": "stream",
       "stream": "stdout",
       "text": [
        "\n",
        "Positive Sentiment >> RT @Independent: A gang has been jailed for stealing \u00a320,000 worth of Jammie Dodgers https"
       ]
      },
      {
       "output_type": "stream",
       "stream": "stdout",
       "text": [
        "\n",
        "Positive Sentiment >> RT @Michael_BloomMR: First #Puig Moment of '16 campaign.\n",
        "#Dodgers #SFGiants @BillShaikin"
       ]
      },
      {
       "output_type": "stream",
       "stream": "stdout",
       "text": [
        "\n",
        "Positive Sentiment >> The Giants were losing to the Dodgers 3-0 when I checked earlier and now they're leading 5"
       ]
      },
      {
       "output_type": "stream",
       "stream": "stdout",
       "text": [
        "\n",
        "Neutral >> \ud83d\ude44\ud83d\ude21 #Dodgers https://t.co/FhuNv9P59u\n",
        "Positive Sentiment >> RT @AmplifiedtoRock: There will probably not be a single game between the Giants and Dodge"
       ]
      },
      {
       "output_type": "stream",
       "stream": "stdout",
       "text": [
        "\n",
        "Neutral >> 2016 Topps Gypsy Queen Short Print Rookie Kenta Maeda #343 Dodgers https://t.co/JL1c56wrpB"
       ]
      },
      {
       "output_type": "stream",
       "stream": "stdout",
       "text": [
        "\n",
        "Positive Sentiment >> RT @LolDodgers: Dodgers are behind for the first time this season! Glad to be able to give"
       ]
      },
      {
       "output_type": "stream",
       "stream": "stdout",
       "text": [
        "\n",
        "Neutral >> I've been gone all day just to find out that the #Dodgers are losing 5-4 to the #SFGiants"
       ]
      },
      {
       "output_type": "stream",
       "stream": "stdout",
       "text": [
        "\n",
        "Neutral >> Dodgers doing Dodger things rite now smh"
       ]
      },
      {
       "output_type": "stream",
       "stream": "stdout",
       "text": [
        "\n",
        "Neutral >> 1960 Topps Sandy Koufax Los Angeles Dodgers #343 Baseball Card https://t.co/hh4wAtyO65 htt"
       ]
      },
      {
       "output_type": "stream",
       "stream": "stdout",
       "text": [
        "\n",
        "Neutral >> RT @MarcasG: Well that's a buzzkill. https://t.co/6e6tD6enKw"
       ]
      },
      {
       "output_type": "stream",
       "stream": "stdout",
       "text": [
        "\n",
        "Neutral >> RT @_kingfab3: Because that's just what the Dodgers do https://t.co/SGSzZsr6gz"
       ]
      },
      {
       "output_type": "stream",
       "stream": "stdout",
       "text": [
        "\n",
        "Negative Sentiment >> [LA Daily News: Inside the Dodgers] Dodgers begin season by pitching 31 scoreless innings,"
       ]
      },
      {
       "output_type": "stream",
       "stream": "stdout",
       "text": [
        "\n",
        "Neutral >> RT @sosgsosg: Dodgers' scoreful inning streak at 2."
       ]
      },
      {
       "output_type": "stream",
       "stream": "stdout",
       "text": [
        "\n",
        "Positive Sentiment >> RT @DodgersNation: A line drive passed second scores two and the Dodgers trail for the fir"
       ]
      },
      {
       "output_type": "stream",
       "stream": "stdout",
       "text": [
        "\n",
        "Negative Sentiment >> Bruhh I seriously need to go to a Dodgers vs Giants game\u26ab\ufe0f\ud83d\udd36\u26be\ufe0f"
       ]
      },
      {
       "output_type": "stream",
       "stream": "stdout",
       "text": [
        "\n",
        "Neutral >> RT @KNBR: Pagan drives in Duffy &amp; Crawford and the #SFGiants now have a 5-4 lead over "
       ]
      },
      {
       "output_type": "stream",
       "stream": "stdout",
       "text": [
        "\n",
        "Neutral >> *awaits the film* https://t.co/74KP8Ay6bf"
       ]
      },
      {
       "output_type": "stream",
       "stream": "stdout",
       "text": [
        "\n",
        "Neutral >> RT @nw_nicholas: Tax dodgers Cameron &amp; Sajid appointed Fairhead, director of tax  dodg"
       ]
      },
      {
       "output_type": "stream",
       "stream": "stdout",
       "text": [
        "\n",
        "Negative Sentiment >> The #Dodgers have not trailed a game for 26 1/3 innings this season. Now they do #SLFLLond"
       ]
      },
      {
       "output_type": "stream",
       "stream": "stdout",
       "text": [
        "\n",
        "Neutral >> Helllooooo! Nickodeemuss xD https://t.co/U87qgIkA9E"
       ]
      },
      {
       "output_type": "stream",
       "stream": "stdout",
       "text": [
        "\n",
        "Neutral >> RT @memes_lmp: \u00a1PAREN TODO! \u00a1LE ANOTARON CARRERA A LOS DODGERS!"
       ]
      },
      {
       "output_type": "stream",
       "stream": "stdout",
       "text": [
        "\n",
        "Neutral >> RT @denisebrownLA: @Dodgers pitching = \ud83d\udd25\ud83d\udd25\ud83d\udd25"
       ]
      },
      {
       "output_type": "stream",
       "stream": "stdout",
       "text": [
        "\n",
        "Neutral >> Let's go dodgers! \ud83d\udc99\u26be"
       ]
      },
      {
       "output_type": "stream",
       "stream": "stdout",
       "text": [
        "\n",
        "Negative Sentiment >> Did Dave Roberts leave Alex Wood in the game just so he could get that key at bat? ...beca"
       ]
      },
      {
       "output_type": "stream",
       "stream": "stdout",
       "text": [
        "\n",
        "Neutral >> RT @Dodgers: Giants score three in the fifth to end the #Dodgers' scoreless innings streak"
       ]
      },
      {
       "output_type": "stream",
       "stream": "stdout",
       "text": [
        "\n",
        "Positive Sentiment >> RT @DodgerInsider: Dodgers trail for the first time this season."
       ]
      },
      {
       "output_type": "stream",
       "stream": "stdout",
       "text": [
        "\n",
        "Positive Sentiment >> RT @DodgerInsider: Dodgers trail for the first time this season."
       ]
      },
      {
       "output_type": "stream",
       "stream": "stdout",
       "text": [
        "\n",
        "Negative Sentiment >> Taking her to a Dodgers game so she knows it real \ud83d\ude01\ud83d\ude09"
       ]
      },
      {
       "output_type": "stream",
       "stream": "stdout",
       "text": [
        "\n",
        "Positive Sentiment >> RT @DodgersNation: A line drive passed second scores two and the Dodgers trail for the fir"
       ]
      },
      {
       "output_type": "stream",
       "stream": "stdout",
       "text": [
        "\n",
        "Neutral >> Ah yes, there are the Dodgers I know"
       ]
      },
      {
       "output_type": "stream",
       "stream": "stdout",
       "text": [
        "\n",
        "Positive Sentiment >> RT @MarcosBreton: #SFGiants take the lead 5-4.What's surprising is #Dodgers manager Dave R"
       ]
      },
      {
       "output_type": "stream",
       "stream": "stdout",
       "text": [
        "\n",
        "Negative Sentiment >> RT @BaseballJeff1: #SFGiants are up 5-4 after doing the impossible: Scoring against the #D"
       ]
      },
      {
       "output_type": "stream",
       "stream": "stdout",
       "text": [
        "\n",
        "Neutral >> RT @Dodgers: Giants score three in the fifth to end the #Dodgers' scoreless innings streak"
       ]
      },
      {
       "output_type": "stream",
       "stream": "stdout",
       "text": [
        "\n",
        "Neutral >> RT @LightBeerLetty: #MakeBaseballFunAgain @Dodgers"
       ]
      },
      {
       "output_type": "stream",
       "stream": "stdout",
       "text": [
        "\n",
        "Neutral >> \ud83d\udc4d Los Angeles Dodgers vs. San Francisco Giants Here's a link: https://t.co/HIRXWHhviV #LAD"
       ]
      },
      {
       "output_type": "stream",
       "stream": "stdout",
       "text": [
        "\n",
        "Positive Sentiment >> cc @mrjammyjamjar3 \n",
        "i know you seen this already but worth another reminder https://t.co/r"
       ]
      },
      {
       "output_type": "stream",
       "stream": "stdout",
       "text": [
        "\n",
        "Neutral >> Dodgers losing now -______-"
       ]
      },
      {
       "output_type": "stream",
       "stream": "stdout",
       "text": [
        "\n",
        "Neutral >> RT @Dodgers: Boy band tryouts are no joke. \n",
        "\n",
        "\ud83d\udcf7: @JonSooHooPics https://t.co/h1uuZ31Hns"
       ]
      },
      {
       "output_type": "stream",
       "stream": "stdout",
       "text": [
        "\n",
        "Neutral >> RT @cantpredictball: Dodgers pitching allowed a run"
       ]
      },
      {
       "output_type": "stream",
       "stream": "stdout",
       "text": [
        "\n",
        "Negative Sentiment >> @Surfguy805 @Dodgers bullpen is fresh though.  Season just started,  but we let Wood rott "
       ]
      },
      {
       "output_type": "stream",
       "stream": "stdout",
       "text": [
        "\n",
        "Positive Sentiment >> Forgot what it was like for the Dodgers to frustrate me.\n",
        "\n",
        "I certainly didn't miss it."
       ]
      },
      {
       "output_type": "stream",
       "stream": "stdout",
       "text": [
        "\n",
        "Neutral >> RT @briannnaaa7: Come on Dodgers!!!!!"
       ]
      },
      {
       "output_type": "stream",
       "stream": "stdout",
       "text": [
        "\n",
        "Neutral >> RT @ESPNStatsInfo: Dodgers now with 30 consecutive scoreless innings pitched. That's 2 inn"
       ]
      },
      {
       "output_type": "stream",
       "stream": "stdout",
       "text": [
        "\n",
        "Negative Sentiment >> Tweets of the Dodgers trailing for the first time this season are silly when the season is\n",
        "Positive Sentiment >> The Giants' scoring within the last 20-30 minutes included some rally cap-wearing from me."
       ]
      },
      {
       "output_type": "stream",
       "stream": "stdout",
       "text": [
        "\n",
        "Negative Sentiment >> Dodgers losing and you're talking about a fan base \ud83d\ude02 https://t.co/VNDgOU3LLD"
       ]
      },
      {
       "output_type": "stream",
       "stream": "stdout",
       "text": [
        "\n",
        "Positive Sentiment >> RT @76: Best seats in the house. Only 5 more days till the @Dodgers #OpeningDay. #tbt http\n",
        "Positive Sentiment >> RT @Dodgers: That's 31 straight scoreless innings for Dodger pitchers to start 2016. #Dodg"
       ]
      },
      {
       "output_type": "stream",
       "stream": "stdout",
       "text": [
        "\n",
        "Positive Sentiment >> RT @kingkawano34: Great job Dodgers!! Way to give up a 4 run lead!! WE LOVE IT #BeatLA"
       ]
      },
      {
       "output_type": "stream",
       "stream": "stdout",
       "text": [
        "\n",
        "Neutral >> Roberts: 1st mistake of the season. After 25 pitches/3 earned runs in the 5th, why not pin"
       ]
      },
      {
       "output_type": "stream",
       "stream": "stdout",
       "text": [
        "\n",
        "Neutral >> RT @Dodgers: .@ScottVanSlick's RBI double to left gives the #Dodgers a 4-0 lead! SVS just "
       ]
      },
      {
       "output_type": "stream",
       "stream": "stdout",
       "text": [
        "\n",
        "Neutral >> RT @BBTN: After throwing 31 shutout innings, the Dodgers give up their 1st runs of the sea"
       ]
      },
      {
       "output_type": "stream",
       "stream": "stdout",
       "text": [
        "\n",
        "Negative Sentiment >> RT @DodgersNation: Van Slyke doubles for an RBI off the wall! He crushed that one. 4-0, Do"
       ]
      },
      {
       "output_type": "stream",
       "stream": "stdout",
       "text": [
        "\n",
        "Positive Sentiment >> Doesn't matter how good you think this #Dodgers team is, the #Giants are champions, not po"
       ]
      },
      {
       "output_type": "stream",
       "stream": "stdout",
       "text": [
        "\n",
        "Neutral >> Back in my day \"Mellow Yellow\" is what we called them burnout hippy draft dodgers"
       ]
      },
      {
       "output_type": "stream",
       "stream": "stdout",
       "text": [
        "\n",
        "Negative Sentiment >> Dodgers up 4-0\n",
        "*no giants fans are talking to me*\n",
        "\n",
        "Giants take the lead 5-4\n",
        "*my phone blow"
       ]
      },
      {
       "output_type": "stream",
       "stream": "stdout",
       "text": [
        "\n",
        "Positive Sentiment >> RT @RyanWaltonSBN: The Dodgers are now trailing for the first time this season. 5-4 Giants"
       ]
      },
      {
       "output_type": "stream",
       "stream": "stdout",
       "text": [
        "\n",
        "Neutral >> CMON DODGERS!!!"
       ]
      },
      {
       "output_type": "stream",
       "stream": "stdout",
       "text": [
        "\n",
        "Neutral >> Gagne was the same. Wood should be a weird-look RP.  https://t.co/1aJ2KkVFen"
       ]
      },
      {
       "output_type": "stream",
       "stream": "stdout",
       "text": [
        "\n",
        "Neutral >> RT @SPORTalkSFGiant: What a 5th inning for the Giants!\n",
        "#SFGiants score 3 runs with 2 outs!"
       ]
      },
      {
       "output_type": "stream",
       "stream": "stdout",
       "text": [
        "\n",
        "Positive Sentiment >> RT @_natzilla: Good morning, fuck the Dodgers\ud83e\udd17\u26be\ufe0f\u26ab\ufe0f\ud83d\udd36"
       ]
      },
      {
       "output_type": "stream",
       "stream": "stdout",
       "text": [
        "\n",
        "Positive Sentiment >> Waste not, want not. Dodgers squandered  too many chances. How fast this has turned. Dam a"
       ]
      },
      {
       "output_type": "stream",
       "stream": "stdout",
       "text": [
        "\n",
        "Neutral >> RT @Dodgers: Almost time in SF. https://t.co/DvjUuQ1XNn"
       ]
      },
      {
       "output_type": "stream",
       "stream": "stdout",
       "text": [
        "\n",
        "Negative Sentiment >> Wow poor management for the @Dodgers there, wood should have been pulled 4 to 5 batters ag"
       ]
      },
      {
       "output_type": "stream",
       "stream": "stdout",
       "text": [
        "\n",
        "Negative Sentiment >> This game isn't over, folks. Stop crying like bitches. #Dodgers"
       ]
      },
      {
       "output_type": "stream",
       "stream": "stdout",
       "text": [
        "\n",
        "Neutral >> Dodgers  Suck  balls https://t.co/leanMfNJe5"
       ]
      },
      {
       "output_type": "stream",
       "stream": "stdout",
       "text": [
        "\n",
        "Positive Sentiment >> The most #LA part of that #LAcarchase was  when the Mustang pulled over &amp; a dope blue "
       ]
      },
      {
       "output_type": "stream",
       "stream": "stdout",
       "text": [
        "\n",
        "Neutral >> @eric_chagollaa  https://t.co/07Dx05m6Dk"
       ]
      },
      {
       "output_type": "stream",
       "stream": "stdout",
       "text": [
        "\n",
        "Negative Sentiment >> Wtf Dodgers cmon"
       ]
      },
      {
       "output_type": "stream",
       "stream": "stdout",
       "text": [
        "\n",
        "Neutral >> I can never count on u guys @Dodgers to shut these punk ass #SFGiants fans up"
       ]
      },
      {
       "output_type": "stream",
       "stream": "stdout",
       "text": [
        "\n",
        "Neutral >> If y'all want Sonny Gray, call Billy Beane! He'll give him up. Smh @Dodgers"
       ]
      },
      {
       "output_type": "stream",
       "stream": "stdout",
       "text": [
        "\n",
        "Positive Sentiment >> New story from Sports Illustrated in MLB Baseball : Watch: Dodgers score on first overturn\n",
        "Neutral >> @theaceofspaeder Please! Let's focus on the non @Padres portion of the @dodgers 2016 seaso"
       ]
      },
      {
       "output_type": "stream",
       "stream": "stdout",
       "text": [
        "\n",
        "Neutral >> Let's go Dodgers!!!!! \ud83d\udc4f\ud83d\udc4f\ud83d\udc4f\ud83d\udc4f\ud83d\udc4f https://t.co/VQSMg1hp9h\n",
        "Neutral >> Lmaoooo @Dodgers"
       ]
      },
      {
       "output_type": "stream",
       "stream": "stdout",
       "text": [
        "\n",
        "Negative Sentiment >> THEY'RE PLAYING THE GIANTS VS DODGERS GAME AT BWW. I DON'T WANNA GO HOME."
       ]
      },
      {
       "output_type": "stream",
       "stream": "stdout",
       "text": [
        "\n",
        "Positive Sentiment >> RT @Dodgers: First win in the books. #\u30de\u30a8\u30b1\u30f3 https://t.co/7msnbA494N"
       ]
      },
      {
       "output_type": "stream",
       "stream": "stdout",
       "text": [
        "\n",
        "Neutral >> What was that scoreless streak BS the Dodgers were on again ...  https://t.co/pEXDn0rtfT"
       ]
      },
      {
       "output_type": "stream",
       "stream": "stdout",
       "text": [
        "\n",
        "Negative Sentiment >> I don't get too worried about the Dodgers unless it's mid season and they're struggling tb"
       ]
      },
      {
       "output_type": "stream",
       "stream": "stdout",
       "text": [
        "\n",
        "Positive Sentiment >> Waste not, want not. Dodgers squandered  too many chances. How fast this has turned. Dam a"
       ]
      },
      {
       "output_type": "stream",
       "stream": "stdout",
       "text": [
        "\n",
        "Neutral >> Dodgers  Suck  balls https://t.co/leanMfNJe5\n",
        "Neutral >> RT @ArashMarkazi: I had to get on an airplane to watch the Dodgers on TV this season. http"
       ]
      },
      {
       "output_type": "stream",
       "stream": "stdout",
       "text": [
        "\n",
        "Neutral >> @Dodgers LET'S GO DODGERS LET'S GO DODGERS LET'S GO DODGERS cheering from dialysis https:/"
       ]
      },
      {
       "output_type": "stream",
       "stream": "stdout",
       "text": [
        "\n",
        "Negative Sentiment >> THEY'RE PLAYING THE GIANTS VS DODGERS GAME AT BWW. I DON'T WANNA GO HOME."
       ]
      },
      {
       "output_type": "stream",
       "stream": "stdout",
       "text": [
        "\n",
        "Positive Sentiment >> Dodgers pitching went from Superhuman to super Human real quick."
       ]
      },
      {
       "output_type": "stream",
       "stream": "stdout",
       "text": [
        "\n",
        "Neutral >> \ud83d\udea8Private card 2-0\ud83d\udea8\n",
        "\n",
        "Marlins tto 3.5 winner \ud83d\udcb0\ud83d\udcb0\ud83d\udcb0\n",
        "Yanks ml pending \ud83d\udc40\ud83d\udc40\n",
        "Dodgers tto 3.5 winner "
       ]
      },
      {
       "output_type": "stream",
       "stream": "stdout",
       "text": [
        "\n",
        "Positive Sentiment >> New York Yankees Vs La Dodgers Ticket Stub(reggie) 1977 World Series Game 1, https://t.co/"
       ]
      },
      {
       "output_type": "stream",
       "stream": "stdout",
       "text": [
        "\n",
        "Neutral >> RT @Dodgers: Giants score three in the fifth to end the #Dodgers' scoreless innings streak"
       ]
      },
      {
       "output_type": "stream",
       "stream": "stdout",
       "text": [
        "\n",
        "Neutral >> RT @OrelHershiser: Let's go Dodgers!!! https://t.co/vcli0wWQSS"
       ]
      },
      {
       "output_type": "stream",
       "stream": "stdout",
       "text": [
        "\n",
        "Positive Sentiment >> Fuck the gay ass Dodgers"
       ]
      },
      {
       "output_type": "stream",
       "stream": "stdout",
       "text": [
        "\n",
        "Negative Sentiment >> That was Angel Pagan's 62nd career 2-RBI game. #SFGiants #Dodgers"
       ]
      },
      {
       "output_type": "stream",
       "stream": "stdout",
       "text": [
        "\n",
        "Neutral >> This is how I learn the Dodgers have been scored on. https://t.co/GdMryWmg3m"
       ]
      },
      {
       "output_type": "stream",
       "stream": "stdout",
       "text": [
        "\n",
        "Positive Sentiment >> Welp...trailing for the first time in 2016 #Dodgers"
       ]
      },
      {
       "output_type": "stream",
       "stream": "stdout",
       "text": [
        "\n",
        "Positive Sentiment >> Close babies @Dodgers and good enough for me. https://t.co/PQBE8gA9bf"
       ]
      },
      {
       "output_type": "stream",
       "stream": "stdout",
       "text": [
        "\n",
        "Positive Sentiment >> RT @espn: The Dodgers shut out San Diego AGAIN last night.\n",
        "\n",
        "The Padres are the first team "
       ]
      },
      {
       "output_type": "stream",
       "stream": "stdout",
       "text": [
        "\n",
        "Positive Sentiment >> And that's that. The end of the stinking dodgers stinking winning record. We had to do it!"
       ]
      },
      {
       "output_type": "stream",
       "stream": "stdout",
       "text": [
        "\n",
        "Neutral >> @Dodgers it's 5-4 now \ud83d\ude0e"
       ]
      },
      {
       "output_type": "stream",
       "stream": "stdout",
       "text": [
        "\n",
        "Negative Sentiment >> RT @EephusBlue: Tweets of the Dodgers trailing for the first time this season are silly wh\n",
        "Positive Sentiment >> people acting like the fucking dodgers played an amazing team smfh its the padres"
       ]
      },
      {
       "output_type": "stream",
       "stream": "stdout",
       "text": [
        "\n",
        "Neutral >> @TCreedlove but you don't even like the Angels or the Dodgers \ud83c\udf1a"
       ]
      },
      {
       "output_type": "stream",
       "stream": "stdout",
       "text": [
        "\n",
        "Negative Sentiment >> Rays pull hidden ball trick: https://t.co/iBNOy7Y5aM #Rays #Baseballfever #Dodgers"
       ]
      },
      {
       "output_type": "stream",
       "stream": "stdout",
       "text": [
        "\n",
        "Neutral >> RT @SteveMasonESPN: Roberts: 1st mistake of the season. After 25 pitches/3 earned runs in "
       ]
      },
      {
       "output_type": "stream",
       "stream": "stdout",
       "text": [
        "\n",
        "Neutral >> Dodgers' scoreless streak ends at 31 innings https://t.co/6MkrpZEAqZ (via https://t.co/E9x"
       ]
      },
      {
       "output_type": "stream",
       "stream": "stdout",
       "text": [
        "\n",
        "Negative Sentiment >> RT @EephusBlue: Tweets of the Dodgers trailing for the first time this season are silly wh"
       ]
      },
      {
       "output_type": "stream",
       "stream": "stdout",
       "text": [
        "\n",
        "Positive Sentiment >> RT @ScottWarner18: Happy we're outta that inning. The blue guys are still up 4-3 folks. @D"
       ]
      },
      {
       "output_type": "stream",
       "stream": "stdout",
       "text": [
        "\n",
        "Neutral >> RT @Dodgers: Giants score three in the fifth to end the #Dodgers' scoreless innings streak"
       ]
      },
      {
       "output_type": "stream",
       "stream": "stdout",
       "text": [
        "\n",
        "Negative Sentiment >> RT @jsph1959: Rays pull hidden ball trick: https://t.co/iBNOy7Y5aM #Rays #Baseballfever #D"
       ]
      },
      {
       "output_type": "stream",
       "stream": "stdout",
       "text": [
        "\n",
        "Neutral >> Honestly expected wood to give up runs sooner than the fourth. Yimi never wastes time doin"
       ]
      },
      {
       "output_type": "stream",
       "stream": "stdout",
       "text": [
        "\n",
        "Neutral >> RT @Dodgers: .@ScottVanSlick's RBI double to left gives the #Dodgers a 4-0 lead! SVS just "
       ]
      },
      {
       "output_type": "stream",
       "stream": "stdout",
       "text": [
        "\n",
        "Neutral >> Let's go dodgers \u26be\ufe0f\ud83d\udc99!  Twenty bucks on the line ! \ud83d\ude06\ud83d\ude06\ud83d\ude06\ud83d\ude06"
       ]
      },
      {
       "output_type": "stream",
       "stream": "stdout",
       "text": [
        "\n",
        "Negative Sentiment >> RT @militantangleno: Dunno which to follow, the #pursuit or the #Dodgers-#Giants game. Bot\n",
        "Negative Sentiment >> \"Facing batters the third and fourth times through the batting order, Wood had trouble, al"
       ]
      },
      {
       "output_type": "stream",
       "stream": "stdout",
       "text": [
        "\n",
        "Neutral >> RT @ESPN_Beisbol: Los @dodgers (31.2) quedaron a un out de empatar la marca de m\u00e1s innings"
       ]
      },
      {
       "output_type": "stream",
       "stream": "stdout",
       "text": [
        "\n",
        "Positive Sentiment >> #SportsIllustrated MLB Baseball : Watch: Dodgers score on first overturned neighborhood pl"
       ]
      },
      {
       "output_type": "stream",
       "stream": "stdout",
       "text": [
        "\n",
        "Neutral >> RT @Dodgers: Giants score three in the fifth to end the #Dodgers' scoreless innings streak"
       ]
      },
      {
       "output_type": "stream",
       "stream": "stdout",
       "text": [
        "\n",
        "Positive Sentiment >> @Dodgers Welcome to reality...."
       ]
      },
      {
       "output_type": "stream",
       "stream": "stdout",
       "text": [
        "\n",
        "Neutral >> @NotDeadRyanDunn sharks &gt; Dodgers"
       ]
      },
      {
       "output_type": "stream",
       "stream": "stdout",
       "text": [
        "\n",
        "Positive Sentiment >> Lol the Dodgers shutout streak ended with a crash and burn"
       ]
      },
      {
       "output_type": "stream",
       "stream": "stdout",
       "text": [
        "\n",
        "Neutral >> Come on dodgers !"
       ]
      },
      {
       "output_type": "stream",
       "stream": "stdout",
       "text": [
        "\n",
        "Negative Sentiment >> @Wishes_GRANTed i got me a jackie guy, i refuse to wear it out here lest i be confused for"
       ]
      },
      {
       "output_type": "stream",
       "stream": "stdout",
       "text": [
        "\n",
        "Positive Sentiment >> RT @DodgersNation: A line drive passed second scores two and the Dodgers trail for the fir"
       ]
      },
      {
       "output_type": "stream",
       "stream": "stdout",
       "text": [
        "\n",
        "Negative Sentiment >> Fuck the dodgers fuck losing fuck baseball fuck my life"
       ]
      },
      {
       "output_type": "stream",
       "stream": "stdout",
       "text": [
        "\n",
        "Neutral >> RT @Ashweeen_: F u Dodgers"
       ]
      },
      {
       "output_type": "stream",
       "stream": "stdout",
       "text": [
        "\n",
        "Neutral >> RT @SportNutJob: What was that scoreless streak BS the Dodgers were on again ...  https://"
       ]
      },
      {
       "output_type": "stream",
       "stream": "stdout",
       "text": [
        "\n",
        "Neutral >> RT @Dodgers: Giants score three in the fifth to end the #Dodgers' scoreless innings streak\n",
        "Positive Sentiment >> When your new pitcher looks like Kevin Bacon your in good hands... #Dodgers #KentaMaeda"
       ]
      },
      {
       "output_type": "stream",
       "stream": "stdout",
       "text": [
        "\n",
        "Neutral >> @h6_robert @Dodgers @Awood45 aaaaand it's gone \ud83d\ude09"
       ]
      },
      {
       "output_type": "stream",
       "stream": "stdout",
       "text": [
        "\n",
        "Neutral >> @MisterB2018 @Dodgers They won't. \ud83d\ude00\ud83d\udcaa\ud83d\udc99"
       ]
      },
      {
       "output_type": "stream",
       "stream": "stdout",
       "text": [
        "\n",
        "Neutral >> Come on Dodgers \ud83d\ude44\ud83d\ude44\ud83d\ude44"
       ]
      },
      {
       "output_type": "stream",
       "stream": "stdout",
       "text": [
        "\n",
        "Neutral >> RT @SteveMasonESPN: Roberts: 1st mistake of the season. After 25 pitches/3 earned runs in "
       ]
      },
      {
       "output_type": "stream",
       "stream": "stdout",
       "text": [
        "\n",
        "Neutral >> RT @SteveMasonESPN: Roberts: 1st mistake of the season. After 25 pitches/3 earned runs in "
       ]
      },
      {
       "output_type": "stream",
       "stream": "stdout",
       "text": [
        "\n",
        "Positive Sentiment >> RT @mccoveychron: Dodgers' Wood strong early before losing steam"
       ]
      },
      {
       "output_type": "stream",
       "stream": "stdout",
       "text": [
        "\n",
        "Neutral >> RT @Dodgers: Giants score three in the fifth to end the #Dodgers' scoreless innings streak"
       ]
      },
      {
       "output_type": "stream",
       "stream": "stdout",
       "text": [
        "\n",
        "Negative Sentiment >> RT @SFGiantsFans: PANIK RBI Triple! Posey RBI double! Cool scoreless streak, #Dodgers. It'"
       ]
      },
      {
       "output_type": "stream",
       "stream": "stdout",
       "text": [
        "\n",
        "Neutral >> Dodgers got me like https://t.co/Z1szG8nh6v"
       ]
      },
      {
       "output_type": "stream",
       "stream": "stdout",
       "text": [
        "\n",
        "Positive Sentiment >> great job on that camera work on that bunt  @SportsNetLA @Dodgers #Dodgers"
       ]
      },
      {
       "output_type": "stream",
       "stream": "stdout",
       "text": [
        "\n",
        "Positive Sentiment >> RT: https://t.co/xzR91pZlWo RT si_mlb: Watch: Dodgers score on first overturned neighborho"
       ]
      },
      {
       "output_type": "stream",
       "stream": "stdout",
       "text": [
        "\n",
        "Neutral >> I hate the dodgers .. With the passion lol"
       ]
      },
      {
       "output_type": "stream",
       "stream": "stdout",
       "text": [
        "\n",
        "Neutral >> Sexta entrada e os #SFGiants v\u00e3o vencendo os #Dodgers por 5 a 4\n",
        "\n",
        "#BeatLA"
       ]
      },
      {
       "output_type": "stream",
       "stream": "stdout",
       "text": [
        "\n",
        "Neutral >> \ud83d\ude02\ud83d\ude02 https://t.co/So8YIWtnPc"
       ]
      },
      {
       "output_type": "stream",
       "stream": "stdout",
       "text": [
        "\n",
        "Negative Sentiment >> SOMEONE UPDATE ME ON THE DODGERS GAME PLEASE\u2764\ufe0f"
       ]
      },
      {
       "output_type": "stream",
       "stream": "stdout",
       "text": [
        "\n",
        "Neutral >> @MikedupRadiocom @Dodgers And why is Yimi Garcia still employed?"
       ]
      },
      {
       "output_type": "stream",
       "stream": "stdout",
       "text": [
        "\n",
        "Positive Sentiment >> RT @JamesTurner37: A gang has been jailed for stealing \u00a320,000 worth of Jammie Dodgers htt"
       ]
      },
      {
       "output_type": "stream",
       "stream": "stdout",
       "text": [
        "\n",
        "Neutral >> RT @VanesBoxing: The Dodgers Trying to lose on Purpose Why would you let Wood Bat 6th ??"
       ]
      },
      {
       "output_type": "stream",
       "stream": "stdout",
       "text": [
        "\n",
        "Positive Sentiment >> RT @Dodgers: .@kikehndez with an RBI single to right! #Dodgers take a 1-0 lead. #LetsGoDod"
       ]
      },
      {
       "output_type": "stream",
       "stream": "stdout",
       "text": [
        "\n",
        "Positive Sentiment >> RT @imyomamma2: And that's that. The end of the stinking dodgers stinking winning record. "
       ]
      },
      {
       "output_type": "stream",
       "stream": "stdout",
       "text": [
        "\n",
        "Neutral >> Oh Dodgers...."
       ]
      },
      {
       "output_type": "stream",
       "stream": "stdout",
       "text": [
        "\n",
        "Negative Sentiment >> RT @sfgwire: That was Angel Pagan's 62nd career 2-RBI game. #SFGiants #Dodgers"
       ]
      },
      {
       "output_type": "stream",
       "stream": "stdout",
       "text": [
        "\n",
        "Neutral >> @Dodgers @ScottVanSlick we got doomed by the walks! We gotta rally back"
       ]
      },
      {
       "output_type": "stream",
       "stream": "stdout",
       "text": [
        "\n",
        "Negative Sentiment >> @619sports @SFGiants watching this game I'm wondering if the Dodgers are that good or the "
       ]
      },
      {
       "output_type": "stream",
       "stream": "stdout",
       "text": [
        "\n",
        "Neutral >> RT @blukose15: @TedwillOnline  he kinda looks like you  https://t.co/J1IQ6WkDup"
       ]
      },
      {
       "output_type": "stream",
       "stream": "stdout",
       "text": [
        "\n",
        "Positive Sentiment >> RT @Dodgers: That's 31 straight scoreless innings for Dodger pitchers to start 2016. #Dodg"
       ]
      },
      {
       "output_type": "stream",
       "stream": "stdout",
       "text": [
        "\n",
        "Positive Sentiment >> Lol dodgers getting their throats ready early this year"
       ]
      },
      {
       "output_type": "stream",
       "stream": "stdout",
       "text": [
        "\n",
        "Neutral >> PAGAN HIJOS DE SUS PUTAS PERRAS MADRES PUTOS DODGERS CHOLOS!!!!!!\n",
        "Neutral >> !!!! https://t.co/ZrqW4NuK8N\n",
        "Neutral >> My physical therapist is a Dodgers fan I can't trust her anymore with my care."
       ]
      },
      {
       "output_type": "stream",
       "stream": "stdout",
       "text": [
        "\n",
        "Positive Sentiment >> A gang has been jailed for stealing \u00a320,000 worth of Jammie Dodgers https://t.co/atPeHObjk"
       ]
      },
      {
       "output_type": "stream",
       "stream": "stdout",
       "text": [
        "\n",
        "Negative Sentiment >> RT @ItsAshley49: Bruhh I seriously need to go to a Dodgers vs Giants game\u26ab\ufe0f\ud83d\udd36\u26be\ufe0f"
       ]
      },
      {
       "output_type": "stream",
       "stream": "stdout",
       "text": [
        "\n",
        "Neutral >> RT @BBTN: After throwing 31 shutout innings, the Dodgers give up their 1st runs of the sea"
       ]
      },
      {
       "output_type": "stream",
       "stream": "stdout",
       "text": [
        "\n",
        "Neutral >> RT @GamerBabeJess: Can't trust the Dodgers bullpen."
       ]
      },
      {
       "output_type": "stream",
       "stream": "stdout",
       "text": [
        "\n",
        "Negative Sentiment >> RT @EephusBlue: Tweets of the Dodgers trailing for the first time this season are silly wh"
       ]
      },
      {
       "output_type": "stream",
       "stream": "stdout",
       "text": [
        "\n",
        "Neutral >> RT @SteveMasonESPN: Roberts: 1st mistake of the season. After 25 pitches/3 earned runs in "
       ]
      },
      {
       "output_type": "stream",
       "stream": "stdout",
       "text": [
        "\n",
        "Positive Sentiment >> Yesterday we saw the first 3 sweeps of the 2016 #MLB season. #Reds swept #Phillies. #Pirat"
       ]
      },
      {
       "output_type": "stream",
       "stream": "stdout",
       "text": [
        "\n",
        "Positive Sentiment >> RT @Dodgers: That's 31 straight scoreless innings for Dodger pitchers to start 2016. #Dodg"
       ]
      },
      {
       "output_type": "stream",
       "stream": "stdout",
       "text": [
        "\n",
        "Negative Sentiment >> RT @EephusBlue: Tweets of the Dodgers trailing for the first time this season are silly wh"
       ]
      },
      {
       "output_type": "stream",
       "stream": "stdout",
       "text": [
        "\n",
        "Neutral >> RT @Dodgers: Giants score three in the fifth to end the #Dodgers' scoreless innings streak"
       ]
      },
      {
       "output_type": "stream",
       "stream": "stdout",
       "text": [
        "\n",
        "Positive Sentiment >> RT @si_mlb: Watch: Dodgers score on first overturned neighborhood play in MLB history http"
       ]
      },
      {
       "output_type": "stream",
       "stream": "stdout",
       "text": [
        "\n",
        "Positive Sentiment >> RT @billplunkettocr: #Dodgers scoreless streak now at 30. They have held a lead in 26 of t"
       ]
      },
      {
       "output_type": "stream",
       "stream": "stdout",
       "text": [
        "\n",
        "Positive Sentiment >> @dodgers trail for the first time this season -______-"
       ]
      },
      {
       "output_type": "stream",
       "stream": "stdout",
       "text": [
        "\n",
        "Positive Sentiment >> RT @McCulloughTimes: Yimi Garcia is warming back up, looking to avoid being the first Dodg"
       ]
      },
      {
       "output_type": "stream",
       "stream": "stdout",
       "text": [
        "\n",
        "Positive Sentiment >> RT @Dodgers: #Dodgers strike first. https://t.co/nuozMVVO1m"
       ]
      },
      {
       "output_type": "stream",
       "stream": "stdout",
       "text": [
        "\n",
        "Positive Sentiment >> RT @DodgersNation: A line drive passed second scores two and the Dodgers trail for the fir"
       ]
      },
      {
       "output_type": "stream",
       "stream": "stdout",
       "text": [
        "\n",
        "Positive Sentiment >> Dodgers started off so good what the fuck"
       ]
      },
      {
       "output_type": "stream",
       "stream": "stdout",
       "text": [
        "\n",
        "Neutral >> pagan always kills the Dodgers."
       ]
      },
      {
       "output_type": "stream",
       "stream": "stdout",
       "text": [
        "\n",
        "Neutral >> Dodgers in Panik mode!!!  \ud83d\ude02\ud83d\ude02\ud83d\ude02\ud83d\ude02     #BeatLA"
       ]
      },
      {
       "output_type": "stream",
       "stream": "stdout",
       "text": [
        "\n",
        "Positive Sentiment >> RT @Dodgers: Austin Barnes is ruled safe at second which allows a run to score. #Dodgers n"
       ]
      },
      {
       "output_type": "stream",
       "stream": "stdout",
       "text": [
        "\n",
        "Neutral >> RT @Dodgers: Rivalry renewed. #ITFDB\n",
        "\n",
        "\ud83d\udcf7: @JonSooHooPics https://t.co/bDmdzqkucE"
       ]
      },
      {
       "output_type": "stream",
       "stream": "stdout",
       "text": [
        "\n",
        "Neutral >> RT @previews_review: Well, @thehetz isn't a big fan of the Dodgers this season.  https://t\n",
        "Positive Sentiment >> Let's see how the dodgers respond now that they are playing a good team not a little leagu"
       ]
      },
      {
       "output_type": "stream",
       "stream": "stdout",
       "text": [
        "\n",
        "Neutral >> RT @Dodgers: .@ScottVanSlick's RBI double to left gives the #Dodgers a 4-0 lead! SVS just "
       ]
      },
      {
       "output_type": "stream",
       "stream": "stdout",
       "text": [
        "\n",
        "Neutral >> RT @colinresch: So the #sfgiants end the #Dodgers scoreless innings streak at 31. Score 3 "
       ]
      },
      {
       "output_type": "stream",
       "stream": "stdout",
       "text": [
        "\n",
        "Positive Sentiment >> Same old Wood eh #Dodgers?\n",
        "Neutral >> RT @Dodgers: Boy band tryouts are no joke. \n",
        "\n",
        "\ud83d\udcf7: @JonSooHooPics https://t.co/h1uuZ31Hns"
       ]
      },
      {
       "output_type": "stream",
       "stream": "stdout",
       "text": [
        "\n",
        "Neutral >> RT @_evetteee: Dodgers bullpen still ASSS"
       ]
      },
      {
       "output_type": "stream",
       "stream": "stdout",
       "text": [
        "\n",
        "Positive Sentiment >> RT @si_mlb: Watch: Dodgers score on first overturned neighborhood play in MLB history http"
       ]
      },
      {
       "output_type": "stream",
       "stream": "stdout",
       "text": [
        "\n",
        "Negative Sentiment >> That's true and sad https://t.co/EVwLNeaAGs"
       ]
      },
      {
       "output_type": "stream",
       "stream": "stdout",
       "text": [
        "\n",
        "Negative Sentiment >> RT @theaceofspaeder: #Dodgers scoreless streak ends at 31 innings. One shy of the 1963 Car\n",
        "Neutral >> RT @theScoreMLB: Dodgers' scoreless streak ends at 31 innings https://t.co/Jl5A0C6jA4 http"
       ]
      },
      {
       "output_type": "stream",
       "stream": "stdout",
       "text": [
        "\n",
        "Negative Sentiment >> My barber is going to be giving me shit if the Dodgers lose this series \ud83d\ude02\ud83d\ude02"
       ]
      },
      {
       "output_type": "stream",
       "stream": "stdout",
       "text": [
        "\n",
        "Neutral >> RT @SteveMasonESPN: Roberts: 1st mistake of the season. After 25 pitches/3 earned runs in "
       ]
      },
      {
       "output_type": "stream",
       "stream": "stdout",
       "text": [
        "\n",
        "Positive Sentiment >> RT @AlexPavlovic: Brandon Crawford becomes the first player to score against the Dodgers t"
       ]
      },
      {
       "output_type": "stream",
       "stream": "stdout",
       "text": [
        "\n",
        "Neutral >> RT @Dodgers: Giants score three in the fifth to end the #Dodgers' scoreless innings streak"
       ]
      },
      {
       "output_type": "stream",
       "stream": "stdout",
       "text": [
        "\n",
        "Neutral >> @Dodgers : 27 IP, 0 ER. Hoy 5 2/3 IP, 5 ER #SFGOpeningDay"
       ]
      },
      {
       "output_type": "stream",
       "stream": "stdout",
       "text": [
        "\n",
        "Neutral >> Dodgers choking again \ud83d\udc40"
       ]
      },
      {
       "output_type": "stream",
       "stream": "stdout",
       "text": [
        "\n",
        "Negative Sentiment >> Devolved into the pieces of shit they always were. #Dodgers starting pitching."
       ]
      },
      {
       "output_type": "stream",
       "stream": "stdout",
       "text": [
        "\n",
        "Negative Sentiment >> RT @EephusBlue: Tweets of the Dodgers trailing for the first time this season are silly wh"
       ]
      },
      {
       "output_type": "stream",
       "stream": "stdout",
       "text": [
        "\n",
        "Neutral >> RT @FOUjerzinurcup: C'mon now! We got this! #Dodgers"
       ]
      },
      {
       "output_type": "stream",
       "stream": "stdout",
       "text": [
        "\n",
        "Neutral >> RT @BillShaikin: In the 32nd inning of the season, the number in the \"runs allowed\" column"
       ]
      },
      {
       "output_type": "stream",
       "stream": "stdout",
       "text": [
        "\n",
        "Neutral >> RT @hunterdixon_22: Giants suck #dodgers"
       ]
      },
      {
       "output_type": "stream",
       "stream": "stdout",
       "text": [
        "\n",
        "Positive Sentiment >> RT @pressprogress: The Canadian gov't has no clue how much money it's losing to tax dodger"
       ]
      },
      {
       "output_type": "stream",
       "stream": "stdout",
       "text": [
        "\n",
        "Positive Sentiment >> giants vs dodgers now and warriors vs spurs later? great day of sports"
       ]
      },
      {
       "output_type": "stream",
       "stream": "stdout",
       "text": [
        "\n",
        "Neutral >> Giants have a advantage after the starters are gone over the dodgers..\n",
        "#notthepadres"
       ]
      },
      {
       "output_type": "stream",
       "stream": "stdout",
       "text": [
        "\n",
        "Neutral >> RT @Dodgers: Almost time in SF. https://t.co/DvjUuQ1XNn"
       ]
      },
      {
       "output_type": "stream",
       "stream": "stdout",
       "text": [
        "\n",
        "Positive Sentiment >> Dave Roberts gonna get fired. Forgot to warm up the bullpen and failing to pull a struggli"
       ]
      },
      {
       "output_type": "stream",
       "stream": "stdout",
       "text": [
        "\n",
        "Neutral >> @hangingsliders It's not like the Dodgers were having difficulty getting anyone out or any"
       ]
      },
      {
       "output_type": "stream",
       "stream": "stdout",
       "text": [
        "\n",
        "Neutral >> About to Move Dodgers/Masters feed in a moment, so we can work on getting all feeds sorted"
       ]
      },
      {
       "output_type": "stream",
       "stream": "stdout",
       "text": [
        "\n",
        "Neutral >> RT @Dodgers: .@ScottVanSlick's RBI double to left gives the #Dodgers a 4-0 lead! SVS just "
       ]
      },
      {
       "output_type": "stream",
       "stream": "stdout",
       "text": [
        "\n",
        "Neutral >> RT @Dodgers: Giants score three in the fifth to end the #Dodgers' scoreless innings streak"
       ]
      },
      {
       "output_type": "stream",
       "stream": "stdout",
       "text": [
        "\n",
        "Neutral >> RT @TopSportsPlay: Video: Dodgers pitcher Kenta Maeda hit a home run in his MLB debut. Wat"
       ]
      },
      {
       "output_type": "stream",
       "stream": "stdout",
       "text": [
        "\n",
        "Positive Sentiment >> @Dodgers It was sooo easy in San Diego?. LOL!"
       ]
      },
      {
       "output_type": "stream",
       "stream": "stdout",
       "text": [
        "\n",
        "Neutral >> RT @theaceofspaeder: The #Dodgers season ERA ballooned from 0.00 to 0.84 after allowing th"
       ]
      },
      {
       "output_type": "stream",
       "stream": "stdout",
       "text": [
        "\n",
        "Positive Sentiment >> First 31 innings of Dodgers' season was epic."
       ]
      },
      {
       "output_type": "stream",
       "stream": "stdout",
       "text": [
        "\n",
        "Neutral >> Is watching the Giants vs. Dodgers! Go Giants!"
       ]
      },
      {
       "output_type": "stream",
       "stream": "stdout",
       "text": [
        "\n",
        "Negative Sentiment >> Dodgers went from making me consider season tickets to crying MJ face in a matter of like "
       ]
      },
      {
       "output_type": "stream",
       "stream": "stdout",
       "text": [
        "\n",
        "Positive Sentiment >> RT @tuuurri: Dodgers are already looking good today!\ud83d\udc4c\ud83c\udffc\n",
        "Negative Sentiment >> I leave my house to go to my internship and the Dodgers are losing now wtf"
       ]
      },
      {
       "output_type": "stream",
       "stream": "stdout",
       "text": [
        "\n",
        "Neutral >> RT @Dodgers: Giants score three in the fifth to end the #Dodgers' scoreless innings streak\n",
        "Negative Sentiment >> Dodgers letting me down\n",
        "Negative Sentiment >> RT @EephusBlue: Tweets of the Dodgers trailing for the first time this season are silly wh"
       ]
      },
      {
       "output_type": "stream",
       "stream": "stdout",
       "text": [
        "\n",
        "Neutral >> #WeLoveLA #Dodgers Los Angeles Dodgers San Francisco Giants 2 0 https://t.co/AQ3x2weQt4 #S\n",
        "Neutral >> RT @bigpapi_gloria: CMON DODGERS!!!\n",
        "Neutral >> RT @nw_nicholas: Tax dodgers Cameron &amp; Sajid appointed Fairhead, director of tax  dodg\n",
        "Negative Sentiment >> @Dodgers now I remember why I hate gays"
       ]
      },
      {
       "output_type": "stream",
       "stream": "stdout",
       "text": [
        "\n",
        "Neutral >> LA falls 1 short of scoreless-innings record https://t.co/RAn4IKNbZI #MLB\n",
        "Positive Sentiment >> emotionally unstable thanks to the dodgers\n",
        "Neutral >> @dhlsmith  https://t.co/Ee9lHiVx1p"
       ]
      },
      {
       "output_type": "stream",
       "stream": "stdout",
       "text": [
        "\n",
        "Neutral >> @rslocks MLB is on \ud83d\udd25!            Dodgers o8 \ud83d\udcb0"
       ]
      },
      {
       "output_type": "stream",
       "stream": "stdout",
       "text": [
        "\n",
        "Neutral >> #Motivation #Fitbit Fasted Workouts for Fat Loss https://t.co/YD2ICyR2rO #Dodgers #Sportin"
       ]
      },
      {
       "output_type": "stream",
       "stream": "stdout",
       "text": [
        "\n",
        "Negative Sentiment >> Wood sucks as a Dodger! This is more of what I expected from their starters other than Ker"
       ]
      },
      {
       "output_type": "stream",
       "stream": "stdout",
       "text": [
        "\n",
        "Positive Sentiment >> RT @kcberumen: Dodgers are currently beating San Fran just incase you weren't aware @TWhit"
       ]
      },
      {
       "output_type": "stream",
       "stream": "stdout",
       "text": [
        "\n",
        "Neutral >> RT @KNBR: Pagan drives in Duffy &amp; Crawford and the #SFGiants now have a 5-4 lead over "
       ]
      },
      {
       "output_type": "stream",
       "stream": "stdout",
       "text": [
        "\n",
        "Neutral >> RT @Dodgers: Almost time in SF. https://t.co/DvjUuQ1XNn"
       ]
      },
      {
       "output_type": "stream",
       "stream": "stdout",
       "text": [
        "\n",
        "Neutral >> RT @OrelHershiser: Let's go Dodgers!!! https://t.co/vcli0wWQSS"
       ]
      },
      {
       "output_type": "stream",
       "stream": "stdout",
       "text": [
        "\n",
        "Neutral >> RT @briannnaaa7: Come on Dodgers!!!!!"
       ]
      },
      {
       "output_type": "stream",
       "stream": "stdout",
       "text": [
        "\n",
        "Negative Sentiment >> What happens dodgers :/"
       ]
      },
      {
       "output_type": "stream",
       "stream": "stdout",
       "text": [
        "\n",
        "Positive Sentiment >> For real, Dodgers?"
       ]
      },
      {
       "output_type": "stream",
       "stream": "stdout",
       "text": [
        "\n",
        "Neutral >> RT @Dodgers: Giants score three in the fifth to end the #Dodgers' scoreless innings streak"
       ]
      },
      {
       "output_type": "stream",
       "stream": "stdout",
       "text": [
        "\n",
        "Neutral >> RT @Dodgers: Giants score three in the fifth to end the #Dodgers' scoreless innings streak\n",
        "Neutral >> RT @KNBR: Pagan drives in Duffy &amp; Crawford and the #SFGiants now have a 5-4 lead over "
       ]
      },
      {
       "output_type": "stream",
       "stream": "stdout",
       "text": [
        "\n",
        "Neutral >> RT @Dodgers: Giants score three in the fifth to end the #Dodgers' scoreless innings streak\n",
        "Neutral >> RT @GuillermoCelis: Sencillo de Angel Pag\u00e1n y voltereta en San Francisco: #Dodgers 4-5 #Gi"
       ]
      },
      {
       "output_type": "stream",
       "stream": "stdout",
       "text": [
        "\n",
        "Neutral >> Dodgers still have no bullpen"
       ]
      },
      {
       "output_type": "stream",
       "stream": "stdout",
       "text": [
        "\n",
        "Negative Sentiment >> Tonight we're covering @RCQuakes opening day game as @Dodgers Howie Kendrick to DH in reha"
       ]
      },
      {
       "output_type": "stream",
       "stream": "stdout",
       "text": [
        "\n",
        "Negative Sentiment >> @lauraglaudel @Dodgers @Awood45 fuck i saw it after!\ud83d\ude02\ud83d\ude29"
       ]
      },
      {
       "output_type": "stream",
       "stream": "stdout",
       "text": [
        "\n",
        "Negative Sentiment >> #dodgers down now 6-4 btmm 6"
       ]
      },
      {
       "output_type": "stream",
       "stream": "stdout",
       "text": [
        "\n",
        "Neutral >> RT @Dodgers: Giants score three in the fifth to end the #Dodgers' scoreless innings streak"
       ]
      },
      {
       "output_type": "stream",
       "stream": "stdout",
       "text": [
        "\n",
        "Neutral >> @Dodger_Therapy @uscarlos Agreed. Dodgers need to get a clue about this goofball.\n",
        "Neutral >> \ud83d\udc4d Los Angeles Dodgers vs. San Francisco Giants Here's a link: https://t.co/PYwjrGt19u #LAD\n",
        "Neutral >> RT @sfgwire: Angel Pagan knocks in his 86th go-ahead RBIs of his career with a 2-run 1B. G"
       ]
      },
      {
       "output_type": "stream",
       "stream": "stdout",
       "text": [
        "\n",
        "Neutral >> @elserracho the dodgers should either never lose or lose earlier in the season to remind e"
       ]
      },
      {
       "output_type": "stream",
       "stream": "stdout",
       "text": [
        "\n",
        "Negative Sentiment >> DODGERS WTF"
       ]
      },
      {
       "output_type": "stream",
       "stream": "stdout",
       "text": [
        "\n",
        "Negative Sentiment >> Seriously. Everyone take a deep breath.  https://t.co/DQc7BSvs7a"
       ]
      },
      {
       "output_type": "stream",
       "stream": "stdout",
       "text": [
        "\n",
        "Negative Sentiment >> Dodgers ? Wtf ?"
       ]
      },
      {
       "output_type": "stream",
       "stream": "stdout",
       "text": [
        "\n",
        "Neutral >> RT @Dodgers: .@ScottVanSlick's RBI double to left gives the #Dodgers a 4-0 lead! SVS just "
       ]
      },
      {
       "output_type": "stream",
       "stream": "stdout",
       "text": [
        "\n",
        "Neutral >> San Francisco Giants 6:4 LA Dodgers on https://t.co/xOqMjgNva7, MLB"
       ]
      },
      {
       "output_type": "stream",
       "stream": "stdout",
       "text": [
        "\n",
        "Positive Sentiment >> RT @TobaccoFreeKids: @SFGiants and @Dodgers play #tobaccofreebaseball at AT&amp;T Park ton"
       ]
      },
      {
       "output_type": "stream",
       "stream": "stdout",
       "text": [
        "\n",
        "Neutral >> Noooooo https://t.co/ob1nOD1SVT"
       ]
      },
      {
       "output_type": "stream",
       "stream": "stdout",
       "text": [
        "\n",
        "Positive Sentiment >> RT @ScottWarner18: Probably not the most effective way to be spending time at work, but th"
       ]
      },
      {
       "output_type": "stream",
       "stream": "stdout",
       "text": [
        "\n",
        "Neutral >> joc don't do this Dodgers don't do this"
       ]
      },
      {
       "output_type": "stream",
       "stream": "stdout",
       "text": [
        "\n",
        "Neutral >> RT @thetxferg: @rslocks MLB is on \ud83d\udd25!            Dodgers o8 \ud83d\udcb0"
       ]
      },
      {
       "output_type": "stream",
       "stream": "stdout",
       "text": [
        "\n",
        "Neutral >> Fucken dodgers...smh"
       ]
      },
      {
       "output_type": "stream",
       "stream": "stdout",
       "text": [
        "\n",
        "Neutral >> sounds like you w your giants and dodgers foo \ud83d\ude02 https://t.co/t5emF9dC3t\n",
        "Negative Sentiment >> Idk what's worse WarriorsRaiders fans or Dodgers Raiders fans.. Has to be the worse combin"
       ]
      },
      {
       "output_type": "stream",
       "stream": "stdout",
       "text": [
        "\n",
        "Neutral >> TONIGHTS RESULTS\n",
        "\n",
        "WOODYS WANDERERS 2-3 XAVI DODGERS\n",
        "MARCHINGTON 3-3 DREAM TEAM\n",
        "PAVERS 0-2 "
       ]
      },
      {
       "output_type": "stream",
       "stream": "stdout",
       "text": [
        "\n",
        "Negative Sentiment >> RT @sfgwire: That was Angel Pagan's 62nd career 2-RBI game. #SFGiants #Dodgers"
       ]
      },
      {
       "output_type": "stream",
       "stream": "stdout",
       "text": [
        "\n",
        "Positive Sentiment >> @NBAFrank23 dodgers still winning, watch"
       ]
      },
      {
       "output_type": "stream",
       "stream": "stdout",
       "text": [
        "\n",
        "Neutral >> Smh @Dodgers"
       ]
      },
      {
       "output_type": "stream",
       "stream": "stdout",
       "text": [
        "\n",
        "Neutral >> Dodgers seem lost #fact\n",
        "Neutral >> Watching the Dodgers fall apart with a 4-0 lead against the Giants. Choking! #GiantsAreCom"
       ]
      },
      {
       "output_type": "stream",
       "stream": "stdout",
       "text": [
        "\n",
        "Negative Sentiment >> This is pathetic @Dodgers"
       ]
      },
      {
       "output_type": "stream",
       "stream": "stdout",
       "text": [
        "\n",
        "Positive Sentiment >> RT @Dodgers: That's 31 straight scoreless innings for Dodger pitchers to start 2016. #Dodg"
       ]
      },
      {
       "output_type": "stream",
       "stream": "stdout",
       "text": [
        "\n",
        "Negative Sentiment >> Dodgers horse shit\n",
        "Negative Sentiment >> Fuck the Dodgers!"
       ]
      },
      {
       "output_type": "stream",
       "stream": "stdout",
       "text": [
        "\n",
        "Positive Sentiment >> RT @76: Best seats in the house. Only 5 more days till the @Dodgers #OpeningDay. #tbt http"
       ]
      },
      {
       "output_type": "stream",
       "stream": "stdout",
       "text": [
        "\n",
        "Positive Sentiment >> HAHAHAHA OMFG THE DODGERS ARE SUCH A MESS RN"
       ]
      },
      {
       "output_type": "stream",
       "stream": "stdout",
       "text": [
        "\n",
        "Neutral >> RT @Dodgers: Giants score three in the fifth to end the #Dodgers' scoreless innings streak"
       ]
      },
      {
       "output_type": "stream",
       "stream": "stdout",
       "text": [
        "\n",
        "Positive Sentiment >> RT @DrJillStein: Thanks to the 1989 US invasion &amp; Southern Command that keeps Panama s"
       ]
      },
      {
       "output_type": "stream",
       "stream": "stdout",
       "text": [
        "\n",
        "Positive Sentiment >> RT @si_mlb: Watch: Dodgers score on first overturned neighborhood play in MLB history http\n",
        "Neutral >> Dammit Dodgers"
       ]
      },
      {
       "output_type": "stream",
       "stream": "stdout",
       "text": [
        "\n",
        "Neutral >> Let's go dodgers \ud83d\udc99\ud83d\udc99\ud83d\udc99\ud83d\ude4c\ud83c\udffb"
       ]
      },
      {
       "output_type": "stream",
       "stream": "stdout",
       "text": [
        "\n",
        "Neutral >> WTH @Dodgers?!"
       ]
      },
      {
       "output_type": "stream",
       "stream": "stdout",
       "text": [
        "\n",
        "Negative Sentiment >> Dodgers are shit dude \ud83d\ude02\ud83d\ude02\ud83d\ude02"
       ]
      },
      {
       "output_type": "stream",
       "stream": "stdout",
       "text": [
        "\n",
        "Neutral >> So maybe it was just a Padres thing.  The Dodgers have now given up six runs."
       ]
      },
      {
       "output_type": "stream",
       "stream": "stdout",
       "text": [
        "\n",
        "Neutral >> 6-4!! dodgers are panik-ing rn #BeatLA"
       ]
      },
      {
       "output_type": "stream",
       "stream": "stdout",
       "text": [
        "\n",
        "Negative Sentiment >> But it works out, plus Dodgers give Giants an extra base"
       ]
      },
      {
       "output_type": "stream",
       "stream": "stdout",
       "text": [
        "\n",
        "Neutral >> RT @ArashMarkazi: I had to get on an airplane to watch the Dodgers on TV this season. http"
       ]
      },
      {
       "output_type": "stream",
       "stream": "stdout",
       "text": [
        "\n",
        "Neutral >> Dodgers just had a Panik attack #SFGiants"
       ]
      },
      {
       "output_type": "stream",
       "stream": "stdout",
       "text": [
        "\n",
        "Negative Sentiment >> Yikes, this Dodgers game is turning into a disaster."
       ]
      },
      {
       "output_type": "stream",
       "stream": "stdout",
       "text": [
        "\n",
        "Neutral >> Is this what happens when the Dodgers play the not Padres?"
       ]
      },
      {
       "output_type": "stream",
       "stream": "stdout",
       "text": [
        "\n",
        "Neutral >> RT\"@Dodgers: I'm PANIKing.\""
       ]
      },
      {
       "output_type": "stream",
       "stream": "stdout",
       "text": [
        "\n",
        "Neutral >> Dave Roberts back at AT&amp;T, Giants-Dodgers starting lineups https://t.co/vjcOaFrF2V #SF"
       ]
      },
      {
       "output_type": "stream",
       "stream": "stdout",
       "text": [
        "\n",
        "Neutral >> RT @zesty_giants: Dave Roberts back at AT&amp;T, Giants-Dodgers starting lineups https://t"
       ]
      },
      {
       "output_type": "stream",
       "stream": "stdout",
       "text": [
        "\n",
        "Neutral >> RT @zesty_giants: Dave Roberts back at AT&amp;T, Giants-Dodgers starting lineups https://t"
       ]
      },
      {
       "output_type": "stream",
       "stream": "stdout",
       "text": [
        "\n",
        "Negative Sentiment >> LOOK AT COLIN KAEPERNICK BLOWING THE GAME FOR THE DODGERS \ud83d\ude2d\ud83d\ude2d\ud83d\ude2d\ud83d\ude2d\ud83d\ude02\ud83d\ude02\ud83d\ude02\ud83d\ude29\ud83d\ude29\n",
        "Neutral >> This ain't the Padres anymore @Dodgers"
       ]
      },
      {
       "output_type": "stream",
       "stream": "stdout",
       "text": [
        "\n",
        "Positive Sentiment >> RT @Dodgers: The first #Dodgers home run of the season goes to....KENTA MAEDA. #WeLoveLA\n",
        "h\n",
        "Positive Sentiment >> I try so hard to defend the Dodgers but the Giants own them smh"
       ]
      },
      {
       "output_type": "stream",
       "stream": "stdout",
       "text": [
        "\n",
        "Neutral >> Take that Dodgers"
       ]
      },
      {
       "output_type": "stream",
       "stream": "stdout",
       "text": [
        "\n",
        "Neutral >> Dodgers are unraveling."
       ]
      },
      {
       "output_type": "stream",
       "stream": "stdout",
       "text": [
        "\n",
        "Positive Sentiment >> RT @si_mlb: Watch: Dodgers score on first overturned neighborhood play in MLB history http"
       ]
      },
      {
       "output_type": "stream",
       "stream": "stdout",
       "text": [
        "\n",
        "Positive Sentiment >> RT @ScottWarner18: Happy we're outta that inning. The blue guys are still up 4-3 folks. @D\n",
        "Neutral >> @Dodgers @Awood45 Wish I could watch but the #BlueMeanes at @GuggenheimPtnrs and @TWC @Spo"
       ]
      },
      {
       "output_type": "stream",
       "stream": "stdout",
       "text": [
        "\n",
        "Neutral >> Dodgers whhhhyyy"
       ]
      },
      {
       "output_type": "stream",
       "stream": "stdout",
       "text": [
        "\n",
        "Neutral >> Started watching the police chase and Dodgers were up 4-0... Now its 4-6.. fuuuuuu"
       ]
      },
      {
       "output_type": "stream",
       "stream": "stdout",
       "text": [
        "\n",
        "Positive Sentiment >> RT @pressprogress: The Canadian gov't has no clue how much money it's losing to tax dodger"
       ]
      },
      {
       "output_type": "stream",
       "stream": "stdout",
       "text": [
        "\n",
        "Negative Sentiment >> @dodgers Alex Wood is Trash &amp; Garcia is Trash. Underachievers. 4-0 to 4-3 to 6-4 disgu"
       ]
      },
      {
       "output_type": "stream",
       "stream": "stdout",
       "text": [
        "\n",
        "Neutral >> Well back to slandenring Friedman and Zaidi again...stupid fucks. #Dodgers"
       ]
      },
      {
       "output_type": "stream",
       "stream": "stdout",
       "text": [
        "\n",
        "Negative Sentiment >> I see Dave Roberts is as bad as Mattingly. #Dodgers"
       ]
      },
      {
       "output_type": "stream",
       "stream": "stdout",
       "text": [
        "\n",
        "Positive Sentiment >> Now this is the Dodgers we know and don't love #BeatLA"
       ]
      },
      {
       "output_type": "stream",
       "stream": "stdout",
       "text": [
        "\n",
        "Neutral >> Focus @Dodgers"
       ]
      },
      {
       "output_type": "stream",
       "stream": "stdout",
       "text": [
        "\n",
        "Negative Sentiment >> @DodgersNation go Dodgers Blue here from dialysis cheering I'm hearing the game from my ce"
       ]
      },
      {
       "output_type": "stream",
       "stream": "stdout",
       "text": [
        "\n",
        "Positive Sentiment >> this the Dodgers we know and love... not that team SD trash ass made them seem like"
       ]
      },
      {
       "output_type": "stream",
       "stream": "stdout",
       "text": [
        "\n",
        "Neutral >> Dodgers implosion continues!"
       ]
      },
      {
       "output_type": "stream",
       "stream": "stdout",
       "text": [
        "\n",
        "Neutral >> Come on dodgers!"
       ]
      },
      {
       "output_type": "stream",
       "stream": "stdout",
       "text": [
        "\n",
        "Neutral >> Nothing going the Dodgers way rn"
       ]
      },
      {
       "output_type": "stream",
       "stream": "stdout",
       "text": [
        "\n",
        "Neutral >> Blanking Dodgers\n",
        "Negative Sentiment >> Ah yes. That #Dodgers bullpen. Totally improved. Mmhmm. \n",
        "\n",
        "Fucking hell"
       ]
      },
      {
       "output_type": "stream",
       "stream": "stdout",
       "text": [
        "\n",
        "Neutral >> Cmon Dodgers\n",
        "Positive Sentiment >> LOL DODGERS #SFGiants"
       ]
      },
      {
       "output_type": "stream",
       "stream": "stdout",
       "text": [
        "\n",
        "Neutral >> Get these dodgers outta here maaaaaang. #Gigantes"
       ]
      },
      {
       "output_type": "stream",
       "stream": "stdout",
       "text": [
        "\n",
        "Positive Sentiment >> RT @virgoinservice: Now this is the Dodgers we know and don't love #BeatLA\n",
        "Positive Sentiment >> lmao Dodgers got me so messed up rn\n",
        "Neutral >> RT @AyakoOikawa: \u65b0\u4eba\u3078\u306e\u300c\u7121\u8a00\u306e\u6d17\u793c\u300d\u3092\u3057\u3088\u3046\u3068\u3057\u305f\u3051\u3069\u3001\u524d\u7530\u306e\u30cb\u30b3\u30cb\u30b3\u9854\u306b\u3046\u308c\u3057\u3055\u3092\u96a0\u305b\u306a\u3044\u30c1\u30fc\u30e0\u30e1\u30a4\u30c8\u3002 https://t.co/HYu4WmVwHj"
       ]
      },
      {
       "output_type": "stream",
       "stream": "stdout",
       "text": [
        "\n",
        "Neutral >> RT @annkillion: So maybe it was just a Padres thing.  The Dodgers have now given up six ru"
       ]
      },
      {
       "output_type": "stream",
       "stream": "stdout",
       "text": [
        "\n",
        "Neutral >> RT @Danielle_9_: YESSS 7-0\ud83d\ude4c\ud83c\udffc\ud83d\udc99 Breaking records of 24 shutout innings \ud83d\ude1b\ud83d\udc99 #WeLoveLA #LetsGoD"
       ]
      },
      {
       "output_type": "stream",
       "stream": "stdout",
       "text": [
        "\n",
        "Positive Sentiment >> RT @Dodgers: Austin Barnes is ruled safe at second which allows a run to score. #Dodgers n"
       ]
      },
      {
       "output_type": "stream",
       "stream": "stdout",
       "text": [
        "\n",
        "Neutral >> Son of... \n",
        "\n",
        "Come on #Dodgers.\n",
        "Negative Sentiment >> SHAKING MY FUCKING HEAD DODGERS!!!\n",
        "Neutral >> RT @Dodgers: Giants score three in the fifth to end the #Dodgers' scoreless innings streak\n",
        "Neutral >> Let's go big blue \u2014 watching Los Angeles Dodgers vs San Francisco Giants\n",
        "Neutral >> #Dodgers #ThinkBlue Los Angeles Dodgers San Francisco Giants 2 0 https://t.co/JKoEXZss6a #"
       ]
      },
      {
       "output_type": "stream",
       "stream": "stdout",
       "text": [
        "\n",
        "Neutral >> RT @NoBuffZone: About to Move Dodgers/Masters feed in a moment, so we can work on getting \n",
        "Positive Sentiment >> lol get fucked @Dodgers"
       ]
      },
      {
       "output_type": "stream",
       "stream": "stdout",
       "text": [
        "\n",
        "Negative Sentiment >> Fuck Damn @Dodgers can't lose this game!"
       ]
      },
      {
       "output_type": "stream",
       "stream": "stdout",
       "text": [
        "\n",
        "Neutral >> RT @Dodgers: .@ScottVanSlick's RBI double to left gives the #Dodgers a 4-0 lead! SVS just "
       ]
      },
      {
       "output_type": "stream",
       "stream": "stdout",
       "text": [
        "\n",
        "Neutral >> Ahhah yes the dodgers are losing \ud83d\ude02\ud83d\ude02"
       ]
      },
      {
       "output_type": "stream",
       "stream": "stdout",
       "text": [
        "\n",
        "Negative Sentiment >> Patrick and Jj watch a Giants/Dodgers game https://t.co/1K0kWspiqu\n",
        "Negative Sentiment >> Should have taken the over on this game. dodgers bats hot. giants normally play well again\n",
        "Negative Sentiment >> what the FUCK dodgers aren't allowed to lose all of a sudden, especially to the hated Gian"
       ]
      },
      {
       "output_type": "stream",
       "stream": "stdout",
       "text": [
        "\n",
        "Negative Sentiment >> That was poor defense by the Dodgers, complete meltdown"
       ]
      },
      {
       "output_type": "stream",
       "stream": "stdout",
       "text": [
        "\n",
        "Neutral >> These dodgers are killing me"
       ]
      },
      {
       "output_type": "stream",
       "stream": "stdout",
       "text": [
        "\n",
        "Neutral >> Panik!! Dodgers are sinkin in it now, woohoo!!! GO GIANTS!!! #BeatLA #SFGiants"
       ]
      },
      {
       "output_type": "stream",
       "stream": "stdout",
       "text": [
        "\n",
        "Negative Sentiment >> @billplunkettocr hahahahahaha! Dodgers suck so bad! They beat a shut team and people get h"
       ]
      },
      {
       "output_type": "stream",
       "stream": "stdout",
       "text": [
        "\n",
        "Neutral >> Smh Dodgers"
       ]
      },
      {
       "output_type": "stream",
       "stream": "stdout",
       "text": [
        "\n",
        "Positive Sentiment >> Between Yankees-Astros and Giants-Dodgers, there's a lot of good late afternoon, early eve"
       ]
      },
      {
       "output_type": "stream",
       "stream": "stdout",
       "text": [
        "\n",
        "Negative Sentiment >> Wtf is wrong with Dodgers defense!?"
       ]
      },
      {
       "output_type": "stream",
       "stream": "stdout",
       "text": [
        "\n",
        "Negative Sentiment >> Oh the Dodgers melted down\n",
        "Negative Sentiment >> Eyyyyyyy fuck the Dodgers !!!"
       ]
      },
      {
       "output_type": "stream",
       "stream": "stdout",
       "text": [
        "\n",
        "Neutral >> Joe Panik, doing things. A pair of RBI hits and the Giants now lead the Dodgers 6-4."
       ]
      },
      {
       "output_type": "stream",
       "stream": "stdout",
       "text": [
        "\n",
        "Neutral >> Hey @Dodgers you ain't in San Diego anymore!"
       ]
      },
      {
       "output_type": "stream",
       "stream": "stdout",
       "text": [
        "\n",
        "Neutral >> @Dodgers fire mattingly"
       ]
      },
      {
       "output_type": "stream",
       "stream": "stdout",
       "text": [
        "\n",
        "Neutral >> RT @annkillion: So maybe it was just a Padres thing.  The Dodgers have now given up six ru"
       ]
      },
      {
       "output_type": "stream",
       "stream": "stdout",
       "text": [
        "\n",
        "Positive Sentiment >> RT @Dodgers: .@kikehndez with an RBI single to right! #Dodgers take a 1-0 lead. #LetsGoDod"
       ]
      },
      {
       "output_type": "stream",
       "stream": "stdout",
       "text": [
        "\n",
        "Neutral >> RT @annkillion: So maybe it was just a Padres thing.  The Dodgers have now given up six ru"
       ]
      },
      {
       "output_type": "stream",
       "stream": "stdout",
       "text": [
        "\n",
        "Neutral >> #giants 5 #dodgers 4 bottom of the 6th"
       ]
      },
      {
       "output_type": "stream",
       "stream": "stdout",
       "text": [
        "\n",
        "Neutral >> Dodgers, this isn't acceptable...\n",
        "Negative Sentiment >> Fuck the Dodgers \ud83d\udc4e\ud83c\udffcGiants mane!!"
       ]
      },
      {
       "output_type": "stream",
       "stream": "stdout",
       "text": [
        "\n",
        "Neutral >> ......... @Dodgers https://t.co/6okbkte30l"
       ]
      },
      {
       "output_type": "stream",
       "stream": "stdout",
       "text": [
        "\n",
        "Negative Sentiment >> Dammit, #Dodgers! The wheels are coming off. Get it together, please. I hate living in the\n",
        "Neutral >> #SFGiants 6, #Dodgers 4 with 2 outs in the bottom of the 6th inning.\n",
        "Neutral >> RT @EEstaris: WTH @Dodgers?!"
       ]
      },
      {
       "output_type": "stream",
       "stream": "stdout",
       "text": [
        "\n",
        "Neutral >> Fucken Dodgers"
       ]
      },
      {
       "output_type": "stream",
       "stream": "stdout",
       "text": [
        "\n",
        "Negative Sentiment >> I do not like this game.  #Dodgers"
       ]
      },
      {
       "output_type": "stream",
       "stream": "stdout",
       "text": [
        "\n",
        "Negative Sentiment >> @Dodgers fuck"
       ]
      },
      {
       "output_type": "stream",
       "stream": "stdout",
       "text": [
        "\n",
        "Neutral >> RIP Dodgers."
       ]
      },
      {
       "output_type": "stream",
       "stream": "stdout",
       "text": [
        "\n",
        "Negative Sentiment >> This giants vs dodgers game def a playoff match up to look out for later on in the year."
       ]
      },
      {
       "output_type": "stream",
       "stream": "stdout",
       "text": [
        "\n",
        "Positive Sentiment >> RT @DodgerInsider: Dodgers trail for the first time this season."
       ]
      },
      {
       "output_type": "stream",
       "stream": "stdout",
       "text": [
        "\n",
        "Positive Sentiment >> Dodgers really ain't shit this year lol too early to be talking shit tho \ud83d\ude02"
       ]
      },
      {
       "output_type": "stream",
       "stream": "stdout",
       "text": [
        "\n",
        "Neutral >> God how I missed the Dodgers defense."
       ]
      },
      {
       "output_type": "stream",
       "stream": "stdout",
       "text": [
        "\n",
        "Negative Sentiment >> I hate Joc Pederson how is his sorry ass a starter? @Dodgers @MagicJohnson"
       ]
      },
      {
       "output_type": "stream",
       "stream": "stdout",
       "text": [
        "\n",
        "Positive Sentiment >> sounds like my kind of gang https://t.co/xyj7JAq4hM"
       ]
      },
      {
       "output_type": "stream",
       "stream": "stdout",
       "text": [
        "\n",
        "Positive Sentiment >> RT @si_mlb: Watch: Dodgers score on first overturned neighborhood play in MLB history http"
       ]
      },
      {
       "output_type": "stream",
       "stream": "stdout",
       "text": [
        "\n",
        "Neutral >> die https://t.co/gn1QlbjmdI"
       ]
      },
      {
       "output_type": "stream",
       "stream": "stdout",
       "text": [
        "\n",
        "Negative Sentiment >> @billplunkettocr hahahahahaha! Fuck the Dodgers and TWC\n",
        "Neutral >> RT @annkillion: So maybe it was just a Padres thing.  The Dodgers have now given up six ru"
       ]
      },
      {
       "output_type": "stream",
       "stream": "stdout",
       "text": [
        "\n",
        "Neutral >> \ud83d\ude21\ud83d\ude21\ud83d\ude21\ud83d\ude21\ud83d\ude21 https://t.co/LEsH4OFQHB"
       ]
      },
      {
       "output_type": "stream",
       "stream": "stdout",
       "text": [
        "\n",
        "Positive Sentiment >> And then the Dodgers faced a real team"
       ]
      },
      {
       "output_type": "stream",
       "stream": "stdout",
       "text": [
        "\n",
        "Neutral >> RT @C98G97: @Dodgers : 27 IP, 0 ER. Hoy 5 2/3 IP, 5 ER #SFGOpeningDay\n",
        "Positive Sentiment >> RT @76: Best seats in the house. Only 5 more days till the @Dodgers #OpeningDay. #tbt http"
       ]
      },
      {
       "output_type": "stream",
       "stream": "stdout",
       "text": [
        "\n",
        "Neutral >> Time to Panik Dodgers https://t.co/EU5JkTfFTz\n",
        "Negative Sentiment >> WTF DODGERS"
       ]
      },
      {
       "output_type": "stream",
       "stream": "stdout",
       "text": [
        "\n",
        "Neutral >> RT @peoplesNHSni: It can't be a surprise to anyone that corporate tax dodgers seem to be b"
       ]
      },
      {
       "output_type": "stream",
       "stream": "stdout",
       "text": [
        "\n",
        "Neutral >> @alyssaspaghetti @Dodgers that awk moment when I rt'd it"
       ]
      },
      {
       "output_type": "stream",
       "stream": "stdout",
       "text": [
        "\n",
        "Neutral >> Come on dodgers pull through!!"
       ]
      },
      {
       "output_type": "stream",
       "stream": "stdout",
       "text": [
        "\n",
        "Negative Sentiment >> Fuck you @SFGiants ifhy  https://t.co/TlAB8XM0LE\n",
        "Negative Sentiment >> It took some time, but the old @Dodgers have returned. Shaky starter #AlexWoods and bad re"
       ]
      },
      {
       "output_type": "stream",
       "stream": "stdout",
       "text": [
        "\n",
        "Negative Sentiment >> Nope my attitude is not ready for this BS Dodgers \ud83d\ude12\ud83d\ude11"
       ]
      },
      {
       "output_type": "stream",
       "stream": "stdout",
       "text": [
        "\n",
        "Negative Sentiment >> @Dodgers - LA Dodgers are such a Shit team\n",
        "Negative Sentiment >> What the fuck Dodgers\n",
        "Neutral >> Giving me anxiety. #Dodgers"
       ]
      },
      {
       "output_type": "stream",
       "stream": "stdout",
       "text": [
        "\n",
        "Neutral >> Cmoooon dodgers !!!! Wyd"
       ]
      },
      {
       "output_type": "stream",
       "stream": "stdout",
       "text": [
        "\n",
        "Positive Sentiment >> \ud83d\ude29\ud83d\ude29\ud83d\ude29 RT @Dodgers: Giants have scored three more times here in the sixth to take a 6-4 lead."
       ]
      },
      {
       "output_type": "stream",
       "stream": "stdout",
       "text": [
        "\n",
        "Negative Sentiment >> Bro wtf?! \ud83d\ude21. Get your shit together Dodgers!"
       ]
      },
      {
       "output_type": "stream",
       "stream": "stdout",
       "text": [
        "\n",
        "Positive Sentiment >> RT @pressprogress: The Canadian gov't has no clue how much money it's losing to tax dodger"
       ]
      },
      {
       "output_type": "stream",
       "stream": "stdout",
       "text": [
        "\n",
        "Neutral >> @DIRECTV figure it out! Go dodgers! #Dodgers #directv #blackout #timewarner @twc @SportsNe"
       ]
      },
      {
       "output_type": "stream",
       "stream": "stdout",
       "text": [
        "\n",
        "Negative Sentiment >> This Dodgers/Giants game is fun"
       ]
      },
      {
       "output_type": "stream",
       "stream": "stdout",
       "text": [
        "\n",
        "Negative Sentiment >> Dodgers now down 6-4. Pitching meltdown"
       ]
      },
      {
       "output_type": "stream",
       "stream": "stdout",
       "text": [
        "\n",
        "Neutral >> RT @sosgsosg: Dodgers' scoreful inning streak at 2."
       ]
      },
      {
       "output_type": "stream",
       "stream": "stdout",
       "text": [
        "\n",
        "Neutral >> When I left my house, the Dodgers were winning. Now I am finally at school and that was su"
       ]
      },
      {
       "output_type": "stream",
       "stream": "stdout",
       "text": [
        "\n",
        "Negative Sentiment >> @JoePanik hits in Pagan and ends up at second base. @SFGiants now lead 6-4 against the@Dod"
       ]
      },
      {
       "output_type": "stream",
       "stream": "stdout",
       "text": [
        "\n",
        "Negative Sentiment >> Dodgers having a bad inning. #BeatLA \u201c@SFGiants: P\ud83d\udd25NIK doubles. 6-4 #SFGiants\u201d"
       ]
      },
      {
       "output_type": "stream",
       "stream": "stdout",
       "text": [
        "\n",
        "Neutral >> Kings Raiders fans  https://t.co/WeXZD1FMf2\n",
        "Negative Sentiment >> 6-4 come on Dodgers WTF!!! \ud83d\ude1e"
       ]
      },
      {
       "output_type": "stream",
       "stream": "stdout",
       "text": [
        "\n",
        "Neutral >> RT @BBTN: After throwing 31 shutout innings, the Dodgers give up their 1st runs of the sea"
       ]
      },
      {
       "output_type": "stream",
       "stream": "stdout",
       "text": [
        "\n",
        "Positive Sentiment >> Love this GIANTS vs dodgers action"
       ]
      },
      {
       "output_type": "stream",
       "stream": "stdout",
       "text": [
        "\n",
        "Neutral >> @Dodgers \ud83d\ude00\ud83d\ude00\ud83d\ude00\ud83d\udd2b"
       ]
      },
      {
       "output_type": "stream",
       "stream": "stdout",
       "text": [
        "\n",
        "Neutral >> @Dodgers again our weakness is being shown again this season\n",
        "Positive Sentiment >> RT @Independent: A gang has been jailed for stealing \u00a320,000 worth of Jammie Dodgers https"
       ]
      },
      {
       "output_type": "stream",
       "stream": "stdout",
       "text": [
        "\n",
        "Neutral >> RT @Dridgeuno: Smh @Dodgers"
       ]
      },
      {
       "output_type": "stream",
       "stream": "stdout",
       "text": [
        "\n",
        "Neutral >> RT @KNBR: Pagan drives in Duffy &amp; Crawford and the #SFGiants now have a 5-4 lead over "
       ]
      },
      {
       "output_type": "stream",
       "stream": "stdout",
       "text": [
        "\n",
        "Neutral >> \ud83d\ude31 https://t.co/Kbc5WTfWwQ"
       ]
      },
      {
       "output_type": "stream",
       "stream": "stdout",
       "text": [
        "\n",
        "Neutral >> DODGERS GET IT TOGETHER"
       ]
      },
      {
       "output_type": "stream",
       "stream": "stdout",
       "text": [
        "\n",
        "Positive Sentiment >> Really, Dodgers?"
       ]
      },
      {
       "output_type": "stream",
       "stream": "stdout",
       "text": [
        "\n",
        "Neutral >> \ud83d\ude12\ud83d\ude12 https://t.co/q7rssP163g"
       ]
      },
      {
       "output_type": "stream",
       "stream": "stdout",
       "text": [
        "\n",
        "Neutral >> Hmm, looks like the Dodgers are Paniking. \ud83d\ude00\n",
        "Negative Sentiment >> THIS IS NOT OKAy https://t.co/fuh8lb9SE8"
       ]
      },
      {
       "output_type": "stream",
       "stream": "stdout",
       "text": [
        "\n",
        "Negative Sentiment >> @Dodgers fuck the vagiants"
       ]
      },
      {
       "output_type": "stream",
       "stream": "stdout",
       "text": [
        "\n",
        "Neutral >> RT @LB2416: @Dodgers https://t.co/kj4Bbr7ngn"
       ]
      },
      {
       "output_type": "stream",
       "stream": "stdout",
       "text": [
        "\n",
        "Positive Sentiment >> RT @si_mlb: Watch: Dodgers score on first overturned neighborhood play in MLB history http"
       ]
      },
      {
       "output_type": "stream",
       "stream": "stdout",
       "text": [
        "\n",
        "Neutral >> I miss the padres #dodgers"
       ]
      },
      {
       "output_type": "stream",
       "stream": "stdout",
       "text": [
        "\n",
        "Negative Sentiment >> RT @AustinRayLarson: Watching the Dodgers game rn like.. https://t.co/vuSWpNt0Rm"
       ]
      },
      {
       "output_type": "stream",
       "stream": "stdout",
       "text": [
        "\n",
        "Neutral >> RT @GuillermoCelis: Sencillo de Angel Pag\u00e1n y voltereta en San Francisco: #Dodgers 4-5 #Gi"
       ]
      },
      {
       "output_type": "stream",
       "stream": "stdout",
       "text": [
        "\n",
        "Neutral >> \ud83d\ude02\ud83d\ude02\ud83d\ude02\ud83d\ude02\ud83d\ude02\ud83d\ude02 https://t.co/UWCF9a2KPB"
       ]
      },
      {
       "output_type": "stream",
       "stream": "stdout",
       "text": [
        "\n",
        "Neutral >> RT @NotJocPederson: @Dodgers fire mattingly"
       ]
      },
      {
       "output_type": "stream",
       "stream": "stdout",
       "text": [
        "\n",
        "Positive Sentiment >> @moonwalkmcfly Giants Baseball: Still better than Dodgers Baseball."
       ]
      },
      {
       "output_type": "stream",
       "stream": "stdout",
       "text": [
        "\n",
        "Neutral >> RT @NotJocPederson: @Dodgers fire mattingly"
       ]
      },
      {
       "output_type": "stream",
       "stream": "stdout",
       "text": [
        "\n",
        "Neutral >> See Dodgers, this is what happens when you're not playing a Single-A offense..."
       ]
      },
      {
       "output_type": "stream",
       "stream": "stdout",
       "text": [
        "\n",
        "Neutral >> @Dodgers put me in lmfaoooooooo"
       ]
      },
      {
       "output_type": "stream",
       "stream": "stdout",
       "text": [
        "\n",
        "Positive Sentiment >> RT @AlexPavlovic: Brandon Crawford becomes the first player to score against the Dodgers t"
       ]
      },
      {
       "output_type": "stream",
       "stream": "stdout",
       "text": [
        "\n",
        "Positive Sentiment >> Bout to catch our first L of 2016 @Dodgers"
       ]
      },
      {
       "output_type": "stream",
       "stream": "stdout",
       "text": [
        "\n",
        "Positive Sentiment >> And the dodgers blow a lead for the first time this season \ud83d\ude12"
       ]
      },
      {
       "output_type": "stream",
       "stream": "stdout",
       "text": [
        "\n",
        "Neutral >> @Dodgers \u2639\ufe0f"
       ]
      },
      {
       "output_type": "stream",
       "stream": "stdout",
       "text": [
        "\n",
        "Neutral >> Well back to slandering Friedman and Zaidi again...stupid fucks. #Dodgers\n",
        "Positive Sentiment >> @Dodgers it's yimi Garcia who's really surprised?"
       ]
      },
      {
       "output_type": "stream",
       "stream": "stdout",
       "text": [
        "\n",
        "Positive Sentiment >> RT @si_mlb: Watch: Dodgers score on first overturned neighborhood play in MLB history http\n",
        "Negative Sentiment >> Fucking Dodgers man"
       ]
      },
      {
       "output_type": "stream",
       "stream": "stdout",
       "text": [
        "\n",
        "Neutral >> @Dodgers wooooooo"
       ]
      },
      {
       "output_type": "stream",
       "stream": "stdout",
       "text": [
        "\n",
        "Neutral >> \ud83d\ude44\ud83d\ude44\ud83d\ude44 https://t.co/vwFDFWj7yT\n",
        "Negative Sentiment >> Wtf dodgers\ud83d\ude44"
       ]
      },
      {
       "output_type": "stream",
       "stream": "stdout",
       "text": [
        "\n",
        "Neutral >> Ahh pero contra los Padres.. https://t.co/IKysDCY6rs"
       ]
      },
      {
       "output_type": "stream",
       "stream": "stdout",
       "text": [
        "\n",
        "Positive Sentiment >> \u2714 Free Live stream in HD \u279c https://t.co/AHeWjpuaaH"
       ]
      },
      {
       "output_type": "stream",
       "stream": "stdout",
       "text": [
        "\n",
        "Neutral >> Spot you 4 Dodgers, no problem, we get 6 back, #NotThePadres #NotInOurHouse #BeatLA"
       ]
      },
      {
       "output_type": "stream",
       "stream": "stdout",
       "text": [
        "\n",
        "Neutral >> SHDHICJSKWOOAMDNFJJXOSKQMEUFIJSNWJWI$\u00a3}\u00a5\u00a3{!|*\\\u00a5]'fbhshz when https://t.co/oV9iVCRLgl"
       ]
      },
      {
       "output_type": "stream",
       "stream": "stdout",
       "text": [
        "\n",
        "Negative Sentiment >> The Dodgers after being up all game #FuckTheDodgers https://t.co/LMSmieP5Kw"
       ]
      },
      {
       "output_type": "stream",
       "stream": "stdout",
       "text": [
        "\n",
        "Positive Sentiment >> Love seeing the Dodgers choke a 4-0 lead. #FuckTheDodgers"
       ]
      },
      {
       "output_type": "stream",
       "stream": "stdout",
       "text": [
        "\n",
        "Neutral >> Lawd@dodgers!\ud83d\ude29"
       ]
      },
      {
       "output_type": "stream",
       "stream": "stdout",
       "text": [
        "\n",
        "Positive Sentiment >> RT @DodgerInsider: Dodgers saving pinch-hitter Kenta Maeda for a higher-leverage situation"
       ]
      },
      {
       "output_type": "stream",
       "stream": "stdout",
       "text": [
        "\n",
        "Neutral >> fuc https://t.co/jC5Bris2Xg\n",
        "Neutral >> How? @Dodgers\n",
        "Positive Sentiment >> So much for the Dodgers pitching, i wish the Padres would have swing at all the balls the "
       ]
      },
      {
       "output_type": "stream",
       "stream": "stdout",
       "text": [
        "\n",
        "Negative Sentiment >> what the heck is going on with the dodgers game?! x\n",
        "#beatsf"
       ]
      },
      {
       "output_type": "stream",
       "stream": "stdout",
       "text": [
        "\n",
        "Positive Sentiment >> there's the @Dodgers we all love"
       ]
      },
      {
       "output_type": "stream",
       "stream": "stdout",
       "text": [
        "\n",
        "Negative Sentiment >> Lets go!!! Fuck these trash ass dodgers #BeatLA"
       ]
      },
      {
       "output_type": "stream",
       "stream": "stdout",
       "text": [
        "\n",
        "Neutral >> .. https://t.co/zHBVANqcIo"
       ]
      },
      {
       "output_type": "stream",
       "stream": "stdout",
       "text": [
        "\n",
        "Neutral >> @NotJocPederson @Dodgers no# fire Roberts."
       ]
      },
      {
       "output_type": "stream",
       "stream": "stdout",
       "text": [
        "\n",
        "Positive Sentiment >> Alright Dodgers this isn't funny anymore.. stop the Giants \ud83d\ude05"
       ]
      },
      {
       "output_type": "stream",
       "stream": "stdout",
       "text": [
        "\n",
        "Neutral >> #SFGiants doing it to the Dodgers Negan style  #BeatLA https://t.co/PoeOKc2cNF\n",
        "Negative Sentiment >> Fucking Dodgers"
       ]
      },
      {
       "output_type": "stream",
       "stream": "stdout",
       "text": [
        "\n",
        "Neutral >> Panik drives in Pagan. Giants now lead 6-4.\n",
        "#SFGiants #Dodgers #SFGOpeningDay"
       ]
      },
      {
       "output_type": "stream",
       "stream": "stdout",
       "text": [
        "\n",
        "Neutral >> When it rains it pours, I guess. Let's get the lead back, @Dodgers !"
       ]
      },
      {
       "output_type": "stream",
       "stream": "stdout",
       "text": [
        "\n",
        "Neutral >> RT @nw_nicholas: Tax dodgers Cameron &amp; Sajid appointed Fairhead, director of tax  dodg"
       ]
      },
      {
       "output_type": "stream",
       "stream": "stdout",
       "text": [
        "\n",
        "Neutral >> RT @OrelHershiser: Let's go Dodgers!!! https://t.co/vcli0wWQSS"
       ]
      },
      {
       "output_type": "stream",
       "stream": "stdout",
       "text": [
        "\n",
        "Neutral >> Fuckkinnnn Ayyy dodgers \ud83d\ude10\ud83d\udd95\ud83c\udffd"
       ]
      },
      {
       "output_type": "stream",
       "stream": "stdout",
       "text": [
        "\n",
        "Negative Sentiment >> Wtf... The Giants cheat and I hope they all get mono  https://t.co/YcE5GZAfuF"
       ]
      },
      {
       "output_type": "stream",
       "stream": "stdout",
       "text": [
        "\n",
        "Negative Sentiment >> RT @RayWoodson680: But it works out, plus Dodgers give Giants an extra base"
       ]
      },
      {
       "output_type": "stream",
       "stream": "stdout",
       "text": [
        "\n",
        "Positive Sentiment >> RT @Dodgers: That's 31 straight scoreless innings for Dodger pitchers to start 2016. #Dodg"
       ]
      },
      {
       "output_type": "stream",
       "stream": "stdout",
       "text": [
        "\n",
        "Negative Sentiment >> Dodgers out here tricking the game away while the police chase was happening smh"
       ]
      },
      {
       "output_type": "stream",
       "stream": "stdout",
       "text": [
        "\n",
        "Neutral >> 1956 Topps #260 Pee Wee Reese VG/EX Dodgers    https://t.co/TfcKAwzeD0 https://t.co/YGLS3c"
       ]
      },
      {
       "output_type": "stream",
       "stream": "stdout",
       "text": [
        "\n",
        "Negative Sentiment >> No more please! #BeatSF https://t.co/8LuJW6XWrl"
       ]
      },
      {
       "output_type": "stream",
       "stream": "stdout",
       "text": [
        "\n",
        "Neutral >> 1956 Topps #260 Pee Wee Reese VG/EX Dodgers    https://t.co/TfcKAwzeD0 https://t.co/YGLS3c"
       ]
      },
      {
       "output_type": "stream",
       "stream": "stdout",
       "text": [
        "\n",
        "Neutral >> \ud83d\udeae https://t.co/EKTlFLWmdQ"
       ]
      },
      {
       "output_type": "stream",
       "stream": "stdout",
       "text": [
        "\n",
        "Positive Sentiment >> Dear Dodgers,\n",
        "Hahahaha HAHA bwahaha HAHAHAHA HAHA hahaha!!!!! Love, this Giants fan!"
       ]
      },
      {
       "output_type": "stream",
       "stream": "stdout",
       "text": [
        "\n",
        "Positive Sentiment >> Dodgers RHP Louis Coleman heads to the bullpen to warm up. LA has given up six runs so far"
       ]
      },
      {
       "output_type": "stream",
       "stream": "stdout",
       "text": [
        "\n",
        "Positive Sentiment >> Honestly the best rival games to watch are the Dodgers and Giants. #LAvsSF"
       ]
      },
      {
       "output_type": "stream",
       "stream": "stdout",
       "text": [
        "\n",
        "Neutral >> 1956 Topps #260 Pee Wee Reese VG/EX Dodgers    https://t.co/TfcKAwzeD0 https://t.co/YGLS3c\n",
        "Positive Sentiment >> FUCK RT @Dodgers: Giants have scored three more times here in the sixth to take a 6-4 lead"
       ]
      },
      {
       "output_type": "stream",
       "stream": "stdout",
       "text": [
        "\n",
        "Positive Sentiment >> AT&amp;T North &gt; AT&amp;T South LOL https://t.co/2JwybXs9pM"
       ]
      },
      {
       "output_type": "stream",
       "stream": "stdout",
       "text": [
        "\n",
        "Neutral >> RT @ESPNStatsInfo: Dodgers now with 30 consecutive scoreless innings pitched. That's 2 inn\n",
        "Neutral >> @Dodgers DFA everyone"
       ]
      },
      {
       "output_type": "stream",
       "stream": "stdout",
       "text": [
        "\n",
        "Positive Sentiment >> Watch: Dodgers score on first overturned neighborhood play https://t.co/SQFt3csdxz @SInow"
       ]
      },
      {
       "output_type": "stream",
       "stream": "stdout",
       "text": [
        "\n",
        "Neutral >> @Dodgers wood should have been taken out sooner!"
       ]
      },
      {
       "output_type": "stream",
       "stream": "stdout",
       "text": [
        "\n",
        "Neutral >> [Todays Knuckleball] Dodgers squander opportunity to make history after 31.2 scoreless inn"
       ]
      },
      {
       "output_type": "stream",
       "stream": "stdout",
       "text": [
        "\n",
        "Neutral >> #Dodgers have given away the lead in last two innings as #SFGiants post another 3 spot on "
       ]
      },
      {
       "output_type": "stream",
       "stream": "stdout",
       "text": [
        "\n",
        "Neutral >> Fucken dodgers man .... Always get intimidated by the Giants \ud83d\ude12\ud83d\ude12\n",
        "Negative Sentiment >> Fucking Dodgers....."
       ]
      },
      {
       "output_type": "stream",
       "stream": "stdout",
       "text": [
        "\n",
        "Neutral >> LA falls 1 short of scoreless-innings record https://t.co/gbWVArRIH5"
       ]
      },
      {
       "output_type": "stream",
       "stream": "stdout",
       "text": [
        "\n",
        "Neutral >> @QueenAriana23e @Dodgers  we coming up"
       ]
      },
      {
       "output_type": "stream",
       "stream": "stdout",
       "text": [
        "\n",
        "Neutral >> RT @t_jh2009: Hmm, looks like the Dodgers are Paniking. \ud83d\ude00\n",
        "Negative Sentiment >> [NBC Sports: Hardball Talk] Dodger pitching finally allowed a run, falling just shy of a r"
       ]
      },
      {
       "output_type": "stream",
       "stream": "stdout",
       "text": [
        "\n",
        "Neutral >> RT @BaseballBros: Video: Dodgers pitcher Kenta Maeda hit a home run in his MLB debut. Watc\n",
        "Neutral >> #giants 6 #dodgers 4 bottom of the 6th"
       ]
      },
      {
       "output_type": "stream",
       "stream": "stdout",
       "text": [
        "\n",
        "Positive Sentiment >> [Sports Illustrated] Watch: Dodgers score on first overturned neighborhood play | https://\n",
        "Neutral >> We ain't the Padres bihhhhhh @Dodgers"
       ]
      },
      {
       "output_type": "stream",
       "stream": "stdout",
       "text": [
        "\n",
        "Neutral >> [Todays Knuckleball] Dodgers squander opportunity to make history after 31.2 scoreless inn"
       ]
      },
      {
       "output_type": "stream",
       "stream": "stdout",
       "text": [
        "\n",
        "Positive Sentiment >> @Dodgers bullpen and back end of the rotation looks like normal"
       ]
      },
      {
       "output_type": "stream",
       "stream": "stdout",
       "text": [
        "\n",
        "Neutral >> [ESPN Los Angeles: Dodgers Report] Dodgers' Dave Roberts not worried about 2B logjam ahead"
       ]
      },
      {
       "output_type": "stream",
       "stream": "stdout",
       "text": [
        "\n",
        "Neutral >> [The Score] Dodgers' scoreless streak ends at 31 innings https://t.co/aIOwnWjjkI #Dodgers"
       ]
      },
      {
       "output_type": "stream",
       "stream": "stdout",
       "text": [
        "\n",
        "Negative Sentiment >> @connorryanh what are you talking about? I'm not glorifying the Dodgers in mocking the stu\n",
        "Neutral >> RT @Dodgers: Rivalry renewed. #ITFDB\n",
        "\n",
        "\ud83d\udcf7: @JonSooHooPics https://t.co/bDmdzqkucE"
       ]
      },
      {
       "output_type": "stream",
       "stream": "stdout",
       "text": [
        "\n",
        "Neutral >> RT @annkillion: So maybe it was just a Padres thing.  The Dodgers have now given up six ru\n",
        "Positive Sentiment >> RT @AlexPavlovic: Brandon Crawford becomes the first player to score against the Dodgers t"
       ]
      },
      {
       "output_type": "stream",
       "stream": "stdout",
       "text": [
        "\n",
        "Negative Sentiment >> RT @RaiderArchitect: That's true and sad https://t.co/EVwLNeaAGs\n",
        "Negative Sentiment >> @boston100games Dodgers and Padres played each other too! And why couldn't the Yankees pla"
       ]
      },
      {
       "output_type": "stream",
       "stream": "stdout",
       "text": [
        "\n",
        "Positive Sentiment >> Wow .. https://t.co/6C6d5TlhLF"
       ]
      },
      {
       "output_type": "stream",
       "stream": "stdout",
       "text": [
        "\n",
        "Negative Sentiment >> @Dodgers he we go with this stupid bullpen !!!! 6-4 get the fuck out of here\n",
        "Neutral >> [Todays Knuckleball] Dodgers squander opportunity to make history after 31.2 scoreless inn"
       ]
      },
      {
       "output_type": "stream",
       "stream": "stdout",
       "text": [
        "\n",
        "Neutral >> NOOOO \ud83d\ude2d\ud83d\ude2d\ud83d\ude2d https://t.co/R8hCI83Y6K"
       ]
      },
      {
       "output_type": "stream",
       "stream": "stdout",
       "text": [
        "\n",
        "Negative Sentiment >> Piece of shit Giants !! Motherfuckers I swear  https://t.co/hiQGAOTYAl"
       ]
      },
      {
       "output_type": "stream",
       "stream": "stdout",
       "text": [
        "\n",
        "Positive Sentiment >> RT @RoyalsMLBChamps: I try so hard to defend the Dodgers but the Giants own them smh\n",
        "Negative Sentiment >> RT @StatsCentre: #Dodgers start season with MLB record 29 unanswered runs. Their 31 straig"
       ]
      },
      {
       "output_type": "stream",
       "stream": "stdout",
       "text": [
        "\n",
        "Positive Sentiment >> Dammit Mattingly lol https://t.co/9B3RpMhWni"
       ]
      },
      {
       "output_type": "stream",
       "stream": "stdout",
       "text": [
        "\n",
        "Positive Sentiment >> RT @WatchKatRun4018: Dear Dodgers,\n",
        "Hahahaha HAHA bwahaha HAHAHAHA HAHA hahaha!!!!! Love, t\n",
        "Neutral >> \ud83d\udc4d Los Angeles Dodgers vs. San Francisco Giants Here's a link: https://t.co/Wxcg80YuW7 #LAD"
       ]
      },
      {
       "output_type": "stream",
       "stream": "stdout",
       "text": [
        "\n",
        "Negative Sentiment >> Welp, they've already blown it with this game. Season ruined. https://t.co/J2GZFvEGIV"
       ]
      },
      {
       "output_type": "stream",
       "stream": "stdout",
       "text": [
        "\n",
        "Neutral >> Just like that @SFGiants lead the @Dodgers 6-4 bottom 6th. #GoGiants #WeAreGiant"
       ]
      },
      {
       "output_type": "stream",
       "stream": "stdout",
       "text": [
        "\n",
        "Negative Sentiment >> #Baseball #Livescore @ScoresPro: (USA-) #San Francisco Giants vs #Los Angeles Dodgers: 6-4\n",
        "Positive Sentiment >> \u2714 Free Live stream in HD \u279c https://t.co/zTdiEHzjmS"
       ]
      },
      {
       "output_type": "stream",
       "stream": "stdout",
       "text": [
        "\n",
        "Neutral >> watching Los Angeles Dodgers vs San Francisco Giants"
       ]
      },
      {
       "output_type": "stream",
       "stream": "stdout",
       "text": [
        "\n",
        "Neutral >> RT @_N_I_C_K_24_: ......... @Dodgers https://t.co/6okbkte30l\n",
        "Negative Sentiment >> #dodgers down 7-4"
       ]
      },
      {
       "output_type": "stream",
       "stream": "stdout",
       "text": [
        "\n",
        "Negative Sentiment >> Fuck the dodgers!!!!!"
       ]
      },
      {
       "output_type": "stream",
       "stream": "stdout",
       "text": [
        "\n",
        "Neutral >> Uh oh  https://t.co/XBWGt98rlM"
       ]
      },
      {
       "output_type": "stream",
       "stream": "stdout",
       "text": [
        "\n",
        "Neutral >> @StrawHatMatt7 @Dodgers \"again\""
       ]
      },
      {
       "output_type": "stream",
       "stream": "stdout",
       "text": [
        "\n",
        "Neutral >> Dodgers gave up the lead"
       ]
      },
      {
       "output_type": "stream",
       "stream": "stdout",
       "text": [
        "\n",
        "Neutral >> \ud83d\udc4d Los Angeles Dodgers vs. San Francisco Giants Here's a link: https://t.co/BzCbmn9Kzk #LAD\n",
        "Positive Sentiment >> RT @muttkimp: Hey 31 innings is nothing to to be ashamed about. Very impressive streak. St"
       ]
      },
      {
       "output_type": "stream",
       "stream": "stdout",
       "text": [
        "\n",
        "Neutral >> The Giants nun came back on the Dodgers 6-4 bot 6"
       ]
      },
      {
       "output_type": "stream",
       "stream": "stdout",
       "text": [
        "\n",
        "Positive Sentiment >> RT @WatchKatRun4018: Dear Dodgers,\n",
        "Hahahaha HAHA bwahaha HAHAHAHA HAHA hahaha!!!!! Love, t"
       ]
      },
      {
       "output_type": "stream",
       "stream": "stdout",
       "text": [
        "\n",
        "Neutral >> POR BECERROS  https://t.co/9EEprWiKin"
       ]
      },
      {
       "output_type": "stream",
       "stream": "stdout",
       "text": [
        "\n",
        "Neutral >> RT @annkillion: So maybe it was just a Padres thing.  The Dodgers have now given up six ru"
       ]
      },
      {
       "output_type": "stream",
       "stream": "stdout",
       "text": [
        "\n",
        "Positive Sentiment >> LOL DODGERS"
       ]
      },
      {
       "output_type": "stream",
       "stream": "stdout",
       "text": [
        "\n",
        "Negative Sentiment >> @Dodgers Left wood in to long!"
       ]
      },
      {
       "output_type": "stream",
       "stream": "stdout",
       "text": [
        "\n",
        "Neutral >> @jpgscilla @Dodgers that awk moment when it won't show that you rtd it cause I follow them"
       ]
      },
      {
       "output_type": "stream",
       "stream": "stdout",
       "text": [
        "\n",
        "Negative Sentiment >> @Dodgers 6 unanswered runs. Smh. #Dodgers"
       ]
      },
      {
       "output_type": "stream",
       "stream": "stdout",
       "text": [
        "\n",
        "Neutral >> #SFGiants with back to back 3-run innings on the #Dodgers to take 6-4 lead in the 6th. Tha"
       ]
      },
      {
       "output_type": "stream",
       "stream": "stdout",
       "text": [
        "\n",
        "Neutral >> Dodgers stink"
       ]
      },
      {
       "output_type": "stream",
       "stream": "stdout",
       "text": [
        "\n",
        "Positive Sentiment >> NFL 0 - Sports Fantasy Casino : MLB Baseball : Watch: Dodgers score on first overturned ne"
       ]
      },
      {
       "output_type": "stream",
       "stream": "stdout",
       "text": [
        "\n",
        "Positive Sentiment >> I absolutely love the fact that we're the first team to score a run on the Dodgers in 2016"
       ]
      },
      {
       "output_type": "stream",
       "stream": "stdout",
       "text": [
        "\n",
        "Neutral >> Dodgers meltdown https://t.co/lvxCenPQrJ"
       ]
      },
      {
       "output_type": "stream",
       "stream": "stdout",
       "text": [
        "\n",
        "Negative Sentiment >> you can put lipstick on a pig (#padres series) but at the end of the day it's still a fuck"
       ]
      },
      {
       "output_type": "stream",
       "stream": "stdout",
       "text": [
        "\n",
        "Positive Sentiment >> RT @dooks_55: Dodgers pitching needs too stay this good throughout the year!!!"
       ]
      },
      {
       "output_type": "stream",
       "stream": "stdout",
       "text": [
        "\n",
        "Neutral >> WHY!!!!!  https://t.co/Xinr4hiOOB"
       ]
      },
      {
       "output_type": "stream",
       "stream": "stdout",
       "text": [
        "\n",
        "Positive Sentiment >> RT @Dodgers: That's 31 straight scoreless innings for Dodger pitchers to start 2016. #Dodg"
       ]
      },
      {
       "output_type": "stream",
       "stream": "stdout",
       "text": [
        "\n",
        "Positive Sentiment >> RT @WatchKatRun4018: Dear Dodgers,\n",
        "Hahahaha HAHA bwahaha HAHAHAHA HAHA hahaha!!!!! Love, t"
       ]
      },
      {
       "output_type": "stream",
       "stream": "stdout",
       "text": [
        "\n",
        "Positive Sentiment >> Different year, Managers can't seem to figure out when to take out scrub pitchers. Good jo"
       ]
      },
      {
       "output_type": "stream",
       "stream": "stdout",
       "text": [
        "\n",
        "Neutral >> RT @SFGiantsJeezus: Time to Panik Dodgers https://t.co/EU5JkTfFTz"
       ]
      },
      {
       "output_type": "stream",
       "stream": "stdout",
       "text": [
        "\n",
        "Neutral >> @Dodgers HAHAHAHAHAHAHAHAHAHAHAHAHAHAHAHAHAHAHAHA"
       ]
      },
      {
       "output_type": "stream",
       "stream": "stdout",
       "text": [
        "\n",
        "Positive Sentiment >> Say goodnight #Dodgers; #Giants are still better"
       ]
      },
      {
       "output_type": "stream",
       "stream": "stdout",
       "text": [
        "\n",
        "Neutral >> YOU GOTTA BE KIDDINGGGG, WE GOT THIS IDGAF https://t.co/h8ZV6fjVQs"
       ]
      },
      {
       "output_type": "stream",
       "stream": "stdout",
       "text": [
        "\n",
        "Positive Sentiment >> RT @LOLKNBR: LOL DODGERS"
       ]
      },
      {
       "output_type": "stream",
       "stream": "stdout",
       "text": [
        "\n",
        "Neutral >> Yea I'm out I'll just hope the dodgers come back while I'm not watching"
       ]
      },
      {
       "output_type": "stream",
       "stream": "stdout",
       "text": [
        "\n",
        "Neutral >> Dodgers don't want this work!!"
       ]
      },
      {
       "output_type": "stream",
       "stream": "stdout",
       "text": [
        "\n",
        "Positive Sentiment >> Fuck yeah! Lolol Dodgers!"
       ]
      },
      {
       "output_type": "stream",
       "stream": "stdout",
       "text": [
        "\n",
        "Neutral >> Los Dodgers llevaban tanto tiempo sin recibir carreras que se les olvid\u00f3 que hacer para ev"
       ]
      },
      {
       "output_type": "stream",
       "stream": "stdout",
       "text": [
        "\n",
        "Neutral >> RT @ESPNStatsInfo: Dodgers now with 30 consecutive scoreless innings pitched. That's 2 inn"
       ]
      },
      {
       "output_type": "stream",
       "stream": "stdout",
       "text": [
        "\n",
        "Neutral >> damn it Dodgers"
       ]
      },
      {
       "output_type": "stream",
       "stream": "stdout",
       "text": [
        "\n",
        "Neutral >> Come on @Dodgers #BeatSF"
       ]
      },
      {
       "output_type": "stream",
       "stream": "stdout",
       "text": [
        "\n",
        "Negative Sentiment >> SERIOUSLY DODGERS"
       ]
      },
      {
       "output_type": "stream",
       "stream": "stdout",
       "text": [
        "\n",
        "Neutral >> Oh my Dodgers....wheels coming off that shut out wagon! #BeatTheDodgers #GoGiants #WeAreGi"
       ]
      },
      {
       "output_type": "stream",
       "stream": "stdout",
       "text": [
        "\n",
        "Positive Sentiment >> RT @LOLKNBR: LOL DODGERS"
       ]
      },
      {
       "output_type": "stream",
       "stream": "stdout",
       "text": [
        "\n",
        "Neutral >> Alex wood living up to the hype I see #Dodgers #Giants"
       ]
      },
      {
       "output_type": "stream",
       "stream": "stdout",
       "text": [
        "\n",
        "Neutral >> The Dodgers just can't catch a break this season.  https://t.co/JARatGshHO"
       ]
      },
      {
       "output_type": "stream",
       "stream": "stdout",
       "text": [
        "\n",
        "Neutral >> RT @SFGiantsJeezus: Time to Panik Dodgers https://t.co/EU5JkTfFTz"
       ]
      },
      {
       "output_type": "stream",
       "stream": "stdout",
       "text": [
        "\n",
        "Neutral >> @Dodgers https://t.co/Wg3tXCPBUk"
       ]
      },
      {
       "output_type": "stream",
       "stream": "stdout",
       "text": [
        "\n",
        "Neutral >> The dodgers have given up some runs now."
       ]
      },
      {
       "output_type": "stream",
       "stream": "stdout",
       "text": [
        "\n",
        "Negative Sentiment >> Man, the Dodgers pitching sucks this season"
       ]
      },
      {
       "output_type": "stream",
       "stream": "stdout",
       "text": [
        "\n",
        "Positive Sentiment >> Either way, we completely destroyed whatever scoreless streak the Dodgers had going on."
       ]
      },
      {
       "output_type": "stream",
       "stream": "stdout",
       "text": [
        "\n",
        "Positive Sentiment >> Okay this is dumb now #Dodgers"
       ]
      },
      {
       "output_type": "stream",
       "stream": "stdout",
       "text": [
        "\n",
        "Positive Sentiment >> RT @virgoinservice: Now this is the Dodgers we know and don't love #BeatLA"
       ]
      },
      {
       "output_type": "stream",
       "stream": "stdout",
       "text": [
        "\n",
        "Positive Sentiment >> Ok ok. The Dodgers need to get it together"
       ]
      },
      {
       "output_type": "stream",
       "stream": "stdout",
       "text": [
        "\n",
        "Neutral >> Come on dodgers!!!!"
       ]
      },
      {
       "output_type": "stream",
       "stream": "stdout",
       "text": [
        "\n",
        "Neutral >> Dodgers getting dicked rn"
       ]
      },
      {
       "output_type": "stream",
       "stream": "stdout",
       "text": [
        "\n",
        "Positive Sentiment >> I love when Dodgers &amp; Giants play Bc it allows all the bandwagons to start up &amp; I "
       ]
      },
      {
       "output_type": "stream",
       "stream": "stdout",
       "text": [
        "\n",
        "Neutral >> LMMMMAAAAAAAAOOOOOOOOOOOOOO @Dodgers"
       ]
      },
      {
       "output_type": "stream",
       "stream": "stdout",
       "text": [
        "\n",
        "Positive Sentiment >> RT @LOLKNBR: LOL DODGERS\n",
        "Neutral >> San Francisco Giants 7:4 LA Dodgers on https://t.co/xOqMjgNva7, MLB"
       ]
      },
      {
       "output_type": "stream",
       "stream": "stdout",
       "text": [
        "\n",
        "Neutral >> What was Joc thinking throwing home there?  Just moved another runner into scoring positio"
       ]
      },
      {
       "output_type": "stream",
       "stream": "stdout",
       "text": [
        "\n",
        "Positive Sentiment >> RT @LOLKNBR: LOL DODGERS"
       ]
      },
      {
       "output_type": "stream",
       "stream": "stdout",
       "text": [
        "\n",
        "Negative Sentiment >> Common Dodgers \ud83d\ude2a"
       ]
      },
      {
       "output_type": "stream",
       "stream": "stdout",
       "text": [
        "\n",
        "Neutral >> RT @Dodgers: Giants score three in the fifth to end the #Dodgers' scoreless innings streak"
       ]
      },
      {
       "output_type": "stream",
       "stream": "stdout",
       "text": [
        "\n",
        "Positive Sentiment >> RT @LOLKNBR: LOL DODGERS"
       ]
      },
      {
       "output_type": "stream",
       "stream": "stdout",
       "text": [
        "\n",
        "Positive Sentiment >> RT @LOLKNBR: LOL DODGERS"
       ]
      },
      {
       "output_type": "stream",
       "stream": "stdout",
       "text": [
        "\n",
        "Negative Sentiment >> Worst bullpen in baseball @Dodgers"
       ]
      },
      {
       "output_type": "stream",
       "stream": "stdout",
       "text": [
        "\n",
        "Neutral >> DAMMM I can't  https://t.co/h8hQy61pCj\n",
        "Negative Sentiment >> FUCK https://t.co/mM3eUWp1jv"
       ]
      },
      {
       "output_type": "stream",
       "stream": "stdout",
       "text": [
        "\n",
        "Negative Sentiment >> Wtf Dodgers!!"
       ]
      },
      {
       "output_type": "stream",
       "stream": "stdout",
       "text": [
        "\n",
        "Neutral >> Vaya partidazo el Dodgers-Giants, no?\n",
        "Neutral >> Posey comes through again, another hit, another RBI! 7-4.\n",
        "#SFGiants #Dodgers #SFGOpeningDa"
       ]
      },
      {
       "output_type": "stream",
       "stream": "stdout",
       "text": [
        "\n",
        "Negative Sentiment >> Typical Dodgers bullpen \ud83d\ude02\ud83d\ude02"
       ]
      },
      {
       "output_type": "stream",
       "stream": "stdout",
       "text": [
        "\n",
        "Neutral >> SMFH @Dodgers"
       ]
      },
      {
       "output_type": "stream",
       "stream": "stdout",
       "text": [
        "\n",
        "Negative Sentiment >> Fuck the Dodgers cuhhh\n",
        "Neutral >> RT @_evetteee: We ain't the Padres bihhhhhh @Dodgers"
       ]
      },
      {
       "output_type": "stream",
       "stream": "stdout",
       "text": [
        "\n",
        "Neutral >> 1958 Topps #258-Carl Erskine-Los Angeles Dodgers https://t.co/uFGFgXNDwh https://t.co/GOE6\n",
        "Neutral >> Sus dodgers \ud83d\ude29"
       ]
      },
      {
       "output_type": "stream",
       "stream": "stdout",
       "text": [
        "\n",
        "Negative Sentiment >> Fuck the Dodgers\n",
        "Neutral >> Bien @SFGiants ens\u00e9\u00f1enle a @Dodgers quien manda en la Oeste"
       ]
      },
      {
       "output_type": "stream",
       "stream": "stdout",
       "text": [
        "\n",
        "Neutral >> Dodgers \ud83d\udc94\ud83d\udc80"
       ]
      },
      {
       "output_type": "stream",
       "stream": "stdout",
       "text": [
        "\n",
        "Negative Sentiment >> #dodgers have officially gone tilt. :("
       ]
      },
      {
       "output_type": "stream",
       "stream": "stdout",
       "text": [
        "\n",
        "Neutral >> Come on Dodgers"
       ]
      },
      {
       "output_type": "stream",
       "stream": "stdout",
       "text": [
        "\n",
        "Neutral >> @Thegetawayplan9 as you typed, the Dodgers gave up another run"
       ]
      },
      {
       "output_type": "stream",
       "stream": "stdout",
       "text": [
        "\n",
        "Negative Sentiment >> Cmon Dodgers wtf"
       ]
      },
      {
       "output_type": "stream",
       "stream": "stdout",
       "text": [
        "\n",
        "Negative Sentiment >> THIS IS TERRIBLE WHAT THE FUCK DODGERS"
       ]
      },
      {
       "output_type": "stream",
       "stream": "stdout",
       "text": [
        "\n",
        "Positive Sentiment >> @atf13atf Hahahaha dodgers are trash my man!!!!!!!!!!!!!!"
       ]
      },
      {
       "output_type": "stream",
       "stream": "stdout",
       "text": [
        "\n",
        "Neutral >> Y'all jinxed it, that's how they scored https://t.co/DJJhuq2F30\n",
        "Neutral >> FUUUCK!!! https://t.co/qymebNYJzO"
       ]
      },
      {
       "output_type": "stream",
       "stream": "stdout",
       "text": [
        "\n",
        "Neutral >> @Dodgers you can't expect different results from a shitty bullpen with the same shitty rel"
       ]
      },
      {
       "output_type": "stream",
       "stream": "stdout",
       "text": [
        "\n",
        "Positive Sentiment >> @Dodgers y'all good?"
       ]
      },
      {
       "output_type": "stream",
       "stream": "stdout",
       "text": [
        "\n",
        "Positive Sentiment >> RT @LOLKNBR: LOL DODGERS\n",
        "Positive Sentiment >> RT @LOLKNBR: LOL DODGERS"
       ]
      },
      {
       "output_type": "stream",
       "stream": "stdout",
       "text": [
        "\n",
        "Neutral >> Dodgers trash"
       ]
      },
      {
       "output_type": "stream",
       "stream": "stdout",
       "text": [
        "\n",
        "Neutral >> That's the Dodgers bullpen for you \ud83d\ude44"
       ]
      },
      {
       "output_type": "stream",
       "stream": "stdout",
       "text": [
        "\n",
        "Neutral >> Meanwhile the Dodgers are shitting the bed"
       ]
      },
      {
       "output_type": "stream",
       "stream": "stdout",
       "text": [
        "\n",
        "Negative Sentiment >> WTF DODGERS !"
       ]
      },
      {
       "output_type": "stream",
       "stream": "stdout",
       "text": [
        "\n",
        "Neutral >> WHAT THE HELL IS GOING ON DODGERS"
       ]
      },
      {
       "output_type": "stream",
       "stream": "stdout",
       "text": [
        "\n",
        "Neutral >> #feelsgoodman https://t.co/UeIjaahocp"
       ]
      },
      {
       "output_type": "stream",
       "stream": "stdout",
       "text": [
        "\n",
        "Negative Sentiment >> YUP FUCK THE DODGERS."
       ]
      },
      {
       "output_type": "stream",
       "stream": "stdout",
       "text": [
        "\n",
        "Positive Sentiment >> RT @espn: The Dodgers shut out San Diego AGAIN last night.\n",
        "\n",
        "The Padres are the first team "
       ]
      },
      {
       "output_type": "stream",
       "stream": "stdout",
       "text": [
        "\n",
        "Positive Sentiment >> RT @LOLKNBR: LOL DODGERS\n",
        "Neutral >> RT @SteveMasonESPN: Roberts: 1st mistake of the season. After 25 pitches/3 earned runs in \n",
        "Neutral >> Dodgers trash. #DailyTweet"
       ]
      },
      {
       "output_type": "stream",
       "stream": "stdout",
       "text": [
        "\n",
        "Positive Sentiment >> RT @LOLKNBR: LOL DODGERS"
       ]
      },
      {
       "output_type": "stream",
       "stream": "stdout",
       "text": [
        "\n",
        "Neutral >> 7-4 @Dodgers btw .\n",
        "Neutral >> Come on.. #Dodgers\n",
        "Neutral >> I endorse this tweet ...  https://t.co/Vpa0mowBzv"
       ]
      },
      {
       "output_type": "stream",
       "stream": "stdout",
       "text": [
        "\n",
        "Neutral >> Im actually done. https://t.co/hgLOy03TQW"
       ]
      },
      {
       "output_type": "stream",
       "stream": "stdout",
       "text": [
        "\n",
        "Neutral >> \ud83d\udc4d Los Angeles Dodgers vs. San Francisco Giants Here's a link: https://t.co/VRrvXRhNxV #LAD\n",
        "Negative Sentiment >> RT @Hurricane_Shane: Worst bullpen in baseball @Dodgers"
       ]
      },
      {
       "output_type": "stream",
       "stream": "stdout",
       "text": [
        "\n",
        "Positive Sentiment >> RT @76: Best seats in the house. Only 5 more days till the @Dodgers #OpeningDay. #tbt http"
       ]
      },
      {
       "output_type": "stream",
       "stream": "stdout",
       "text": [
        "\n",
        "Negative Sentiment >> Fuck the Dodgers"
       ]
      },
      {
       "output_type": "stream",
       "stream": "stdout",
       "text": [
        "\n",
        "Neutral >> dodgers are blowing it lmaoooooo"
       ]
      },
      {
       "output_type": "stream",
       "stream": "stdout",
       "text": [
        "\n",
        "Positive Sentiment >> Dodgers who? Lol"
       ]
      },
      {
       "output_type": "stream",
       "stream": "stdout",
       "text": [
        "\n",
        "Negative Sentiment >> Come on Dodgers haha wtf happened"
       ]
      },
      {
       "output_type": "stream",
       "stream": "stdout",
       "text": [
        "\n",
        "Neutral >> @Dodgers Choking already i see \ud83d\ude02\ud83d\ude02\ud83d\ude02\ud83d\ude02"
       ]
      },
      {
       "output_type": "stream",
       "stream": "stdout",
       "text": [
        "\n",
        "Negative Sentiment >> @Dodgers 7-4 :(\n",
        "Neutral >> Dodgers dump goofed"
       ]
      },
      {
       "output_type": "stream",
       "stream": "stdout",
       "text": [
        "\n",
        "Neutral >> Dodgers being who I thought they were."
       ]
      },
      {
       "output_type": "stream",
       "stream": "stdout",
       "text": [
        "\n",
        "Neutral >> Come on dodgers!"
       ]
      },
      {
       "output_type": "stream",
       "stream": "stdout",
       "text": [
        "\n",
        "Neutral >> RT @JRAM_91: Dodgers trash. #DailyTweet\n",
        "Positive Sentiment >> Fuck the Dodgers lmao"
       ]
      },
      {
       "output_type": "stream",
       "stream": "stdout",
       "text": [
        "\n",
        "Neutral >> RT @__miaduarte40: 31 scoreless inning for the dodgers!\ud83d\udc85\ud83c\udffc\ud83d\udc99 #LAAngelsWho #LADodgers\n",
        "Positive Sentiment >> RT @LOLKNBR: LOL DODGERS"
       ]
      },
      {
       "output_type": "stream",
       "stream": "stdout",
       "text": [
        "\n",
        "Neutral >> Dodgers are trash\ud83d\ude02\ud83d\ude02"
       ]
      },
      {
       "output_type": "stream",
       "stream": "stdout",
       "text": [
        "\n",
        "Positive Sentiment >> smh Dodgers ya'll were doing good \ud83d\ude29\n",
        "Positive Sentiment >> RT @PaulRogersSJMN: Excellent afternoon today at Opening Day - SF Giants v LA Dodgers. Ren"
       ]
      },
      {
       "output_type": "stream",
       "stream": "stdout",
       "text": [
        "\n",
        "Neutral >> Yimi already in mid season form #Dodgers\n",
        "Negative Sentiment >> You serious ? @Dodgers"
       ]
      },
      {
       "output_type": "stream",
       "stream": "stdout",
       "text": [
        "\n",
        "Positive Sentiment >> I must follow 50 Dodgers fans/bloggers and there is not a peep on my TL right now. Come on\n",
        "Positive Sentiment >> RT @LOLKNBR: LOL DODGERS"
       ]
      },
      {
       "output_type": "stream",
       "stream": "stdout",
       "text": [
        "\n",
        "Negative Sentiment >> Hey don't start fucking up @Dodgers"
       ]
      },
      {
       "output_type": "stream",
       "stream": "stdout",
       "text": [
        "\n",
        "Neutral >> RT @Brom_28: Hey @Dodgers you ain't in San Diego anymore!"
       ]
      },
      {
       "output_type": "stream",
       "stream": "stdout",
       "text": [
        "\n",
        "Positive Sentiment >> lol the Dodgers are gonna \"Panik\""
       ]
      },
      {
       "output_type": "stream",
       "stream": "stdout",
       "text": [
        "\n",
        "Negative Sentiment >> Fight hard, offense. Please. And if you come up short, it's still Game 4 of 162, and the f"
       ]
      },
      {
       "output_type": "stream",
       "stream": "stdout",
       "text": [
        "\n",
        "Negative Sentiment >> what a fucking turnaround. cmon dodgers...."
       ]
      },
      {
       "output_type": "stream",
       "stream": "stdout",
       "text": [
        "\n",
        "Neutral >> @Dodgers \ud83d\ude11"
       ]
      },
      {
       "output_type": "stream",
       "stream": "stdout",
       "text": [
        "\n",
        "Neutral >> Ayooooo giants are kicking Dodgers ass!!"
       ]
      },
      {
       "output_type": "stream",
       "stream": "stdout",
       "text": [
        "\n",
        "Positive Sentiment >> RT @LOLKNBR: LOL DODGERS"
       ]
      },
      {
       "output_type": "stream",
       "stream": "stdout",
       "text": [
        "\n",
        "Neutral >> No bueno\ud83d\ude10\ud83d\ude10\ud83d\ude10 https://t.co/LvMCNOkeEY"
       ]
      },
      {
       "output_type": "stream",
       "stream": "stdout",
       "text": [
        "\n",
        "Neutral >> RT @JRAM_91: Dodgers trash. #DailyTweet"
       ]
      },
      {
       "output_type": "stream",
       "stream": "stdout",
       "text": [
        "\n",
        "Neutral >> Damn the Dodgers just lost it..."
       ]
      },
      {
       "output_type": "stream",
       "stream": "stdout",
       "text": [
        "\n",
        "Neutral >> Giants getting up in that ass @Dodgers"
       ]
      },
      {
       "output_type": "stream",
       "stream": "stdout",
       "text": [
        "\n",
        "Positive Sentiment >> Lmao Dodgers what happened \ud83d\ude02"
       ]
      },
      {
       "output_type": "stream",
       "stream": "stdout",
       "text": [
        "\n",
        "Negative Sentiment >> Wtf are the Dodgers doing rn?!?"
       ]
      },
      {
       "output_type": "stream",
       "stream": "stdout",
       "text": [
        "\n",
        "Neutral >> @GamerBabeJess Why is Colin Kapernick pitching for the Dodgers now\n",
        "Neutral >> I'm pissed now \ud83d\ude21 #dodgers"
       ]
      },
      {
       "output_type": "stream",
       "stream": "stdout",
       "text": [
        "\n",
        "Negative Sentiment >> @Dodgers these relievers worst in baseball"
       ]
      },
      {
       "output_type": "stream",
       "stream": "stdout",
       "text": [
        "\n",
        "Neutral >> STFD DODGERS"
       ]
      },
      {
       "output_type": "stream",
       "stream": "stdout",
       "text": [
        "\n",
        "Neutral >> Dodgers pitching stafff having a meltdown, it's not even postseason\n",
        "Neutral >> All that money and the Dodgers still don't have a bullpen"
       ]
      },
      {
       "output_type": "stream",
       "stream": "stdout",
       "text": [
        "\n",
        "Neutral >> Dodgers traaash"
       ]
      },
      {
       "output_type": "stream",
       "stream": "stdout",
       "text": [
        "\n",
        "Positive Sentiment >> LOL @Dodgers"
       ]
      },
      {
       "output_type": "stream",
       "stream": "stdout",
       "text": [
        "\n",
        "Negative Sentiment >> CMON DODGERS WTF"
       ]
      },
      {
       "output_type": "stream",
       "stream": "stdout",
       "text": [
        "\n",
        "Neutral >> Cmon Dodgers"
       ]
      },
      {
       "output_type": "stream",
       "stream": "stdout",
       "text": [
        "\n",
        "Neutral >> In Richmond VA.  Got https://t.co/6ymuB4DmrJ renewed, finally!!!  Giants stopping Dodgers!"
       ]
      },
      {
       "output_type": "stream",
       "stream": "stdout",
       "text": [
        "\n",
        "Positive Sentiment >> HAHAHAHA #Dodgers \ud83d\ude02\ud83d\ude02\ud83d\ude02 #BeatLA"
       ]
      },
      {
       "output_type": "stream",
       "stream": "stdout",
       "text": [
        "\n",
        "Negative Sentiment >> Take him out \ud83d\udc86\ud83c\udffb wtf you waiting for @Dodgers\n",
        "Neutral >> Dodgers back at it again"
       ]
      },
      {
       "output_type": "stream",
       "stream": "stdout",
       "text": [
        "\n",
        "Positive Sentiment >> RT @LOLKNBR: LOL DODGERS"
       ]
      },
      {
       "output_type": "stream",
       "stream": "stdout",
       "text": [
        "\n",
        "Positive Sentiment >> RT @Dodgers: 29\n",
        "\n",
        "@Awood45 gets through another scoreless inning to keep the streak alive. \n",
        "Negative Sentiment >> 7-4 Giants :( #Dodgers @Dodgers"
       ]
      },
      {
       "output_type": "stream",
       "stream": "stdout",
       "text": [
        "\n",
        "Positive Sentiment >> Posey does own the Dodgers \ud83d\udc40\ud83d\udc40\ud83d\udc40"
       ]
      },
      {
       "output_type": "stream",
       "stream": "stdout",
       "text": [
        "\n",
        "Negative Sentiment >> @Dodgers toto, we're not in San Diego no more!"
       ]
      },
      {
       "output_type": "stream",
       "stream": "stdout",
       "text": [
        "\n",
        "Negative Sentiment >> 7-4 Giants!!!!!! Fuck the Dodgers!!!"
       ]
      },
      {
       "output_type": "stream",
       "stream": "stdout",
       "text": [
        "\n",
        "Neutral >> Dodgers come on !!!!"
       ]
      },
      {
       "output_type": "stream",
       "stream": "stdout",
       "text": [
        "\n",
        "Positive Sentiment >> Well, the #Dodgers are finally playing a Major League team in the #Giants (and losing)! Go\n",
        "Positive Sentiment >> So that other series may have been more Padres than Dodgers."
       ]
      },
      {
       "output_type": "stream",
       "stream": "stdout",
       "text": [
        "\n",
        "Negative Sentiment >> WHAT FUCK DODGERS\ud83d\ude24"
       ]
      },
      {
       "output_type": "stream",
       "stream": "stdout",
       "text": [
        "\n",
        "Negative Sentiment >> 7-4!!! Fuck you Dodgers!!"
       ]
      },
      {
       "output_type": "stream",
       "stream": "stdout",
       "text": [
        "\n",
        "Neutral >> Dodgers getting ground ball after ground ball but just can't buy an out"
       ]
      },
      {
       "output_type": "stream",
       "stream": "stdout",
       "text": [
        "\n",
        "Neutral >> Yimi throws batting practice. We all know this. Dodgers still didn't upgrade the bullpen.\n",
        "Neutral >> Can the Dodgers get an out"
       ]
      },
      {
       "output_type": "stream",
       "stream": "stdout",
       "text": [
        "\n",
        "Negative Sentiment >> Well this is the Dodgers I remember from last year which were extremely frustrating to wat"
       ]
      },
      {
       "output_type": "stream",
       "stream": "stdout",
       "text": [
        "\n",
        "Neutral >> There was a point the Dodgers led 4-0, that was ages ago..."
       ]
      },
      {
       "output_type": "stream",
       "stream": "stdout",
       "text": [
        "\n",
        "Positive Sentiment >> LMAO DODGERS \ud83d\ude02\ud83d\ude02\ud83d\ude02\n",
        "Neutral >> San Fran is dominating the lack of depth in pitching that the Dodgers have"
       ]
      },
      {
       "output_type": "stream",
       "stream": "stdout",
       "text": [
        "\n",
        "Neutral >> Dodgers boo boo"
       ]
      },
      {
       "output_type": "stream",
       "stream": "stdout",
       "text": [
        "\n",
        "Positive Sentiment >> There's honestly nothing better than watching the @SFGiants and @Dodgers face off! Let's g\n",
        "Neutral >> RT @ArashMarkazi: I had to get on an airplane to watch the Dodgers on TV this season. http"
       ]
      },
      {
       "output_type": "stream",
       "stream": "stdout",
       "text": [
        "\n",
        "Neutral >> OFFS DODGERS why are you playing with my emotions can you not."
       ]
      },
      {
       "output_type": "stream",
       "stream": "stdout",
       "text": [
        "\n",
        "Neutral >> @Dodgers you're not playing the Padres #SFGiants"
       ]
      },
      {
       "output_type": "stream",
       "stream": "stdout",
       "text": [
        "\n",
        "Positive Sentiment >> Dodgers gonna change pitcher now hahaha #BeatLA #FuckTheDodgers #SFGiants"
       ]
      },
      {
       "output_type": "stream",
       "stream": "stdout",
       "text": [
        "\n",
        "Neutral >> RT @ccgrime: @Dodgers https://t.co/Wg3tXCPBUk"
       ]
      },
      {
       "output_type": "stream",
       "stream": "stdout",
       "text": [
        "\n",
        "Neutral >> #TweetLikeAHoe https://t.co/Xmf5mm6keP"
       ]
      },
      {
       "output_type": "stream",
       "stream": "stdout",
       "text": [
        "\n",
        "Neutral >> @Dodgers r u srs \ud83d\ude43\n",
        "Negative Sentiment >> Wtf cmon Dodgers"
       ]
      },
      {
       "output_type": "stream",
       "stream": "stdout",
       "text": [
        "\n",
        "Negative Sentiment >> How the whole game turned on a dime like this..Giants are still a scary playoff team that'"
       ]
      },
      {
       "output_type": "stream",
       "stream": "stdout",
       "text": [
        "\n",
        "Positive Sentiment >> LOL DODGERS!!!"
       ]
      },
      {
       "output_type": "stream",
       "stream": "stdout",
       "text": [
        "\n",
        "Neutral >> RT @Dodgers: Giants score three in the fifth to end the #Dodgers' scoreless innings streak"
       ]
      },
      {
       "output_type": "stream",
       "stream": "stdout",
       "text": [
        "\n",
        "Neutral >> RT @JRAM_91: Dodgers trash. #DailyTweet\n",
        "Neutral >> RT @Jessikarenai: Come on Dodgers \ud83d\ude12\n",
        "Positive Sentiment >> @Dodgers get it together that score better stay @ 7 they better not get another this innin"
       ]
      },
      {
       "output_type": "stream",
       "stream": "stdout",
       "text": [
        "\n",
        "Negative Sentiment >> After trailing 4-0 to Dodgers, @GoSquirrels score 6 unanswered in 5th and 6th w/ @GoSquirr"
       ]
      },
      {
       "output_type": "stream",
       "stream": "stdout",
       "text": [
        "\n",
        "Neutral >> Where that bullpen at Dodgers???\n",
        "Negative Sentiment >> 1971 TOPPS BASEBALL SINGLE CARD # 226 BILL RUSSELL - LOS ANGELES DODGERS NM/MT! https://t."
       ]
      },
      {
       "output_type": "stream",
       "stream": "stdout",
       "text": [
        "\n",
        "Neutral >> RT @Dodgers: Giants score three in the fifth to end the #Dodgers' scoreless innings streak"
       ]
      },
      {
       "output_type": "stream",
       "stream": "stdout",
       "text": [
        "\n",
        "Negative Sentiment >> @alyssaspaghetti @Dodgers that awk moment when I hate you"
       ]
      },
      {
       "output_type": "stream",
       "stream": "stdout",
       "text": [
        "\n",
        "Negative Sentiment >> Sorry Dodgers you guys aren't playing the Padres\n",
        "Neutral >> Come On Dodgers!!!!!!!!!!!!!!!! #\ud83d\udc7f\ud83d\udc7f\ud83d\udc7f\ud83d\udc7f\ud83d\udc7f\ud83d\udc7f\ud83d\udc7f\ud83d\udc7f\ud83d\udc7f\ud83d\udc7f\ud83d\udc7f\ud83d\udc7f\ud83d\udc7f\ud83d\udc7f\ud83d\udc7f\ud83d\udc7f\ud83d\udc7f\ud83d\udc7f\ud83d\udc7f\ud83d\udc7f\ud83d\udc7f\ud83d\udc7f\ud83d\udc7f\ud83d\udc7f\ud83d\udc7f\ud83d\udc7f\ud83d\udc7f\ud83d\udc7f\ud83d\udc7f\ud83d\udc7f\ud83d\udc7f\ud83d\udc7f\ud83d\udc7f\ud83d\udc7f\ud83d\udc7f\ud83d\udc7f\ud83d\udc7f\ud83d\udc7f\ud83d\udc7f\ud83d\udc7f\ud83d\udc7f\ud83d\udc7f\ud83d\udc7f\ud83d\udc7f\ud83d\udc7f\ud83d\udc7f\ud83d\udc7f\ud83d\udc7f\ud83d\udc7f\ud83d\udc7f\ud83d\udc7f\ud83d\udc7f"
       ]
      },
      {
       "output_type": "stream",
       "stream": "stdout",
       "text": [
        "\n",
        "Negative Sentiment >> @Dodgers all because Roberts channel his inner Donnie dumb dumb and let Wood start the inn"
       ]
      },
      {
       "output_type": "stream",
       "stream": "stdout",
       "text": [
        "\n",
        "Neutral >> Kick butt \u2014 watching Los Angeles Dodgers vs San Francisco Giants"
       ]
      },
      {
       "output_type": "stream",
       "stream": "stdout",
       "text": [
        "\n",
        "Positive Sentiment >> RT @ToeKnee2GX: \ud83d\ude29\ud83d\ude29\ud83d\ude29 RT @Dodgers: Giants have scored three more times here in the sixth to \n",
        "Neutral >> Woohoo!!! 7-4 Giants!! You show them Dodgers!! #SFGiants"
       ]
      },
      {
       "output_type": "stream",
       "stream": "stdout",
       "text": [
        "\n",
        "Neutral >> For the sake of the Dodgers I'm not watching anymore."
       ]
      },
      {
       "output_type": "stream",
       "stream": "stdout",
       "text": [
        "\n",
        "Neutral >> Well, now is a pounding. 7-4 ganan los @SFGiants a los @Dodgers."
       ]
      },
      {
       "output_type": "stream",
       "stream": "stdout",
       "text": [
        "\n",
        "Neutral >> Dammit Dodgers!!"
       ]
      },
      {
       "output_type": "stream",
       "stream": "stdout",
       "text": [
        "\n",
        "Positive Sentiment >> RT @LOLKNBR: LOL DODGERS"
       ]
      },
      {
       "output_type": "stream",
       "stream": "stdout",
       "text": [
        "\n",
        "Neutral >> Dodgers funeral airing on CSN."
       ]
      },
      {
       "output_type": "stream",
       "stream": "stdout",
       "text": [
        "\n",
        "Neutral >> The Dodgers bullpen is trash!! 7-4"
       ]
      },
      {
       "output_type": "stream",
       "stream": "stdout",
       "text": [
        "\n",
        "Positive Sentiment >> Dodgers outfielders are doing a phenomenal job of putting Giants in scoring position. Pose\n",
        "Neutral >> Yep. This looks like the Dodgers."
       ]
      },
      {
       "output_type": "stream",
       "stream": "stdout",
       "text": [
        "\n",
        "Negative Sentiment >> RT @nicky_fuego: The Dodgers after being up all game #FuckTheDodgers https://t.co/LMSmieP5"
       ]
      },
      {
       "output_type": "stream",
       "stream": "stdout",
       "text": [
        "\n",
        "Negative Sentiment >> And the wheels are coming off for the Dodgers. Poor babies \ud83d\ude02\ud83d\ude02. #BeatLA\n",
        "Positive Sentiment >> RT @LOLKNBR: LOL DODGERS\n",
        "Negative Sentiment >> Fuck the Giants !! https://t.co/MF2c6qTNeC"
       ]
      },
      {
       "output_type": "stream",
       "stream": "stdout",
       "text": [
        "\n",
        "Negative Sentiment >> Wtf Dodgers\n",
        "Neutral >> Joe Panik, doing things. A pair of RBI hits and the Giants now lead the Dodgers 6-4. #mlb"
       ]
      },
      {
       "output_type": "stream",
       "stream": "stdout",
       "text": [
        "\n",
        "Neutral >> Now @SFGiants 7 @Dodgers 4\n",
        "Neutral >> Acabou a moleza pro DODGERS BASEBALL ! GIGANTES CARAJO"
       ]
      }
     ],
     "prompt_number": "*"
    },
    {
     "cell_type": "code",
     "collapsed": false,
     "input": [],
     "language": "python",
     "metadata": {},
     "outputs": []
    }
   ],
   "metadata": {}
  }
 ]
}
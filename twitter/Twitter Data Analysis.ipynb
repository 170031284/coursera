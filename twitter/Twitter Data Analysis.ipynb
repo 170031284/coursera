{
 "metadata": {
  "name": ""
 },
 "nbformat": 3,
 "nbformat_minor": 0,
 "worksheets": [
  {
   "cells": [
    {
     "cell_type": "code",
     "collapsed": false,
     "input": [
      "import json\n",
      "import random\n",
      "from pandas import DataFrame\n",
      "import matplotlib.pyplot as plt\n",
      "from pylab import rcParams\n",
      "%matplotlib inline"
     ],
     "language": "python",
     "metadata": {},
     "outputs": [],
     "prompt_number": 241
    },
    {
     "cell_type": "code",
     "collapsed": true,
     "input": [
      "data = []\n",
      "i=0\n",
      "with open('game_tweets.json') as f:\n",
      "    for line in f:\n",
      "        i=i+1\n",
      "        if i%2 == 1: #skip every other line since it is empty\n",
      "            data.append(json.loads(line))"
     ],
     "language": "python",
     "metadata": {},
     "outputs": [],
     "prompt_number": 2
    },
    {
     "cell_type": "code",
     "collapsed": false,
     "input": [
      "#number of keys in each ROW (tweet): 25,26,27\n",
      "counter={'25':0,'26':0,'27':0}\n",
      "for i in range(len(data)):\n",
      "    L = len(data[i].keys())\n",
      "    if L == 25:\n",
      "        counter['25'] += 1\n",
      "    elif L == 26:\n",
      "        counter['26'] += 1\n",
      "    else:\n",
      "        counter['27'] += 1"
     ],
     "language": "python",
     "metadata": {},
     "outputs": [],
     "prompt_number": 3
    },
    {
     "cell_type": "code",
     "collapsed": false,
     "input": [
      "counter"
     ],
     "language": "python",
     "metadata": {},
     "outputs": [
      {
       "metadata": {},
       "output_type": "pyout",
       "prompt_number": 4,
       "text": [
        "{'25': 2676, '26': 680, '27': 16644}"
       ]
      }
     ],
     "prompt_number": 4
    },
    {
     "cell_type": "code",
     "collapsed": false,
     "input": [
      "sum(counter.values())"
     ],
     "language": "python",
     "metadata": {},
     "outputs": [
      {
       "metadata": {},
       "output_type": "pyout",
       "prompt_number": 5,
       "text": [
        "20000"
       ]
      }
     ],
     "prompt_number": 5
    },
    {
     "cell_type": "code",
     "collapsed": false,
     "input": [
      "#name of KEYs per tweet\n",
      "for key, value in data[3222].iteritems():\n",
      "    print key"
     ],
     "language": "python",
     "metadata": {},
     "outputs": [
      {
       "output_type": "stream",
       "stream": "stdout",
       "text": [
        "contributors\n",
        "truncated\n",
        "text\n",
        "in_reply_to_status_id\n",
        "id\n",
        "favorite_count\n",
        "source\n",
        "retweeted\n",
        "coordinates\n",
        "timestamp_ms\n",
        "entities\n",
        "in_reply_to_screen_name\n",
        "id_str\n",
        "retweet_count\n",
        "in_reply_to_user_id\n",
        "favorited\n",
        "retweeted_status\n",
        "user\n",
        "geo\n",
        "in_reply_to_user_id_str\n",
        "possibly_sensitive\n",
        "lang\n",
        "created_at\n",
        "filter_level\n",
        "in_reply_to_status_id_str\n",
        "place\n",
        "extended_entities\n"
       ]
      }
     ],
     "prompt_number": 6
    },
    {
     "cell_type": "code",
     "collapsed": false,
     "input": [
      "#pick a tweet, pick a field to show (1)\n",
      "data[230]['text']"
     ],
     "language": "python",
     "metadata": {},
     "outputs": [
      {
       "metadata": {},
       "output_type": "pyout",
       "prompt_number": 179,
       "text": [
        "u'RT @IGN: NBC confirms they want to reboot Xena http://t.co/clM0JdNBX2 http://t.co/N6GlZFNdkX'"
       ]
      }
     ],
     "prompt_number": 179
    },
    {
     "cell_type": "code",
     "collapsed": false,
     "input": [
      "#followers\n",
      "import collections\n",
      "followers = collections.defaultdict(int)\n",
      "for tweet in data:\n",
      "    followers[tweet['user']['id_str']] = tweet['user']['followers_count']"
     ],
     "language": "python",
     "metadata": {},
     "outputs": [],
     "prompt_number": 13
    },
    {
     "cell_type": "code",
     "collapsed": false,
     "input": [
      "M=followers.values()"
     ],
     "language": "python",
     "metadata": {},
     "outputs": [],
     "prompt_number": 14
    },
    {
     "cell_type": "code",
     "collapsed": false,
     "input": [
      "import matplotlib.pyplot as plt"
     ],
     "language": "python",
     "metadata": {},
     "outputs": [],
     "prompt_number": 15
    },
    {
     "cell_type": "code",
     "collapsed": false,
     "input": [
      "plt.hist(M, bins=range(0,5000,50))\n",
      "plt.show()"
     ],
     "language": "python",
     "metadata": {},
     "outputs": [],
     "prompt_number": 16
    },
    {
     "cell_type": "code",
     "collapsed": false,
     "input": [
      "len(followers) #unique users"
     ],
     "language": "python",
     "metadata": {},
     "outputs": [
      {
       "metadata": {},
       "output_type": "pyout",
       "prompt_number": 17,
       "text": [
        "11877"
       ]
      }
     ],
     "prompt_number": 17
    },
    {
     "cell_type": "code",
     "collapsed": false,
     "input": [
      "#friends\n",
      "friends = collections.defaultdict(int)\n",
      "for tweet in data:\n",
      "    friends[tweet['user']['id_str']] += tweet['user']['friends_count']"
     ],
     "language": "python",
     "metadata": {},
     "outputs": [],
     "prompt_number": 117
    },
    {
     "cell_type": "code",
     "collapsed": false,
     "input": [
      "len(friends)"
     ],
     "language": "python",
     "metadata": {},
     "outputs": [
      {
       "metadata": {},
       "output_type": "pyout",
       "prompt_number": 118,
       "text": [
        "11877"
       ]
      }
     ],
     "prompt_number": 118
    },
    {
     "cell_type": "code",
     "collapsed": false,
     "input": [
      "#followers and friends\n",
      "followers_friends = collections.defaultdict(list)\n",
      "for tweet in data:\n",
      "    FoC  = tweet['user']['followers_count']\n",
      "    FrC  = tweet['user']['friends_count']\n",
      "    FavC = tweet['user']['favourites_count']\n",
      "    followers_friends[tweet['user']['id_str']] = [FoC,FrC,FavC]"
     ],
     "language": "python",
     "metadata": {},
     "outputs": [],
     "prompt_number": 134
    },
    {
     "cell_type": "code",
     "collapsed": false,
     "input": [
      "fullData = DataFrame(followers_friends.values(), columns=['followers','friends','favs'])"
     ],
     "language": "python",
     "metadata": {},
     "outputs": [],
     "prompt_number": 185
    },
    {
     "cell_type": "code",
     "collapsed": false,
     "input": [
      "#SCRIPT 2 for graph\n",
      "fig = plt.gcf()\n",
      "howManyUsers = 2000 #number of users to select\n",
      "df = fullData.ix[random.sample(fullData.index, howManyUsers)]"
     ],
     "language": "python",
     "metadata": {},
     "outputs": [
      {
       "metadata": {},
       "output_type": "display_data",
       "text": [
        "<matplotlib.figure.Figure at 0x7fe717293150>"
       ]
      }
     ],
     "prompt_number": 235
    },
    {
     "cell_type": "code",
     "collapsed": false,
     "input": [
      "max = 40000 #max number of friends and followers\n",
      "dfSelect = df[(df['friends'] < max) & (df['followers'] < max)]\n",
      "followers = dfSelect['followers'].tolist()\n",
      "friends = dfSelect['friends'].tolist()\n",
      "favs = dfSelect['favs'].tolist()"
     ],
     "language": "python",
     "metadata": {},
     "outputs": [],
     "prompt_number": 236
    },
    {
     "cell_type": "code",
     "collapsed": false,
     "input": [
      "rcParams['figure.figsize'] = 15, 10\n",
      "plt.scatter(followers, friends, marker='o', color='cyan', edgecolors='black', s = 150)\n",
      "plt.xlabel('Followers', fontsize=25)\n",
      "plt.ylabel('Friends', fontsize=25)\n",
      "plt.show()\n",
      "fig.savefig('Friends and Followers Scatter Plot.jpg')"
     ],
     "language": "python",
     "metadata": {},
     "outputs": [
      {
       "metadata": {},
       "output_type": "display_data",
       "png": "[encoded data removed]",
       "text": [
        "<matplotlib.figure.Figure at 0x7fe705382c90>"
       ]
      }
     ],
     "prompt_number": 249
    },
    {
     "cell_type": "code",
     "collapsed": false,
     "input": [],
     "language": "python",
     "metadata": {},
     "outputs": [],
     "prompt_number": 239
    },
    {
     "cell_type": "code",
     "collapsed": false,
     "input": [],
     "language": "python",
     "metadata": {},
     "outputs": []
    }
   ],
   "metadata": {}
  }
 ]
}
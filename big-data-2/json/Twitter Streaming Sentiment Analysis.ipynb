{
 "metadata": {
  "name": ""
 },
 "nbformat": 3,
 "nbformat_minor": 0,
 "worksheets": [
  {
   "cells": [
    {
     "cell_type": "code",
     "collapsed": false,
     "input": [
      "import json"
     ],
     "language": "python",
     "metadata": {},
     "outputs": [],
     "prompt_number": 1
    },
    {
     "cell_type": "code",
     "collapsed": false,
     "input": [
      "from tweepy.streaming import StreamListener"
     ],
     "language": "python",
     "metadata": {},
     "outputs": [],
     "prompt_number": 2
    },
    {
     "cell_type": "code",
     "collapsed": false,
     "input": [
      "from tweepy import OAuthHandler, Stream"
     ],
     "language": "python",
     "metadata": {},
     "outputs": [],
     "prompt_number": 3
    },
    {
     "cell_type": "code",
     "collapsed": false,
     "input": [
      "from textblob import TextBlob"
     ],
     "language": "python",
     "metadata": {},
     "outputs": [],
     "prompt_number": 4
    },
    {
     "cell_type": "code",
     "collapsed": false,
     "input": [
      "from login import *"
     ],
     "language": "python",
     "metadata": {},
     "outputs": [],
     "prompt_number": 6
    },
    {
     "cell_type": "code",
     "collapsed": false,
     "input": [
      "class TweetStreamListener(StreamListener):\n",
      "    def on_data(self, data):\n",
      "        tweet = json.loads(data)\n",
      "        analysis = TextBlob(tweet[\"text\"])\n",
      "        sentiment = \"Neutral  \"\n",
      "        if analysis.sentiment.polarity > 0:\n",
      "            sentiment = \"Positive \"\n",
      "        elif analysis.sentiment.polarity < 0:\n",
      "            sentiment = \"Negative \"\n",
      "        print \"\\n||\" + tweet[\"created_at\"][4:-10] + \"|| \" + sentiment + \" ::\" + tweet[\"text\"][:65]\n",
      "        return True\n",
      "    \n",
      "    def on_error(self, status):\n",
      "        print status\n",
      "        "
     ],
     "language": "python",
     "metadata": {},
     "outputs": [],
     "prompt_number": 7
    },
    {
     "cell_type": "code",
     "collapsed": false,
     "input": [
      "listener = TweetStreamListener()"
     ],
     "language": "python",
     "metadata": {},
     "outputs": [],
     "prompt_number": 8
    },
    {
     "cell_type": "code",
     "collapsed": false,
     "input": [
      "auth_key = OAuthHandler(consumer_key, consumer_secret)"
     ],
     "language": "python",
     "metadata": {},
     "outputs": [],
     "prompt_number": 9
    },
    {
     "cell_type": "code",
     "collapsed": false,
     "input": [
      "auth_key.set_access_token(access_token, access_token_secret)"
     ],
     "language": "python",
     "metadata": {},
     "outputs": [],
     "prompt_number": 10
    },
    {
     "cell_type": "code",
     "collapsed": false,
     "input": [
      "live_twitter_stream = Stream(auth_key, listener)"
     ],
     "language": "python",
     "metadata": {},
     "outputs": [],
     "prompt_number": 11
    },
    {
     "cell_type": "code",
     "collapsed": false,
     "input": [
      "live_twitter_stream.filter(track=['dodgers'])"
     ],
     "language": "python",
     "metadata": {},
     "outputs": [
      {
       "output_type": "stream",
       "stream": "stdout",
       "text": [
        "\n",
        "||Apr 18 17:34:57 || Neutral   ::LA signed Thatcher\n",
        "\n",
        "https://t.co/8dzEJEciyz\n",
        "\n",
        "||Apr 18 17:34:59 || Positive  ::RT @SportsCenter: Latest MLB Power Rankings (via @BBTN): \n",
        "1. Cubs"
       ]
      },
      {
       "output_type": "stream",
       "stream": "stdout",
       "text": [
        "\n",
        "\n",
        "||Apr 18 17:35:03 || Positive  ::RT @SportsCenter: Latest MLB Power Rankings (via @BBTN): \n",
        "1. Cubs"
       ]
      },
      {
       "output_type": "stream",
       "stream": "stdout",
       "text": [
        "\n",
        "\n",
        "||Apr 18 17:35:04 || Positive  ::RT @LA2024: \"It's a great honor to thank the JRF scholarship prog"
       ]
      },
      {
       "output_type": "stream",
       "stream": "stdout",
       "text": [
        "\n",
        "\n",
        "||Apr 18 17:35:05 || Neutral   ::LA Dodgers Give Helmets a #3Dprinted Twist \n",
        "\n",
        "https://t.co/7XFkksk"
       ]
      },
      {
       "output_type": "stream",
       "stream": "stdout",
       "text": [
        "\n",
        "\n",
        "||Apr 18 17:35:05 || Neutral   ::LA Dodgers Give Helmets a #3Dprinted Twist \n",
        "\n",
        "https://t.co/DAxEVRs"
       ]
      },
      {
       "output_type": "stream",
       "stream": "stdout",
       "text": [
        "\n",
        "\n",
        "||Apr 18 17:35:05 || Neutral   ::LA Dodgers Give Helmets a #3Dprinted Twist \n",
        "\n",
        "https://t.co/Yi1IAJ2\n",
        "\n",
        "||Apr 18 17:35:07 || Neutral   ::LA Dodgers Give Helmets a #3Dprinted Twist \n",
        "\n",
        "https://t.co/OkDB1BX"
       ]
      },
      {
       "output_type": "stream",
       "stream": "stdout",
       "text": [
        "\n",
        "\n",
        "||Apr 18 17:35:07 || Neutral   ::LA Dodgers Give Helmets a #3Dprinted Twist \n",
        "\n",
        "https://t.co/IWVjOMM"
       ]
      },
      {
       "output_type": "stream",
       "stream": "stdout",
       "text": [
        "\n",
        "\n",
        "||Apr 18 17:35:08 || Neutral   ::LA Dodgers Give Helmets a #3Dprinted Twist \n",
        "\n",
        "https://t.co/gi44Lhc"
       ]
      },
      {
       "output_type": "stream",
       "stream": "stdout",
       "text": [
        "\n",
        "\n",
        "||Apr 18 17:35:08 || Negative  ::RT @darrenrovell: This Date In 1950: Vin Scully calls his first D"
       ]
      },
      {
       "output_type": "stream",
       "stream": "stdout",
       "text": [
        "\n",
        "\n",
        "||Apr 18 17:35:14 || Positive  ::RT @espn: Latest MLB Power Rankings\n",
        "1. Cubs\n",
        "2. Royals\n",
        "3. National"
       ]
      },
      {
       "output_type": "stream",
       "stream": "stdout",
       "text": [
        "\n",
        "\n",
        "||Apr 18 17:35:15 || Positive  ::#Apparel Authentic Forty Seven Brand #LosAngeles #Dodgers #Hat ht"
       ]
      },
      {
       "output_type": "stream",
       "stream": "stdout",
       "text": [
        "\n",
        "\n",
        "||Apr 18 17:35:15 || Neutral   ::#MLB #Baseball Los Angeles LA #Dodgers vs. Arizona Diamondbacks 2"
       ]
      },
      {
       "output_type": "stream",
       "stream": "stdout",
       "text": [
        "\n",
        "\n",
        "||Apr 18 17:35:16 || Negative  ::#Collectible #Buzz Los Angeles LA #Dodgers vs. Arizona Diamondbac"
       ]
      },
      {
       "output_type": "stream",
       "stream": "stdout",
       "text": [
        "\n",
        "\n",
        "||Apr 18 17:35:22 || Positive  ::RT @JoeWalljasper: Great story from @Steve_Walentik about the wif"
       ]
      },
      {
       "output_type": "stream",
       "stream": "stdout",
       "text": [
        "\n",
        "\n",
        "||Apr 18 17:35:22 || Neutral   ::\"Bumped\"... I see what you did there. https://t.co/V6QPeoBXd3"
       ]
      },
      {
       "output_type": "stream",
       "stream": "stdout",
       "text": [
        "\n",
        "\n",
        "||Apr 18 17:35:33 || Positive  ::RT @espn: Latest MLB Power Rankings\n",
        "1. Cubs\n",
        "2. Royals\n",
        "3. National"
       ]
      },
      {
       "output_type": "stream",
       "stream": "stdout",
       "text": [
        "\n",
        "\n",
        "||Apr 18 17:35:34 || Positive  ::RT @espn: Latest MLB Power Rankings\n",
        "1. Cubs\n",
        "2. Royals\n",
        "3. National"
       ]
      },
      {
       "output_type": "stream",
       "stream": "stdout",
       "text": [
        "\n",
        "\n",
        "||Apr 18 17:35:41 || Positive  ::RT @SportsCenter: Latest MLB Power Rankings (via @BBTN): \n",
        "1. Cubs"
       ]
      },
      {
       "output_type": "stream",
       "stream": "stdout",
       "text": [
        "\n",
        "\n",
        "||Apr 18 17:35:42 || Neutral   ::Mis #Padres gan\u00e1ndole a los Dodgers, que hermosura"
       ]
      },
      {
       "output_type": "stream",
       "stream": "stdout",
       "text": [
        "\n",
        "\n",
        "||Apr 18 17:35:43 || Positive  ::RT @RedHotSquirrel: Just the 100 most burdonsome EU regulations a"
       ]
      },
      {
       "output_type": "stream",
       "stream": "stdout",
       "text": [
        "\n",
        "\n",
        "||Apr 18 17:35:46 || Positive  ::RT @SportsCenter: Latest MLB Power Rankings (via @BBTN): \n",
        "1. Cubs"
       ]
      },
      {
       "output_type": "stream",
       "stream": "stdout",
       "text": [
        "\n",
        "\n",
        "||Apr 18 17:35:49 || Neutral   ::[ \u30c9\u30b8\u30e3\u30fc\u30b9 \u524d\u7530\u5065\u592a ] \u30e1\u30b8\u30e3\u30fc\u521d\u5931\u70b9\u30822\u52dd\u76ee\uff01\u5168\u6253\u8005\uff06\u6253\u5e2d\u7d50\u679c 2016.4.18 Los Angeles Dodgers"
       ]
      },
      {
       "output_type": "stream",
       "stream": "stdout",
       "text": [
        "\n",
        "\n",
        "||Apr 18 17:35:54 || Positive  ::RT @psains659: What was it Osborne was saying about taking action"
       ]
      },
      {
       "output_type": "stream",
       "stream": "stdout",
       "text": [
        "\n",
        "\n",
        "||Apr 18 17:35:55 || Positive  ::If you are looking for a good Dodgers news digest, I quite like t"
       ]
      },
      {
       "output_type": "stream",
       "stream": "stdout",
       "text": [
        "\n",
        "\n",
        "||Apr 18 17:36:10 || Positive  ::RT @espn: Latest MLB Power Rankings\n",
        "1. Cubs\n",
        "2. Royals\n",
        "3. National"
       ]
      },
      {
       "output_type": "stream",
       "stream": "stdout",
       "text": [
        "\n",
        "\n",
        "||Apr 18 17:36:11 || Positive  ::RT @espn: Latest MLB Power Rankings\n",
        "1. Cubs\n",
        "2. Royals\n",
        "3. National"
       ]
      },
      {
       "output_type": "stream",
       "stream": "stdout",
       "text": [
        "\n",
        "\n",
        "||Apr 18 17:36:11 || Neutral   ::@BasedDodgersFan nah dodgers have an off day"
       ]
      },
      {
       "output_type": "stream",
       "stream": "stdout",
       "text": [
        "\n",
        "\n",
        "||Apr 18 17:36:15 || Positive  ::RT @espn: Latest MLB Power Rankings\n",
        "1. Cubs\n",
        "2. Royals\n",
        "3. National"
       ]
      },
      {
       "output_type": "stream",
       "stream": "stdout",
       "text": [
        "\n",
        "\n",
        "||Apr 18 17:36:19 || Positive  ::RT @espn: Latest MLB Power Rankings\n",
        "1. Cubs\n",
        "2. Royals\n",
        "3. National"
       ]
      },
      {
       "output_type": "stream",
       "stream": "stdout",
       "text": [
        "\n",
        "\n",
        "||Apr 18 17:36:22 || Positive  ::RT @SportsCenter: Latest MLB Power Rankings (via @BBTN): \n",
        "1. Cubs"
       ]
      },
      {
       "output_type": "stream",
       "stream": "stdout",
       "text": [
        "\n",
        "\n",
        "||Apr 18 17:36:39 || Neutral   ::RT @Dodgers: .@yungjoc650  !!!! https://t.co/35B6rPdGYC"
       ]
      },
      {
       "output_type": "stream",
       "stream": "stdout",
       "text": [
        "\n",
        "\n",
        "||Apr 18 17:36:41 || Neutral   ::Dodgers' Kazmir roughed up again by Giants - SFGate.. Related Art"
       ]
      },
      {
       "output_type": "stream",
       "stream": "stdout",
       "text": [
        "\n",
        "\n",
        "||Apr 18 17:36:43 || Neutral   ::#MLB Andy Pafko #Autograph picture - Brooklyn Dodgers, Chicago #C"
       ]
      },
      {
       "output_type": "stream",
       "stream": "stdout",
       "text": [
        "\n",
        "\n",
        "||Apr 18 17:36:44 || Neutral   ::RT @Dodgers: COREY SEAGER!!!!!! https://t.co/k0pr5ENGwP"
       ]
      },
      {
       "output_type": "stream",
       "stream": "stdout",
       "text": [
        "\n",
        "\n",
        "||Apr 18 17:36:44 || Neutral   ::#Ticket \u2013 2 TIX-DODGERS VS MIAMI MARLINS THURS 4/28/16 7:10PM -LO"
       ]
      },
      {
       "output_type": "stream",
       "stream": "stdout",
       "text": [
        "\n",
        "\n",
        "||Apr 18 17:36:48 || Positive  ::RT @espn: Latest MLB Power Rankings\n",
        "1. Cubs\n",
        "2. Royals\n",
        "3. National"
       ]
      },
      {
       "output_type": "stream",
       "stream": "stdout",
       "text": [
        "\n",
        "\n",
        "||Apr 18 17:36:52 || Positive  ::RT @espn: Latest MLB Power Rankings\n",
        "1. Cubs\n",
        "2. Royals\n",
        "3. National"
       ]
      },
      {
       "output_type": "stream",
       "stream": "stdout",
       "text": [
        "\n",
        "\n",
        "||Apr 18 17:36:53 || Positive  ::ICYMI: Dodgers player asks for fan's shoes in exchange for his gl"
       ]
      },
      {
       "output_type": "stream",
       "stream": "stdout",
       "text": [
        "\n",
        "\n",
        "||Apr 18 17:37:01 || Positive  ::RT @SportsCenter: Latest MLB Power Rankings (via @BBTN): \n",
        "1. Cubs"
       ]
      },
      {
       "output_type": "stream",
       "stream": "stdout",
       "text": [
        "\n",
        "\n",
        "||Apr 18 17:37:04 || Positive  ::RT @BarDown: ICYMI: Dodgers player asks for fan's shoes in exchan"
       ]
      },
      {
       "output_type": "stream",
       "stream": "stdout",
       "text": [
        "\n",
        "\n",
        "||Apr 18 17:37:10 || Neutral   ::#MLB #Dodgers #Topps Heritage #ZackGreinke Mini /100 https://t.co"
       ]
      },
      {
       "output_type": "stream",
       "stream": "stdout",
       "text": [
        "\n",
        "\n",
        "||Apr 18 17:37:12 || Neutral   ::#Memorabilia Q288 VINTAGE 1969 LOT METS CUBS TIGERS RED SOX #Phot"
       ]
      },
      {
       "output_type": "stream",
       "stream": "stdout",
       "text": [
        "\n",
        "\n",
        "||Apr 18 17:37:19 || Neutral   ::#Ticket - 2 TIX-DODGERS VS MIAMI MARLINS THURS 4/28/16 7:10PM -LO"
       ]
      },
      {
       "output_type": "stream",
       "stream": "stdout",
       "text": [
        "\n",
        "\n",
        "||Apr 18 17:37:21 || Positive  ::All Top 10 Corporate #Tax Dodgers Donated to #Hillary #Clinton 45"
       ]
      },
      {
       "output_type": "stream",
       "stream": "stdout",
       "text": [
        "\n",
        "\n",
        "||Apr 18 17:37:34 || Positive  ::RT @NancySinatra: Dear Vin, you are the poet laureate of baseball"
       ]
      }
     ],
     "prompt_number": "*"
    },
    {
     "cell_type": "code",
     "collapsed": false,
     "input": [],
     "language": "python",
     "metadata": {},
     "outputs": []
    }
   ],
   "metadata": {}
  }
 ]
}